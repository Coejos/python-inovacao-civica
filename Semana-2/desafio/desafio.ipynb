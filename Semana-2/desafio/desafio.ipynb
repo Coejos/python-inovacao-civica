{
 "cells": [
  {
   "cell_type": "markdown",
   "source": [
    "# Estatística descritiva e pré-processamento\n",
    "\n",
    "Neste desafio, iremos revisar alguns conceitos vistos nas aulas e ver algumas novidades. Os dados originais são do [repositório de dados eleitorais do Tribunal Superior Eleitoral](https://www.tse.jus.br/eleicoes/estatisticas/repositorio-de-dados-eleitorais-1). \n",
    "\n",
    "O CSV disponibilizado é formado pela conjunção de algumas tabelas do arquivo [orgao_partidario.zip](https://cdn.tse.jus.br/estatistica/sead/odsele/orgao_partidario/orgao_partidario.zip), localizado no menu Partidos > Órgão Partidário.\n",
    "\n",
    "Preencha as lacunas abaixo para completar o desafio."
   ],
   "metadata": {}
  },
  {
   "cell_type": "markdown",
   "source": [
    "# Importe os pacotes necessários"
   ],
   "metadata": {}
  },
  {
   "cell_type": "code",
   "execution_count": 1,
   "source": [
    "import pandas as pd\n",
    "import numpy as np"
   ],
   "outputs": [],
   "metadata": {}
  },
  {
   "cell_type": "markdown",
   "source": [
    "# Leia o arquivo \"receitas_orgaos_partidarios_2020_NORDESTE.csv\" usando o Pandas\n",
    "\n",
    "Na aula `1.10 - Outliers e valores faltantes`, vimos como utilizar o método `replace` para substituir valores em certos colunas do nosso dataframe e trocar o texto (string) `#NULO#` pela representação padrão do Pandas para valores nulos.\n",
    "\n",
    "Neste desafio, vamos utilizar um outro método, onde definimos quais strings serão considerados valores nulos já na importação do arquivo.\n",
    "\n",
    "Edite as células abaixo e inclua:\n",
    "\n",
    "* O nome do arquivo que queremos importar\n",
    "* O separador utilizado\n",
    "* Insira uma lista no parâmetro `na_values` que contenha o texto a ser ignorado.\n",
    "\n",
    "Experimente rodar os comandos primeiro sem e depois com o parâmetro `na_values`, então, compare a diferença. Observe, por exemplo, o campo `CD_CNAE_DOADOR`."
   ],
   "metadata": {}
  },
  {
   "cell_type": "code",
   "execution_count": 3,
   "source": [
    "df = pd.read_csv('receitas_orgaos_partidarios_2020_NORDESTE.csv',sep=';')\n",
    "\n",
    "df.info()"
   ],
   "outputs": [
    {
     "output_type": "stream",
     "name": "stdout",
     "text": [
      "<class 'pandas.core.frame.DataFrame'>\n",
      "RangeIndex: 12874 entries, 0 to 12873\n",
      "Data columns (total 48 columns):\n",
      " #   Column                       Non-Null Count  Dtype \n",
      "---  ------                       --------------  ----- \n",
      " 0   DT_GERACAO                   12874 non-null  object\n",
      " 1   HH_GERACAO                   12874 non-null  object\n",
      " 2   ANO_ELEICAO                  12874 non-null  int64 \n",
      " 3   CD_TIPO_ELEICAO              12874 non-null  int64 \n",
      " 4   NM_TIPO_ELEICAO              12874 non-null  object\n",
      " 5   TP_PRESTACAO_CONTAS          12874 non-null  object\n",
      " 6   DT_PRESTACAO_CONTAS          12874 non-null  object\n",
      " 7   SQ_PRESTADOR_CONTAS          12874 non-null  int64 \n",
      " 8   CD_ESFERA_PARTIDARIA         12874 non-null  object\n",
      " 9   DS_ESFERA_PARTIDARIA         12874 non-null  object\n",
      " 10  SG_UF                        12874 non-null  object\n",
      " 11  CD_MUNICIPIO                 12874 non-null  int64 \n",
      " 12  NM_MUNICIPIO                 12874 non-null  object\n",
      " 13  NR_CNPJ_PRESTADOR_CONTA      12874 non-null  int64 \n",
      " 14  NR_PARTIDO                   12874 non-null  int64 \n",
      " 15  SG_PARTIDO                   12874 non-null  object\n",
      " 16  NM_PARTIDO                   12874 non-null  object\n",
      " 17  CD_FONTE_RECEITA             12874 non-null  int64 \n",
      " 18  DS_FONTE_RECEITA             12874 non-null  object\n",
      " 19  CD_ORIGEM_RECEITA            12874 non-null  int64 \n",
      " 20  DS_ORIGEM_RECEITA            12874 non-null  object\n",
      " 21  CD_NATUREZA_RECEITA          12874 non-null  int64 \n",
      " 22  DS_NATUREZA_RECEITA          12874 non-null  object\n",
      " 23  CD_ESPECIE_RECEITA           12874 non-null  int64 \n",
      " 24  DS_ESPECIE_RECEITA           12874 non-null  object\n",
      " 25  CD_CNAE_DOADOR               12874 non-null  int64 \n",
      " 26  DS_CNAE_DOADOR               12874 non-null  object\n",
      " 27  NR_CPF_CNPJ_DOADOR           12874 non-null  int64 \n",
      " 28  NM_DOADOR                    12874 non-null  object\n",
      " 29  NM_DOADOR_RFB                12874 non-null  object\n",
      " 30  CD_ESFERA_PARTIDARIA_DOADOR  12874 non-null  object\n",
      " 31  DS_ESFERA_PARTIDARIA_DOADOR  12874 non-null  object\n",
      " 32  SG_UF_DOADOR                 12874 non-null  object\n",
      " 33  CD_MUNICIPIO_DOADOR          12874 non-null  int64 \n",
      " 34  NM_MUNICIPIO_DOADOR          12874 non-null  object\n",
      " 35  SQ_CANDIDATO_DOADOR          12874 non-null  int64 \n",
      " 36  NR_CANDIDATO_DOADOR          12874 non-null  int64 \n",
      " 37  CD_CARGO_CANDIDATO_DOADOR    12874 non-null  int64 \n",
      " 38  DS_CARGO_CANDIDATO_DOADOR    12874 non-null  object\n",
      " 39  NR_PARTIDO_DOADOR            12874 non-null  int64 \n",
      " 40  SG_PARTIDO_DOADOR            12874 non-null  object\n",
      " 41  NM_PARTIDO_DOADOR            12874 non-null  object\n",
      " 42  NR_RECIBO_DOACAO             12874 non-null  object\n",
      " 43  NR_DOCUMENTO_DOACAO          12874 non-null  object\n",
      " 44  SQ_RECEITA                   12874 non-null  int64 \n",
      " 45  DT_RECEITA                   12874 non-null  object\n",
      " 46  DS_RECEITA                   12874 non-null  object\n",
      " 47  VR_RECEITA                   12874 non-null  int64 \n",
      "dtypes: int64(19), object(29)\n",
      "memory usage: 4.7+ MB\n"
     ]
    }
   ],
   "metadata": {}
  },
  {
   "cell_type": "code",
   "execution_count": 4,
   "source": [
    "df = pd.read_csv('receitas_orgaos_partidarios_2020_NORDESTE.csv',sep=';',na_values=['#NULO#'])\n",
    "\n",
    "df.info()"
   ],
   "outputs": [
    {
     "output_type": "stream",
     "name": "stdout",
     "text": [
      "<class 'pandas.core.frame.DataFrame'>\n",
      "RangeIndex: 12874 entries, 0 to 12873\n",
      "Data columns (total 48 columns):\n",
      " #   Column                       Non-Null Count  Dtype \n",
      "---  ------                       --------------  ----- \n",
      " 0   DT_GERACAO                   12874 non-null  object\n",
      " 1   HH_GERACAO                   12874 non-null  object\n",
      " 2   ANO_ELEICAO                  12874 non-null  int64 \n",
      " 3   CD_TIPO_ELEICAO              12874 non-null  int64 \n",
      " 4   NM_TIPO_ELEICAO              12874 non-null  object\n",
      " 5   TP_PRESTACAO_CONTAS          12874 non-null  object\n",
      " 6   DT_PRESTACAO_CONTAS          12874 non-null  object\n",
      " 7   SQ_PRESTADOR_CONTAS          12874 non-null  int64 \n",
      " 8   CD_ESFERA_PARTIDARIA         12874 non-null  object\n",
      " 9   DS_ESFERA_PARTIDARIA         12874 non-null  object\n",
      " 10  SG_UF                        12874 non-null  object\n",
      " 11  CD_MUNICIPIO                 12874 non-null  int64 \n",
      " 12  NM_MUNICIPIO                 11606 non-null  object\n",
      " 13  NR_CNPJ_PRESTADOR_CONTA      12874 non-null  int64 \n",
      " 14  NR_PARTIDO                   12874 non-null  int64 \n",
      " 15  SG_PARTIDO                   12874 non-null  object\n",
      " 16  NM_PARTIDO                   12874 non-null  object\n",
      " 17  CD_FONTE_RECEITA             12874 non-null  int64 \n",
      " 18  DS_FONTE_RECEITA             12874 non-null  object\n",
      " 19  CD_ORIGEM_RECEITA            12874 non-null  int64 \n",
      " 20  DS_ORIGEM_RECEITA            12874 non-null  object\n",
      " 21  CD_NATUREZA_RECEITA          12874 non-null  int64 \n",
      " 22  DS_NATUREZA_RECEITA          12874 non-null  object\n",
      " 23  CD_ESPECIE_RECEITA           12874 non-null  int64 \n",
      " 24  DS_ESPECIE_RECEITA           12874 non-null  object\n",
      " 25  CD_CNAE_DOADOR               12874 non-null  int64 \n",
      " 26  DS_CNAE_DOADOR               5977 non-null   object\n",
      " 27  NR_CPF_CNPJ_DOADOR           12874 non-null  int64 \n",
      " 28  NM_DOADOR                    12785 non-null  object\n",
      " 29  NM_DOADOR_RFB                12784 non-null  object\n",
      " 30  CD_ESFERA_PARTIDARIA_DOADOR  3233 non-null   object\n",
      " 31  DS_ESFERA_PARTIDARIA_DOADOR  3233 non-null   object\n",
      " 32  SG_UF_DOADOR                 5976 non-null   object\n",
      " 33  CD_MUNICIPIO_DOADOR          12874 non-null  int64 \n",
      " 34  NM_MUNICIPIO_DOADOR          3162 non-null   object\n",
      " 35  SQ_CANDIDATO_DOADOR          12874 non-null  int64 \n",
      " 36  NR_CANDIDATO_DOADOR          12874 non-null  int64 \n",
      " 37  CD_CARGO_CANDIDATO_DOADOR    12874 non-null  int64 \n",
      " 38  DS_CARGO_CANDIDATO_DOADOR    2743 non-null   object\n",
      " 39  NR_PARTIDO_DOADOR            12874 non-null  int64 \n",
      " 40  SG_PARTIDO_DOADOR            5976 non-null   object\n",
      " 41  NM_PARTIDO_DOADOR            5976 non-null   object\n",
      " 42  NR_RECIBO_DOACAO             10955 non-null  object\n",
      " 43  NR_DOCUMENTO_DOACAO          9020 non-null   object\n",
      " 44  SQ_RECEITA                   12874 non-null  int64 \n",
      " 45  DT_RECEITA                   12874 non-null  object\n",
      " 46  DS_RECEITA                   3301 non-null   object\n",
      " 47  VR_RECEITA                   12874 non-null  int64 \n",
      "dtypes: int64(19), object(29)\n",
      "memory usage: 4.7+ MB\n"
     ]
    }
   ],
   "metadata": {}
  },
  {
   "cell_type": "markdown",
   "source": [
    "# Filtre apenas os registros que sejam da prestação de contas final\n"
   ],
   "metadata": {}
  },
  {
   "cell_type": "code",
   "execution_count": 5,
   "source": [
    "# Primeiro vamos ver os valores únicas da coluna TP_PRESTACAO_CONTAS\n",
    "\n",
    "df['TP_PRESTACAO_CONTAS'].unique()"
   ],
   "outputs": [
    {
     "output_type": "execute_result",
     "data": {
      "text/plain": [
       "array(['Final', 'Relatório Financeiro', 'Parcial',\n",
       "       'Regularização da Omissão'], dtype=object)"
      ]
     },
     "metadata": {},
     "execution_count": 5
    }
   ],
   "metadata": {}
  },
  {
   "cell_type": "code",
   "execution_count": 6,
   "source": [
    "# O resultado deste comando nos diz que temos 12874 linhas e 48 colunas antes do filtro\n",
    "df.shape"
   ],
   "outputs": [
    {
     "output_type": "execute_result",
     "data": {
      "text/plain": [
       "(12874, 48)"
      ]
     },
     "metadata": {},
     "execution_count": 6
    }
   ],
   "metadata": {}
  },
  {
   "cell_type": "code",
   "execution_count": 7,
   "source": [
    "# Preencha o campo os espaços abaixo com o nome da coluna e o valor desejado para nosso filtro\n",
    "\n",
    "df_final = df[df['TP_PRESTACAO_CONTAS'] == 'Final']\n"
   ],
   "outputs": [],
   "metadata": {}
  },
  {
   "cell_type": "code",
   "execution_count": 8,
   "source": [
    "# Rode o comando shape no novo dataframe criado e confira se o número de linhas foi reduzido\n",
    "\n",
    "df_final.shape"
   ],
   "outputs": [
    {
     "output_type": "execute_result",
     "data": {
      "text/plain": [
       "(12288, 48)"
      ]
     },
     "metadata": {},
     "execution_count": 8
    }
   ],
   "metadata": {}
  },
  {
   "cell_type": "markdown",
   "source": [
    "## Qual foi a maior doação de pessoa física e pessoa jurídica em cada estado?\n",
    "\n",
    "Vamos usar o método `value_counts` para não só listar cada valor único da coluna `CD_CNAE_DOADOR`, como também mostrar quantos registros temos em cada um."
   ],
   "metadata": {}
  },
  {
   "cell_type": "code",
   "execution_count": 9,
   "source": [
    "# Preencha o nome da coluna abaixo\n",
    "\n",
    "df_final['CD_CNAE_DOADOR'].value_counts()"
   ],
   "outputs": [
    {
     "output_type": "execute_result",
     "data": {
      "text/plain": [
       "-1        6509\n",
       " 94928    5735\n",
       " 94308      37\n",
       " 14126       3\n",
       " 62023       1\n",
       " 84116       1\n",
       " 94995       1\n",
       " 17311       1\n",
       "Name: CD_CNAE_DOADOR, dtype: int64"
      ]
     },
     "metadata": {},
     "execution_count": 9
    }
   ],
   "metadata": {}
  },
  {
   "cell_type": "code",
   "execution_count": 10,
   "source": [
    "# Para ver os resultados em percentuais é fácil! Basta falarmos para o value_counts que queremos os resultados normalizados\n",
    "\n",
    "df_final['CD_CNAE_DOADOR'].value_counts(normalize=True)"
   ],
   "outputs": [
    {
     "output_type": "execute_result",
     "data": {
      "text/plain": [
       "-1        0.529704\n",
       " 94928    0.466715\n",
       " 94308    0.003011\n",
       " 14126    0.000244\n",
       " 62023    0.000081\n",
       " 84116    0.000081\n",
       " 94995    0.000081\n",
       " 17311    0.000081\n",
       "Name: CD_CNAE_DOADOR, dtype: float64"
      ]
     },
     "metadata": {},
     "execution_count": 10
    }
   ],
   "metadata": {}
  },
  {
   "cell_type": "markdown",
   "source": [
    "Se o doador for pessoa jurídica, temos seu respectivo código CNAE. Se for pessoa física, então temos o valor `-1`. \n",
    "\n",
    "Qual conclusão podemos tirar a respeito dos comandos acima?\n",
    "\n",
    "Escreva um **comentário** na célula abaixo com a resposta."
   ],
   "metadata": {}
  },
  {
   "cell_type": "code",
   "execution_count": 11,
   "source": [
    "# Mais da metade dos registros são de pessoas físicas."
   ],
   "outputs": [],
   "metadata": {}
  },
  {
   "cell_type": "markdown",
   "source": [
    "Agora, vamos duplicar a coluna `CD_CNAE_DOADOR` e deixar esta nova coluna apenas com 2 categorias: física (representada pelo valor -1) ou jurídica (que vamos representar inicialmente com 1)."
   ],
   "metadata": {}
  },
  {
   "cell_type": "code",
   "execution_count": 23,
   "source": [
    "# Primeiro crie uma nova coluna que seja uma cópia exata da coluna CD_CNAE_DOADOR\n",
    "\n",
    "df_final['TIPO_DOADOR'] = df_final['CD_CNAE_DOADOR']"
   ],
   "outputs": [
    {
     "output_type": "stream",
     "name": "stderr",
     "text": [
      "<ipython-input-23-5da703df0fab>:3: SettingWithCopyWarning: \n",
      "A value is trying to be set on a copy of a slice from a DataFrame.\n",
      "Try using .loc[row_indexer,col_indexer] = value instead\n",
      "\n",
      "See the caveats in the documentation: https://pandas.pydata.org/pandas-docs/stable/user_guide/indexing.html#returning-a-view-versus-a-copy\n",
      "  df_final['TIPO_DOADOR'] = df_final['CD_CNAE_DOADOR']\n"
     ]
    }
   ],
   "metadata": {}
  },
  {
   "cell_type": "markdown",
   "source": [
    "## Substituição condicional (conditional replacing)\n",
    "\n",
    "Agora, vamos usar o método where do pacote NumPy (carinhosamente chamado de np abaixo).\n",
    "\n",
    "Esta função recebe três parâmetros:\n",
    "\n",
    "* Uma condição: no nosso caso, queremos que filtrar as coluna do CNAE onde os valores sejam -1\n",
    "* Um valor: caso a condição acima seja verdadeira, qual valor deverá ser retornado?\n",
    "* Outro valor: se a condição for falsa, então, qual outro valor deverá ser retornado?\n"
   ],
   "metadata": {}
  },
  {
   "cell_type": "code",
   "execution_count": 24,
   "source": [
    "df_final['TIPO_DOADOR'] = np.where(df_final['CD_CNAE_DOADOR']==-1, 'fisica', 'juridica')"
   ],
   "outputs": [
    {
     "output_type": "stream",
     "name": "stderr",
     "text": [
      "<ipython-input-24-2de497b115a8>:1: SettingWithCopyWarning: \n",
      "A value is trying to be set on a copy of a slice from a DataFrame.\n",
      "Try using .loc[row_indexer,col_indexer] = value instead\n",
      "\n",
      "See the caveats in the documentation: https://pandas.pydata.org/pandas-docs/stable/user_guide/indexing.html#returning-a-view-versus-a-copy\n",
      "  df_final['TIPO_DOADOR'] = np.where(df_final['CD_CNAE_DOADOR']==-1, 'fisica', 'juridica')\n"
     ]
    }
   ],
   "metadata": {}
  },
  {
   "cell_type": "markdown",
   "source": [
    "### Agrupando (group by)"
   ],
   "metadata": {}
  },
  {
   "cell_type": "code",
   "execution_count": 39,
   "source": [
    "# Preencha abaixo primeiro uma lista com as 3 colunas que precisamos utilizar para responder à pergunta. E depois o nome das 2 colunas que precisamos agrupar.\n",
    "\n",
    "df_final[['TIPO_DOADOR','SG_UF','VR_RECEITA']].groupby(by=['TIPO_DOADOR','SG_UF']).max()"
   ],
   "outputs": [
    {
     "output_type": "execute_result",
     "data": {
      "text/plain": [
       "                   VR_RECEITA\n",
       "TIPO_DOADOR SG_UF            \n",
       "fisica      AL          17665\n",
       "            BA         200000\n",
       "            CE         200000\n",
       "            MA         100000\n",
       "            PB          23000\n",
       "            PE         150000\n",
       "            PI          23708\n",
       "            RN          25000\n",
       "            SE          31000\n",
       "juridica    AL        3900000\n",
       "            BA       11900000\n",
       "            CE        3900000\n",
       "            MA        3900000\n",
       "            PB        2169395\n",
       "            PE        4998000\n",
       "            PI        3900000\n",
       "            RN        3900000\n",
       "            SE        4000000"
      ],
      "text/html": [
       "<div>\n",
       "<style scoped>\n",
       "    .dataframe tbody tr th:only-of-type {\n",
       "        vertical-align: middle;\n",
       "    }\n",
       "\n",
       "    .dataframe tbody tr th {\n",
       "        vertical-align: top;\n",
       "    }\n",
       "\n",
       "    .dataframe thead th {\n",
       "        text-align: right;\n",
       "    }\n",
       "</style>\n",
       "<table border=\"1\" class=\"dataframe\">\n",
       "  <thead>\n",
       "    <tr style=\"text-align: right;\">\n",
       "      <th></th>\n",
       "      <th></th>\n",
       "      <th>VR_RECEITA</th>\n",
       "    </tr>\n",
       "    <tr>\n",
       "      <th>TIPO_DOADOR</th>\n",
       "      <th>SG_UF</th>\n",
       "      <th></th>\n",
       "    </tr>\n",
       "  </thead>\n",
       "  <tbody>\n",
       "    <tr>\n",
       "      <th rowspan=\"9\" valign=\"top\">fisica</th>\n",
       "      <th>AL</th>\n",
       "      <td>17665</td>\n",
       "    </tr>\n",
       "    <tr>\n",
       "      <th>BA</th>\n",
       "      <td>200000</td>\n",
       "    </tr>\n",
       "    <tr>\n",
       "      <th>CE</th>\n",
       "      <td>200000</td>\n",
       "    </tr>\n",
       "    <tr>\n",
       "      <th>MA</th>\n",
       "      <td>100000</td>\n",
       "    </tr>\n",
       "    <tr>\n",
       "      <th>PB</th>\n",
       "      <td>23000</td>\n",
       "    </tr>\n",
       "    <tr>\n",
       "      <th>PE</th>\n",
       "      <td>150000</td>\n",
       "    </tr>\n",
       "    <tr>\n",
       "      <th>PI</th>\n",
       "      <td>23708</td>\n",
       "    </tr>\n",
       "    <tr>\n",
       "      <th>RN</th>\n",
       "      <td>25000</td>\n",
       "    </tr>\n",
       "    <tr>\n",
       "      <th>SE</th>\n",
       "      <td>31000</td>\n",
       "    </tr>\n",
       "    <tr>\n",
       "      <th rowspan=\"9\" valign=\"top\">juridica</th>\n",
       "      <th>AL</th>\n",
       "      <td>3900000</td>\n",
       "    </tr>\n",
       "    <tr>\n",
       "      <th>BA</th>\n",
       "      <td>11900000</td>\n",
       "    </tr>\n",
       "    <tr>\n",
       "      <th>CE</th>\n",
       "      <td>3900000</td>\n",
       "    </tr>\n",
       "    <tr>\n",
       "      <th>MA</th>\n",
       "      <td>3900000</td>\n",
       "    </tr>\n",
       "    <tr>\n",
       "      <th>PB</th>\n",
       "      <td>2169395</td>\n",
       "    </tr>\n",
       "    <tr>\n",
       "      <th>PE</th>\n",
       "      <td>4998000</td>\n",
       "    </tr>\n",
       "    <tr>\n",
       "      <th>PI</th>\n",
       "      <td>3900000</td>\n",
       "    </tr>\n",
       "    <tr>\n",
       "      <th>RN</th>\n",
       "      <td>3900000</td>\n",
       "    </tr>\n",
       "    <tr>\n",
       "      <th>SE</th>\n",
       "      <td>4000000</td>\n",
       "    </tr>\n",
       "  </tbody>\n",
       "</table>\n",
       "</div>"
      ]
     },
     "metadata": {},
     "execution_count": 39
    }
   ],
   "metadata": {}
  },
  {
   "cell_type": "code",
   "execution_count": 40,
   "source": [
    "# Para repetir o valor da coluna TIPO_DOADOR nas linhas, podemos colocar o parâmetro as_index=False\n",
    "\n",
    "df_final[['TIPO_DOADOR','SG_UF','VR_RECEITA']].groupby(by=['TIPO_DOADOR','SG_UF'],as_index=False).max()"
   ],
   "outputs": [
    {
     "output_type": "execute_result",
     "data": {
      "text/plain": [
       "   TIPO_DOADOR SG_UF  VR_RECEITA\n",
       "0       fisica    AL       17665\n",
       "1       fisica    BA      200000\n",
       "2       fisica    CE      200000\n",
       "3       fisica    MA      100000\n",
       "4       fisica    PB       23000\n",
       "5       fisica    PE      150000\n",
       "6       fisica    PI       23708\n",
       "7       fisica    RN       25000\n",
       "8       fisica    SE       31000\n",
       "9     juridica    AL     3900000\n",
       "10    juridica    BA    11900000\n",
       "11    juridica    CE     3900000\n",
       "12    juridica    MA     3900000\n",
       "13    juridica    PB     2169395\n",
       "14    juridica    PE     4998000\n",
       "15    juridica    PI     3900000\n",
       "16    juridica    RN     3900000\n",
       "17    juridica    SE     4000000"
      ],
      "text/html": [
       "<div>\n",
       "<style scoped>\n",
       "    .dataframe tbody tr th:only-of-type {\n",
       "        vertical-align: middle;\n",
       "    }\n",
       "\n",
       "    .dataframe tbody tr th {\n",
       "        vertical-align: top;\n",
       "    }\n",
       "\n",
       "    .dataframe thead th {\n",
       "        text-align: right;\n",
       "    }\n",
       "</style>\n",
       "<table border=\"1\" class=\"dataframe\">\n",
       "  <thead>\n",
       "    <tr style=\"text-align: right;\">\n",
       "      <th></th>\n",
       "      <th>TIPO_DOADOR</th>\n",
       "      <th>SG_UF</th>\n",
       "      <th>VR_RECEITA</th>\n",
       "    </tr>\n",
       "  </thead>\n",
       "  <tbody>\n",
       "    <tr>\n",
       "      <th>0</th>\n",
       "      <td>fisica</td>\n",
       "      <td>AL</td>\n",
       "      <td>17665</td>\n",
       "    </tr>\n",
       "    <tr>\n",
       "      <th>1</th>\n",
       "      <td>fisica</td>\n",
       "      <td>BA</td>\n",
       "      <td>200000</td>\n",
       "    </tr>\n",
       "    <tr>\n",
       "      <th>2</th>\n",
       "      <td>fisica</td>\n",
       "      <td>CE</td>\n",
       "      <td>200000</td>\n",
       "    </tr>\n",
       "    <tr>\n",
       "      <th>3</th>\n",
       "      <td>fisica</td>\n",
       "      <td>MA</td>\n",
       "      <td>100000</td>\n",
       "    </tr>\n",
       "    <tr>\n",
       "      <th>4</th>\n",
       "      <td>fisica</td>\n",
       "      <td>PB</td>\n",
       "      <td>23000</td>\n",
       "    </tr>\n",
       "    <tr>\n",
       "      <th>5</th>\n",
       "      <td>fisica</td>\n",
       "      <td>PE</td>\n",
       "      <td>150000</td>\n",
       "    </tr>\n",
       "    <tr>\n",
       "      <th>6</th>\n",
       "      <td>fisica</td>\n",
       "      <td>PI</td>\n",
       "      <td>23708</td>\n",
       "    </tr>\n",
       "    <tr>\n",
       "      <th>7</th>\n",
       "      <td>fisica</td>\n",
       "      <td>RN</td>\n",
       "      <td>25000</td>\n",
       "    </tr>\n",
       "    <tr>\n",
       "      <th>8</th>\n",
       "      <td>fisica</td>\n",
       "      <td>SE</td>\n",
       "      <td>31000</td>\n",
       "    </tr>\n",
       "    <tr>\n",
       "      <th>9</th>\n",
       "      <td>juridica</td>\n",
       "      <td>AL</td>\n",
       "      <td>3900000</td>\n",
       "    </tr>\n",
       "    <tr>\n",
       "      <th>10</th>\n",
       "      <td>juridica</td>\n",
       "      <td>BA</td>\n",
       "      <td>11900000</td>\n",
       "    </tr>\n",
       "    <tr>\n",
       "      <th>11</th>\n",
       "      <td>juridica</td>\n",
       "      <td>CE</td>\n",
       "      <td>3900000</td>\n",
       "    </tr>\n",
       "    <tr>\n",
       "      <th>12</th>\n",
       "      <td>juridica</td>\n",
       "      <td>MA</td>\n",
       "      <td>3900000</td>\n",
       "    </tr>\n",
       "    <tr>\n",
       "      <th>13</th>\n",
       "      <td>juridica</td>\n",
       "      <td>PB</td>\n",
       "      <td>2169395</td>\n",
       "    </tr>\n",
       "    <tr>\n",
       "      <th>14</th>\n",
       "      <td>juridica</td>\n",
       "      <td>PE</td>\n",
       "      <td>4998000</td>\n",
       "    </tr>\n",
       "    <tr>\n",
       "      <th>15</th>\n",
       "      <td>juridica</td>\n",
       "      <td>PI</td>\n",
       "      <td>3900000</td>\n",
       "    </tr>\n",
       "    <tr>\n",
       "      <th>16</th>\n",
       "      <td>juridica</td>\n",
       "      <td>RN</td>\n",
       "      <td>3900000</td>\n",
       "    </tr>\n",
       "    <tr>\n",
       "      <th>17</th>\n",
       "      <td>juridica</td>\n",
       "      <td>SE</td>\n",
       "      <td>4000000</td>\n",
       "    </tr>\n",
       "  </tbody>\n",
       "</table>\n",
       "</div>"
      ]
     },
     "metadata": {},
     "execution_count": 40
    }
   ],
   "metadata": {}
  },
  {
   "cell_type": "markdown",
   "source": [
    "## Qual o valor médio das doações por tipo de doador?\n",
    "\n",
    "Agora é sua vez! A partir dos comandos anteriores, faça uma nova consulta para descobrir a mediana de acordo com o tipo de doador."
   ],
   "metadata": {}
  },
  {
   "cell_type": "code",
   "execution_count": 41,
   "source": [
    "df_final[['TIPO_DOADOR','VR_RECEITA']].groupby(by=['TIPO_DOADOR']).median()"
   ],
   "outputs": [
    {
     "output_type": "execute_result",
     "data": {
      "text/plain": [
       "             VR_RECEITA\n",
       "TIPO_DOADOR            \n",
       "fisica              600\n",
       "juridica           1500"
      ],
      "text/html": [
       "<div>\n",
       "<style scoped>\n",
       "    .dataframe tbody tr th:only-of-type {\n",
       "        vertical-align: middle;\n",
       "    }\n",
       "\n",
       "    .dataframe tbody tr th {\n",
       "        vertical-align: top;\n",
       "    }\n",
       "\n",
       "    .dataframe thead th {\n",
       "        text-align: right;\n",
       "    }\n",
       "</style>\n",
       "<table border=\"1\" class=\"dataframe\">\n",
       "  <thead>\n",
       "    <tr style=\"text-align: right;\">\n",
       "      <th></th>\n",
       "      <th>VR_RECEITA</th>\n",
       "    </tr>\n",
       "    <tr>\n",
       "      <th>TIPO_DOADOR</th>\n",
       "      <th></th>\n",
       "    </tr>\n",
       "  </thead>\n",
       "  <tbody>\n",
       "    <tr>\n",
       "      <th>fisica</th>\n",
       "      <td>600</td>\n",
       "    </tr>\n",
       "    <tr>\n",
       "      <th>juridica</th>\n",
       "      <td>1500</td>\n",
       "    </tr>\n",
       "  </tbody>\n",
       "</table>\n",
       "</div>"
      ]
     },
     "metadata": {},
     "execution_count": 41
    }
   ],
   "metadata": {}
  },
  {
   "cell_type": "markdown",
   "source": [
    "## Qual o total de doações recebidas por partido?"
   ],
   "metadata": {}
  },
  {
   "cell_type": "code",
   "execution_count": 42,
   "source": [
    "df_final[['SG_PARTIDO','VR_RECEITA']].groupby(by=['SG_PARTIDO']).sum()"
   ],
   "outputs": [
    {
     "output_type": "execute_result",
     "data": {
      "text/plain": [
       "               VR_RECEITA\n",
       "SG_PARTIDO               \n",
       "AVANTE            1555473\n",
       "CIDADANIA         5433420\n",
       "DC                1415608\n",
       "DEM               2521140\n",
       "MDB              39185338\n",
       "NOVO               138588\n",
       "PATRIOTA           946022\n",
       "PC do B           2393497\n",
       "PCB                146072\n",
       "PDT              13420365\n",
       "PL                1620905\n",
       "PMB                 65117\n",
       "PMN                 93731\n",
       "PODE             15425546\n",
       "PP               50241447\n",
       "PROS              9186878\n",
       "PRTB                94798\n",
       "PSB              38124175\n",
       "PSC                294951\n",
       "PSD              55485632\n",
       "PSDB              3410914\n",
       "PSL              32500228\n",
       "PSOL             10307063\n",
       "PSTU                 4200\n",
       "PT               43423701\n",
       "PTB              13536876\n",
       "PTC               1307068\n",
       "PV                6677278\n",
       "REDE              4790577\n",
       "REPUBLICANOS     13015752\n",
       "SOLIDARIEDADE    13144797\n",
       "UP                 281887"
      ],
      "text/html": [
       "<div>\n",
       "<style scoped>\n",
       "    .dataframe tbody tr th:only-of-type {\n",
       "        vertical-align: middle;\n",
       "    }\n",
       "\n",
       "    .dataframe tbody tr th {\n",
       "        vertical-align: top;\n",
       "    }\n",
       "\n",
       "    .dataframe thead th {\n",
       "        text-align: right;\n",
       "    }\n",
       "</style>\n",
       "<table border=\"1\" class=\"dataframe\">\n",
       "  <thead>\n",
       "    <tr style=\"text-align: right;\">\n",
       "      <th></th>\n",
       "      <th>VR_RECEITA</th>\n",
       "    </tr>\n",
       "    <tr>\n",
       "      <th>SG_PARTIDO</th>\n",
       "      <th></th>\n",
       "    </tr>\n",
       "  </thead>\n",
       "  <tbody>\n",
       "    <tr>\n",
       "      <th>AVANTE</th>\n",
       "      <td>1555473</td>\n",
       "    </tr>\n",
       "    <tr>\n",
       "      <th>CIDADANIA</th>\n",
       "      <td>5433420</td>\n",
       "    </tr>\n",
       "    <tr>\n",
       "      <th>DC</th>\n",
       "      <td>1415608</td>\n",
       "    </tr>\n",
       "    <tr>\n",
       "      <th>DEM</th>\n",
       "      <td>2521140</td>\n",
       "    </tr>\n",
       "    <tr>\n",
       "      <th>MDB</th>\n",
       "      <td>39185338</td>\n",
       "    </tr>\n",
       "    <tr>\n",
       "      <th>NOVO</th>\n",
       "      <td>138588</td>\n",
       "    </tr>\n",
       "    <tr>\n",
       "      <th>PATRIOTA</th>\n",
       "      <td>946022</td>\n",
       "    </tr>\n",
       "    <tr>\n",
       "      <th>PC do B</th>\n",
       "      <td>2393497</td>\n",
       "    </tr>\n",
       "    <tr>\n",
       "      <th>PCB</th>\n",
       "      <td>146072</td>\n",
       "    </tr>\n",
       "    <tr>\n",
       "      <th>PDT</th>\n",
       "      <td>13420365</td>\n",
       "    </tr>\n",
       "    <tr>\n",
       "      <th>PL</th>\n",
       "      <td>1620905</td>\n",
       "    </tr>\n",
       "    <tr>\n",
       "      <th>PMB</th>\n",
       "      <td>65117</td>\n",
       "    </tr>\n",
       "    <tr>\n",
       "      <th>PMN</th>\n",
       "      <td>93731</td>\n",
       "    </tr>\n",
       "    <tr>\n",
       "      <th>PODE</th>\n",
       "      <td>15425546</td>\n",
       "    </tr>\n",
       "    <tr>\n",
       "      <th>PP</th>\n",
       "      <td>50241447</td>\n",
       "    </tr>\n",
       "    <tr>\n",
       "      <th>PROS</th>\n",
       "      <td>9186878</td>\n",
       "    </tr>\n",
       "    <tr>\n",
       "      <th>PRTB</th>\n",
       "      <td>94798</td>\n",
       "    </tr>\n",
       "    <tr>\n",
       "      <th>PSB</th>\n",
       "      <td>38124175</td>\n",
       "    </tr>\n",
       "    <tr>\n",
       "      <th>PSC</th>\n",
       "      <td>294951</td>\n",
       "    </tr>\n",
       "    <tr>\n",
       "      <th>PSD</th>\n",
       "      <td>55485632</td>\n",
       "    </tr>\n",
       "    <tr>\n",
       "      <th>PSDB</th>\n",
       "      <td>3410914</td>\n",
       "    </tr>\n",
       "    <tr>\n",
       "      <th>PSL</th>\n",
       "      <td>32500228</td>\n",
       "    </tr>\n",
       "    <tr>\n",
       "      <th>PSOL</th>\n",
       "      <td>10307063</td>\n",
       "    </tr>\n",
       "    <tr>\n",
       "      <th>PSTU</th>\n",
       "      <td>4200</td>\n",
       "    </tr>\n",
       "    <tr>\n",
       "      <th>PT</th>\n",
       "      <td>43423701</td>\n",
       "    </tr>\n",
       "    <tr>\n",
       "      <th>PTB</th>\n",
       "      <td>13536876</td>\n",
       "    </tr>\n",
       "    <tr>\n",
       "      <th>PTC</th>\n",
       "      <td>1307068</td>\n",
       "    </tr>\n",
       "    <tr>\n",
       "      <th>PV</th>\n",
       "      <td>6677278</td>\n",
       "    </tr>\n",
       "    <tr>\n",
       "      <th>REDE</th>\n",
       "      <td>4790577</td>\n",
       "    </tr>\n",
       "    <tr>\n",
       "      <th>REPUBLICANOS</th>\n",
       "      <td>13015752</td>\n",
       "    </tr>\n",
       "    <tr>\n",
       "      <th>SOLIDARIEDADE</th>\n",
       "      <td>13144797</td>\n",
       "    </tr>\n",
       "    <tr>\n",
       "      <th>UP</th>\n",
       "      <td>281887</td>\n",
       "    </tr>\n",
       "  </tbody>\n",
       "</table>\n",
       "</div>"
      ]
     },
     "metadata": {},
     "execution_count": 42
    }
   ],
   "metadata": {}
  },
  {
   "cell_type": "markdown",
   "source": [
    "## Qual é o top 5?\n",
    "\n",
    "Crie um novo dataframe com os 5 partidos com mais doações. Você precisa primeiro ordenar os resultados e depois selecionar apenas os 5 primeiros.\n",
    "\n"
   ],
   "metadata": {}
  },
  {
   "cell_type": "code",
   "execution_count": 45,
   "source": [
    "df_final[['SG_PARTIDO','VR_RECEITA']].groupby(by=['SG_PARTIDO']).sum().sort_values(by='VR_RECEITA',ascending=False).head()"
   ],
   "outputs": [
    {
     "output_type": "execute_result",
     "data": {
      "text/plain": [
       "            VR_RECEITA\n",
       "SG_PARTIDO            \n",
       "PSD           55485632\n",
       "PP            50241447\n",
       "PT            43423701\n",
       "MDB           39185338\n",
       "PSB           38124175"
      ],
      "text/html": [
       "<div>\n",
       "<style scoped>\n",
       "    .dataframe tbody tr th:only-of-type {\n",
       "        vertical-align: middle;\n",
       "    }\n",
       "\n",
       "    .dataframe tbody tr th {\n",
       "        vertical-align: top;\n",
       "    }\n",
       "\n",
       "    .dataframe thead th {\n",
       "        text-align: right;\n",
       "    }\n",
       "</style>\n",
       "<table border=\"1\" class=\"dataframe\">\n",
       "  <thead>\n",
       "    <tr style=\"text-align: right;\">\n",
       "      <th></th>\n",
       "      <th>VR_RECEITA</th>\n",
       "    </tr>\n",
       "    <tr>\n",
       "      <th>SG_PARTIDO</th>\n",
       "      <th></th>\n",
       "    </tr>\n",
       "  </thead>\n",
       "  <tbody>\n",
       "    <tr>\n",
       "      <th>PSD</th>\n",
       "      <td>55485632</td>\n",
       "    </tr>\n",
       "    <tr>\n",
       "      <th>PP</th>\n",
       "      <td>50241447</td>\n",
       "    </tr>\n",
       "    <tr>\n",
       "      <th>PT</th>\n",
       "      <td>43423701</td>\n",
       "    </tr>\n",
       "    <tr>\n",
       "      <th>MDB</th>\n",
       "      <td>39185338</td>\n",
       "    </tr>\n",
       "    <tr>\n",
       "      <th>PSB</th>\n",
       "      <td>38124175</td>\n",
       "    </tr>\n",
       "  </tbody>\n",
       "</table>\n",
       "</div>"
      ]
     },
     "metadata": {},
     "execution_count": 45
    }
   ],
   "metadata": {}
  }
 ],
 "metadata": {
  "kernelspec": {
   "name": "python3",
   "display_name": "Python 3.9.5 64-bit"
  },
  "language_info": {
   "codemirror_mode": {
    "name": "ipython",
    "version": 3
   },
   "file_extension": ".py",
   "mimetype": "text/x-python",
   "name": "python",
   "nbconvert_exporter": "python",
   "pygments_lexer": "ipython3",
   "version": "3.9.5"
  },
  "interpreter": {
   "hash": "916dbcbb3f70747c44a77c7bcd40155683ae19c65e1c03b4aa3499c5328201f1"
  }
 },
 "nbformat": 4,
 "nbformat_minor": 5
}