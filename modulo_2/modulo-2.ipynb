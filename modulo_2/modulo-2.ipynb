{
 "cells": [
  {
   "cell_type": "markdown",
   "id": "ac65f1db",
   "metadata": {
    "id": "bFYatS11gOtN"
   },
   "source": [
    "# Escola de Dados - Python para inovação cívica\n",
    "\n",
    "## Módulo 2: Análise exporatória de dados do Legislativo"
   ]
  },
  {
   "cell_type": "markdown",
   "id": "fb36731a",
   "metadata": {
    "id": "7C1Jf4xhgXxK"
   },
   "source": [
    "## CEAP"
   ]
  },
  {
   "cell_type": "markdown",
   "id": "10590e78",
   "metadata": {
    "id": "qwYEO7nyRh9H"
   },
   "source": [
    "### Aula 02: Acessando os dados da CEAP via API"
   ]
  },
  {
   "cell_type": "markdown",
   "id": "55afe68c",
   "metadata": {
    "id": "ouMkJasFSZtx"
   },
   "source": [
    "Para baixar os arquivos das despesas pela Cota para Exercício da Atividade Parlamentar, podemos utilizar a API da Câmara Legislativa. Para acessar o arquivo de cada ano, podemos usar a URL no formato `http://www.camara.leg.br/cotas/Ano-{ano}.{formato}[.zip]`.\n",
    "\n",
    "Você pode encontrar mais detalhes na [documentação dos dados sobre Despesas pela Cota para Exercício da Atividade Parlamentar](https://dadosabertos.camara.leg.br/swagger/api.html#staticfile)."
   ]
  },
  {
   "cell_type": "markdown",
   "id": "ca3d19a5",
   "metadata": {
    "id": "7-mFXaSTTRPi"
   },
   "source": [
    "Para fazer o download dos arquivos usando Python podemos usar diversas formas. Para esse tutorial, vamos usar o pacote `requests`."
   ]
  },
  {
   "cell_type": "code",
   "execution_count": null,
   "id": "7f1fe51f",
   "metadata": {
    "id": "3lEoz1Lr5NeJ"
   },
   "outputs": [],
   "source": [
    "url = f\"http://www.camara.leg.br/cotas/Ano-2020.csv.zip\""
   ]
  },
  {
   "cell_type": "code",
   "execution_count": null,
   "id": "6739d430",
   "metadata": {
    "id": "H-ShSuQJ5ICY"
   },
   "outputs": [],
   "source": [
    "import requests\n",
    "\n",
    "# fazendo o download do conteúdo do arquivo\n",
    "r = requests.get(url)"
   ]
  },
  {
   "cell_type": "code",
   "execution_count": null,
   "id": "2e27218a",
   "metadata": {
    "id": "5aXzYO4MziQn"
   },
   "outputs": [],
   "source": [
    "# abrindo um arquivo no seu computador\n",
    "file = open(f\"Ano-{year}.csv.zip\", \"wb\")\n",
    "\n",
    "# escrever o conteúdo\n",
    "file.write(r.content)\n",
    "file.close()"
   ]
  },
  {
   "cell_type": "code",
   "execution_count": null,
   "id": "56e639a6",
   "metadata": {
    "id": "Xmzmw4oLzg-k"
   },
   "outputs": [],
   "source": [
    "# outra forma de criar arquivos, e escrever conteúdo\n",
    "\n",
    "# with open(f\"Ano-{year}.csv.zip\", \"wb\") as code:\n",
    "#    code.write(r.content)"
   ]
  },
  {
   "cell_type": "markdown",
   "id": "f22d16da",
   "metadata": {
    "id": "PcB4ko8UUaP3"
   },
   "source": [
    "Como o arquivo baixado pela API é um arquivo zip, vamos precisar descompatar. Vamos usar o `zipfile`, um módulo que nos dá ferramentas para diversas manipulações de arquivos zipados."
   ]
  },
  {
   "cell_type": "code",
   "execution_count": null,
   "id": "665b3dea",
   "metadata": {
    "id": "SpeJGZ5s4tYR"
   },
   "outputs": [],
   "source": [
    "from zipfile import ZipFile"
   ]
  },
  {
   "cell_type": "code",
   "execution_count": null,
   "id": "af6d9808",
   "metadata": {
    "id": "vke0teol4w8S"
   },
   "outputs": [],
   "source": [
    "zip_file = ZipFile(f\"Ano-{year}.csv.zip\", 'r')"
   ]
  },
  {
   "cell_type": "code",
   "execution_count": null,
   "id": "c0ceb7e9",
   "metadata": {
    "colab": {
     "base_uri": "https://localhost:8080/"
    },
    "id": "K6KlfvVW4yEJ",
    "outputId": "e81a4c9e-513a-4f8a-855c-9f17c113fdb5"
   },
   "outputs": [],
   "source": [
    "zip_file.namelist()"
   ]
  },
  {
   "cell_type": "code",
   "execution_count": null,
   "id": "7b8492d6",
   "metadata": {
    "colab": {
     "base_uri": "https://localhost:8080/",
     "height": 37
    },
    "id": "XpnL3tJe5Lm_",
    "outputId": "cff349aa-b17f-4ab0-8498-7ce6df1de82f"
   },
   "outputs": [],
   "source": [
    "zip_file.extract(member=f\"Ano-{year}.csv\", path=f\"reimbursements-{year}\")"
   ]
  },
  {
   "cell_type": "code",
   "execution_count": null,
   "id": "f93d36b3",
   "metadata": {
    "id": "qF4UmfPqiELQ"
   },
   "outputs": [],
   "source": [
    "# caso a gente queira extrair todo o conteúdo do arquivo zip\n",
    "\n",
    "# zip_file.extractall(path=f\"reimbursements-{year}\")"
   ]
  },
  {
   "cell_type": "code",
   "execution_count": null,
   "id": "3a1137e8",
   "metadata": {
    "id": "HWMAqsBT5W8e"
   },
   "outputs": [],
   "source": [
    "zip_file.close()"
   ]
  },
  {
   "cell_type": "markdown",
   "id": "34051248",
   "metadata": {
    "id": "9V6UrEjQiS4S"
   },
   "source": [
    "### Aula 03: Lendo os dados com Pandas"
   ]
  },
  {
   "cell_type": "code",
   "execution_count": null,
   "id": "31c35688",
   "metadata": {
    "id": "yalZ9LW96ONR",
    "scrolled": true
   },
   "outputs": [],
   "source": [
    "import pandas as pd"
   ]
  },
  {
   "cell_type": "code",
   "execution_count": null,
   "id": "3cb1bfc3",
   "metadata": {
    "colab": {
     "base_uri": "https://localhost:8080/",
     "height": 477
    },
    "id": "hVtndpQ4ih4b",
    "outputId": "ac7cb771-b5df-49ab-cdef-31bcf0015aef",
    "scrolled": false
   },
   "outputs": [],
   "source": [
    "pd.read_csv(\"reimbursements-2020/Ano-2020.csv\")"
   ]
  },
  {
   "cell_type": "markdown",
   "id": "39823d32",
   "metadata": {},
   "source": [
    "Opa! Erro na leitura do nosso arquivo. Quando encontramos esse erro na leitura de um arquivo, existe algumas possibilidades mais comuns, uma delas é que o caracter que separa as colunas pode não ser o que o `read_csv` espera. \n",
    "\n",
    "Confira da doc qual o separador considerado padrão, e depois confira no arquivo qual o separador que é utilizado."
   ]
  },
  {
   "cell_type": "code",
   "execution_count": 30,
   "id": "c5248088",
   "metadata": {
    "colab": {
     "base_uri": "https://localhost:8080/",
     "height": 462
    },
    "id": "vF5kKe42VEjo",
    "outputId": "4454dcec-c4d8-41eb-a165-af209b4be511"
   },
   "outputs": [],
   "source": [
    "df_reimbursements_2020 = pd.read_csv(\"reimbursements-2020/Ano-2020.csv\", sep=\"???\") \n",
    "# sep == delimiter"
   ]
  },
  {
   "cell_type": "markdown",
   "id": "ee81f8cd",
   "metadata": {},
   "source": [
    "Vamos visualizar as 5 primeiras linhas do nosso Dataframe."
   ]
  },
  {
   "cell_type": "code",
   "execution_count": null,
   "id": "4302bdec",
   "metadata": {},
   "outputs": [],
   "source": [
    "df_reimbursements_2020.head()"
   ]
  },
  {
   "cell_type": "markdown",
   "id": "76b9edc8",
   "metadata": {},
   "source": [
    "Como podemos fazer para visualizar as 10 primeiras linhas?"
   ]
  },
  {
   "cell_type": "code",
   "execution_count": null,
   "id": "7cf9bb3b",
   "metadata": {},
   "outputs": [],
   "source": []
  },
  {
   "cell_type": "markdown",
   "id": "c908a893",
   "metadata": {},
   "source": [
    "Podemos também recuperar uma amosta aleatória do nosso Dataframe. Para isso, usamos o [`sample`](https://pandas.pydata.org/pandas-docs/stable/reference/api/pandas.DataFrame.sample.html)."
   ]
  },
  {
   "cell_type": "code",
   "execution_count": null,
   "id": "dcb061e7",
   "metadata": {},
   "outputs": [],
   "source": [
    "df_reimbursements_2020.sample()"
   ]
  },
  {
   "cell_type": "markdown",
   "id": "033d38f5",
   "metadata": {},
   "source": [
    "Como podemos fazer para visualizar 5 amostras aleatórias?"
   ]
  },
  {
   "cell_type": "code",
   "execution_count": null,
   "id": "29421667",
   "metadata": {},
   "outputs": [],
   "source": []
  },
  {
   "cell_type": "markdown",
   "id": "ba0a2599",
   "metadata": {
    "id": "3LhB4RCUVMm7"
   },
   "source": [
    "#### Dicionário de Dados"
   ]
  },
  {
   "cell_type": "markdown",
   "id": "bb746afe",
   "metadata": {
    "id": "vvvTZj4BVeU_"
   },
   "source": [
    "Um passo importante para dar antes de começar a análisar é entender os dados que estamos manipulando. \n",
    "\n",
    "*Sempre procure o significado dos campos, procure entender quais os tipos de dados preenchem aquele campo. São dados numéricos? São caracteres? Não palavras usadas para categorizar/classificar os dados?*"
   ]
  },
  {
   "cell_type": "markdown",
   "id": "20259341",
   "metadata": {
    "id": "MC-aJ8YviZNb"
   },
   "source": [
    "| Elemento de Dado          | Nome do Dado                           | Definição do Dado                                                                                                                                                                                                                                                                                                                                                                                                                   |   |   |\n",
    "|---------------------------|----------------------------------------|-------------------------------------------------------------------------------------------------------------------------------------------------------------------------------------------------------------------------------------------------------------------------------------------------------------------------------------------------------------------------------------------------------------------------------------|---|---|\n",
    "| txNomeParlamentar         | Nome Parlamentar                       | Nome adotado pelo Parlamentar ao tomar posse do seu mandato. Compõe-se de dois elementos: um prenome e o nome; dois nomes; ou dois prenomes, salvo, a juízo do Presidente da Casa legislativa, que poderá alterar essa regra para que não ocorram confusões.                                                                                                                                                                        |   |   |\n",
    "| ideCadastro               | Identificador Único do Parlamentar     | Número que identifica unicamente um deputado federal na CD.                                                                                                                                                                                                                                                                                                                                                                         |   |   |\n",
    "| nuCarteiraParlamentar     | Número da  Carteira Parlamentar        | Documento usado para identificar um deputado federal na CD. Pode alterar a cada Legislatura nova.                                                                                                                                                                                                                                                                                                                                   |   |   |\n",
    "| nuLegislatura             | Número da  Legislatura                 | No contexto da cota CEAP, representa o ano base de início da legislatura e é utilizado para compor a Carteira Parlamentar, pois esta poderá ser alterada à medida que se muda de Legislatura.                                                                                                                                     |   |   |\n",
    "| sgUF                      | Sigla da UF                            | No contexto da cota CEAP, representa a unidade da federação pela qual o deputado foi eleito e é utilizada para definir o valor da cota a que o deputado tem.                                                                                                                                                                                                                                                                        |   |   |\n",
    "| sgPartido                 | Sigla do Partido                       | O seu conteúdo representa a sigla de um partido. Tem personalidade jurídica de direito privado e goza de autonomia e liberdade no que diz respeito à criação, organização e funcionamento, observados os princípios e preceitos constitucionais. |   |   |\n",
    "| codLegislatura            | Código da Legislatura                  | No contexto da cota CEAP, o seu conteúdo representa o código identificador da Legislatura, que um número ordinal sequencial, alterado de um em um, a cada início de uma nova Legislatura (por exemplo, a Legislatura que iniciou em 2011 é a 54ª Legislatura).                                                                    |   |   |\n",
    "| numSubCota                | Número da Subcota                      | No contexto da Cota CEAP, o conteúdo deste dado representa o código do Tipo de Despesa referente à despesa realizada pelo deputado e comprovada por meio da emissão de um documento fiscal, a qual é debitada na cota do deputado.                                                                                                                                                                                                  |   |   |\n",
    "| txtDescricao              | Descrição da Subcota                   | O seu conteúdo é a descrição do Tipo de Despesa relativo à despesa em questão.                                                                                                                                                                                                                                                                                                                                                      |   |   |\n",
    "| numEspecificacaoSubCota   | Número da Especificação da Subcota     | No contexto da Cota CEAP, há despesas cujo Tipo de Despesa necessita ter uma especificação mais detalhada (por exemplo, “Combustível”). O conteúdo deste dado representa o código desta especificação mais detalhada.                                                                                                                                                                                                               |   |   |\n",
    "| txtDescricaoEspecificacao | Descrição da Especificação da Subcota  | Representa a descrição  especificação mais detalhada de um referido Tipo de Despesa.                                                                                                                                                                                                                                                                                                                                                |   |   |\n",
    "| txtFornecedor             | Fornecedor                             | O conteúdo deste dado representa o nome do fornecedor do produto ou serviço presente no documento fiscal                                                                                                                                                                                                                                                                                                                            |   |   |\n",
    "| txtCNPJCPF                | CNPJ/CPF                               | O conteúdo deste dado representa o CNPJ ou o CPF do emitente do documento fiscal, quando se tratar do uso da cota em razão do reembolso despesas comprovadas pela emissão de documentos fiscais.                                                                                                                                                                                                                                    |   |   |\n",
    "| txtNumero                 | Número do Documento                    | O conteúdo deste dado representa o número de face do documento fiscal emitido ou o número do documento que deu causa à despesa debitada na cota do deputado.                                                                                                                                                                                                                                                                        |   |   |\n",
    "| indTipoDocumento          | Indicativo de Tipo de Documento Fiscal | Este dado representa o tipo de documento do fiscal – 0 (Zero), para Nota Fiscal; 1 (um), para Recibo; e 2, para Despesa no Exterior.                                                                                                                                                                                                                                                                                                |   |   |\n",
    "| datEmissao                | Data de Emissão                        | O conteúdo deste dado é a data de emissão do documento fiscal ou a data do documento que tenha dado causa à despesa.                                                                                                                                                                                                                                                                                                                |   |   |\n",
    "| vlrDocumento              | Valor do Documento                     | O seu conteúdo é o valor de face do documento fiscal ou o valor do documento que deu causa à despesa. Quando se tratar de bilhete aéreo, esse valor poderá ser negativo, significando que o referido bilhete é um bilhete de compensação, pois compensa um outro bilhete emitido e não utilizado pelo deputado (idem para o dado vlrLiquido abaixo).                                                                                |   |   |\n",
    "| vlrGlosa                  | Valor da Glosa                         | O seu conteúdo representa o valor da glosa do documento fiscal que incidirá sobre o Valor do Documento, ou o valor da glosa do documento que deu causa à despesa.                                                                                                                                                                                                                                                                   |   |   |\n",
    "| vlrLiquido                | Valor Líquido                          | O seu conteúdo representa o valor líquido do documento fiscal ou do documento que deu causa à despesa e será calculado pela diferença entre o Valor do Documento e o Valor da Glosa. É este valor que será debitado da cota do deputado. Caso o débito seja do Tipo Telefonia e o valor seja igual a zero, significa que a despesa foi franqueada.                                                                                  |   |   |\n",
    "| numMes                    | Mês                                    | O seu conteúdo representa o Mês da competência financeira do documento fiscal ou do documento que deu causa à despesa. É utilizado, junto com o ano, para determinar em que período o débito gerará efeito financeiro sobre a cota.                                                                                                                                                                                                 |   |   |\n",
    "| numAno                    | Ano                                    | O seu conteúdo representa o Ano da competência financeira do documento fiscal ou do documento que deu causa à despesa. É utilizado, junto com o mês, para determinar em que período o débito gerará efeito financeiro sobre a cota.                                                                                                                                                                                                 |   |   |\n",
    "| numParcela                | Número da Parcela                      | O seu conteúdo representa o número da parcela do documento fiscal. Ocorre quando o documento tem de ser reembolsado de forma parcelada.                                                                                                                                                                                                                                                                                             |   |   |\n",
    "| txtPassageiro             | Passageiro                             | O conteúdo deste dado representa o nome do passageiro, quando o documento que deu causa à despesa se tratar de emissão de bilhete aéreo.                                                                                                                                                                                                                                                                                            |   |   |\n",
    "| txtTrecho                 | Trecho                                 | O conteúdo deste dado representa o trecho da viagem, quando o documento que deu causa à despesa se tratar de emissão de bilhete aéreo.                                                                                                                                                                                                                                                                                              |   |   |\n",
    "| numLote                   | Número do Lote                         | No contexto da Cota CEAP, o Número do Lote representa uma capa de lote que agrupa os documentos que serão entregues à Câmara para serem ressarcidos. Este dado, juntamente com o Número do Ressarcimento, auxilia a localização do documento no Arquivo da Casa.                                                                                                                                                                    |   |   |\n",
    "| numRessarcimento          | Número do Ressarcimento                | No contexto da Cota CEAP, o Número do Ressarcimento indica o ressarcimento do qual o documento fez parte por ocasião do processamento do seu reembolso. Este dado, juntamente com o Valor da Restituição, auxilia a localização do documento no Arquivo da Casa.                                                                                                                                                                 |   |   |\n",
    "|  vlrRestituicao           |  Valor da Restituição                  |  O seu conteúdo representa o valor restituído do documento fiscal que incidirá sobre o Valor do Documento.                                                                                                                                                                                                                                                                                                                          |   |   |\n",
    "| nuDeputadoId              | Identificador do Solicitante           | Número que identifica um Parlamentar ou Liderança na Transparência da Cota para Exercício da Atividade Parlamentar.                                                                                                                                                                                                                                                                                                                 |   |   |\n",
    "\n",
    "\n",
    "Legislatura: Período de quatro anos coincidente com o mandato parlamentar dos Deputados Federais.\n",
    "\n",
    "Definição de partido: é uma organização formada por pessoas com interesse ou ideologia comuns, que se associam com o fim de assumir o poder para implantar um programa de governo. \n",
    "\n",
    "*Fonte*: [EXPLICAÇÕES SOBRE O FORMATO DOS ARQUIVOS XML](https://www2.camara.leg.br/transparencia/cota-para-exercicio-da-atividade-parlamentar/explicacoes-sobre-o-formato-dos-arquivos-xml)"
   ]
  },
  {
   "cell_type": "markdown",
   "id": "8be70150",
   "metadata": {
    "id": "9V6UrEjQiS4S"
   },
   "source": [
    "### Aula 04: Organizando e visualizando os dados"
   ]
  },
  {
   "cell_type": "markdown",
   "id": "c063406f",
   "metadata": {},
   "source": [
    "Vamos conhecer mais algumas operações que podem nos ajudar a visualizar e entender nossos dados."
   ]
  },
  {
   "cell_type": "code",
   "execution_count": null,
   "id": "1a2429a1",
   "metadata": {},
   "outputs": [],
   "source": [
    "df_reimbursements_2020.tail()"
   ]
  },
  {
   "cell_type": "code",
   "execution_count": null,
   "id": "953df53e",
   "metadata": {},
   "outputs": [],
   "source": [
    "df_reimbursements_2020.shape"
   ]
  },
  {
   "cell_type": "code",
   "execution_count": null,
   "id": "8ff5d597",
   "metadata": {},
   "outputs": [],
   "source": [
    "df_reimbursements_2020.info()"
   ]
  },
  {
   "cell_type": "code",
   "execution_count": null,
   "id": "157c0f0d",
   "metadata": {},
   "outputs": [],
   "source": [
    "df_reimbursements_2020.columns"
   ]
  },
  {
   "cell_type": "markdown",
   "id": "579e5318",
   "metadata": {},
   "source": [
    "#### Preenchendo valores nulos"
   ]
  },
  {
   "cell_type": "code",
   "execution_count": null,
   "id": "5b9afe0b",
   "metadata": {
    "colab": {
     "base_uri": "https://localhost:8080/",
     "height": 462
    },
    "id": "StprWX3WdrFh",
    "outputId": "5436707a-d0f6-45f7-ccbe-52246c4cb3b6"
   },
   "outputs": [],
   "source": [
    "df_reimbursements_2020.fillna(value=\"Não se aplica\")"
   ]
  },
  {
   "cell_type": "code",
   "execution_count": 40,
   "id": "fe7ff19c",
   "metadata": {},
   "outputs": [
    {
     "data": {
      "text/plain": [
       "0      LIDERANÇA DO DEMOCRATAS\n",
       "1      LIDERANÇA DO DEMOCRATAS\n",
       "2      LIDERANÇA DO DEMOCRATAS\n",
       "3      LIDERANÇA DO DEMOCRATAS\n",
       "4      LIDERANÇA DO DEMOCRATAS\n",
       "                ...           \n",
       "387                     LIDMIN\n",
       "388                     LIDMIN\n",
       "389                     LIDMIN\n",
       "390                     LIDMIN\n",
       "391                     LIDMIN\n",
       "Name: txNomeParlamentar, Length: 392, dtype: object"
      ]
     },
     "execution_count": 40,
     "metadata": {},
     "output_type": "execute_result"
    }
   ],
   "source": [
    "df_reimbursements_2020[df_reimbursements_2020.sgPartido.isna()]"
   ]
  },
  {
   "cell_type": "code",
   "execution_count": null,
   "id": "0cee58da",
   "metadata": {},
   "outputs": [],
   "source": [
    "df_reimbursements_2020[df_reimbursements_2020['ideDocumento'].isnull()]"
   ]
  },
  {
   "cell_type": "markdown",
   "id": "059f5180",
   "metadata": {},
   "source": [
    "#### Informando tipos na leitura dos dados\n",
    "\n",
    "Quando trabalhamos com pandas, é sempre interessante entender que tipos de dados estão contidos em cada coluna. Na leitura do arquivo podemos aproveitar para deixar isso configurado.\n",
    "\n",
    "Isso pode ser extramamente útil quando estamos lendo dados que contém informação sobre documentos, como CPF. Nesses casos podemos ter algo como `091777777`, se esse valor por lido como um número, ele vai virar `91777777`, já que não existe número que inicie com 0. Esse é um ótimo exemplo de dado que deve ser lido como um string, para que ele seja preservado ao máximo. \n",
    "\n",
    "Agora, sabendo quais dados nosso dataframe possui, vamos definir o tipo para cada um."
   ]
  },
  {
   "cell_type": "code",
   "execution_count": null,
   "id": "acfae0cf",
   "metadata": {},
   "outputs": [],
   "source": [
    "DTYPE = {\n",
    "    'txNomeParlamentar': str,\n",
    "    'ideCadastro': str,\n",
    "    'nuCarteiraParlamentar': str,\n",
    "    'nuLegislatura': str,\n",
    "    'sgUF': str,\n",
    "    'sgPartido': str,\n",
    "    'codLegislatura': str,\n",
    "    'numSubCota': str,\n",
    "    'txtDescricao': str,\n",
    "    'numEspecificacaoSubCota': str,\n",
    "    'txtDescricaoEspecificacao': str,\n",
    "    'txtFornecedor': str,\n",
    "    'txtCNPJCPF': str,\n",
    "    'txtNumero': str,\n",
    "    'indTipoDocumento': str,\n",
    "    'datEmissao': str,\n",
    "    'vlrDocumento': float,\n",
    "    'vlrGlosa': str,\n",
    "    'vlrLiquido': float,\n",
    "    'numMes': str,\n",
    "    'numAno': str,\n",
    "    'numParcela': str,\n",
    "    'txtPassageiro': str,\n",
    "    'txtTrecho': str,\n",
    "    'numLote': str,\n",
    "    'numRessarcimento': str,\n",
    "    'nuDeputadoId': str,\n",
    "    'ideDocumento': str,\n",
    "}\n",
    "\n",
    "df_reimbursements_2020 = pd.read_csv(\n",
    "    \"reimbursements-2020/Ano-2020.csv\", \n",
    "    delimiter=\";\", \n",
    "    dtype=DTYPE, \n",
    "    low_memory=False\n",
    ")"
   ]
  },
  {
   "cell_type": "markdown",
   "id": "c68da27a",
   "metadata": {},
   "source": [
    "Opa! Você lembra qual método podemos usar para conferir os tipos de cada coluna?\n",
    "**dica**: já passamos por esse método..."
   ]
  },
  {
   "cell_type": "code",
   "execution_count": null,
   "id": "82d7c361",
   "metadata": {},
   "outputs": [],
   "source": []
  },
  {
   "cell_type": "markdown",
   "id": "a16a053a",
   "metadata": {},
   "source": [
    "#### astype"
   ]
  },
  {
   "cell_type": "code",
   "execution_count": null,
   "id": "d232532c",
   "metadata": {},
   "outputs": [],
   "source": [
    "df_reimbursements_2020[\"ideCadastro\"] = df_reimbursements_2020[\"ideCadastro\"].astype('string')"
   ]
  },
  {
   "cell_type": "markdown",
   "id": "6c7df136",
   "metadata": {},
   "source": [
    "#### to_datetime"
   ]
  },
  {
   "cell_type": "code",
   "execution_count": null,
   "id": "b300e549",
   "metadata": {},
   "outputs": [],
   "source": [
    "df_reimbursements_2020[\"datEmissao\"] = pd.to_datetime(df_reimbursements_2020.datEmissao, format='%Y-%m-%d')\n",
    "\n",
    "df_reimbursements_2020.set_index(\"datEmissao\").sort_index()[\"2020-01-01\":\"2020-04-30\"]"
   ]
  },
  {
   "cell_type": "code",
   "execution_count": 24,
   "id": "27dfc7a2",
   "metadata": {},
   "outputs": [],
   "source": [
    "df_reimbursements_2020[\"datEmissao\"] = pd.to_datetime(df_reimbursements_2020.datEmissao, format='%Y-%m-%d')"
   ]
  },
  {
   "cell_type": "code",
   "execution_count": 37,
   "id": "b8720dbf",
   "metadata": {},
   "outputs": [
    {
     "data": {
      "text/html": [
       "<div>\n",
       "<style scoped>\n",
       "    .dataframe tbody tr th:only-of-type {\n",
       "        vertical-align: middle;\n",
       "    }\n",
       "\n",
       "    .dataframe tbody tr th {\n",
       "        vertical-align: top;\n",
       "    }\n",
       "\n",
       "    .dataframe thead th {\n",
       "        text-align: right;\n",
       "    }\n",
       "</style>\n",
       "<table border=\"1\" class=\"dataframe\">\n",
       "  <thead>\n",
       "    <tr style=\"text-align: right;\">\n",
       "      <th></th>\n",
       "      <th>txNomeParlamentar</th>\n",
       "      <th>cpf</th>\n",
       "      <th>ideCadastro</th>\n",
       "      <th>nuCarteiraParlamentar</th>\n",
       "      <th>nuLegislatura</th>\n",
       "      <th>sgUF</th>\n",
       "      <th>sgPartido</th>\n",
       "      <th>codLegislatura</th>\n",
       "      <th>numSubCota</th>\n",
       "      <th>txtDescricao</th>\n",
       "      <th>...</th>\n",
       "      <th>numAno</th>\n",
       "      <th>numParcela</th>\n",
       "      <th>txtPassageiro</th>\n",
       "      <th>txtTrecho</th>\n",
       "      <th>numLote</th>\n",
       "      <th>numRessarcimento</th>\n",
       "      <th>vlrRestituicao</th>\n",
       "      <th>nuDeputadoId</th>\n",
       "      <th>ideDocumento</th>\n",
       "      <th>urlDocumento</th>\n",
       "    </tr>\n",
       "    <tr>\n",
       "      <th>datEmissao</th>\n",
       "      <th></th>\n",
       "      <th></th>\n",
       "      <th></th>\n",
       "      <th></th>\n",
       "      <th></th>\n",
       "      <th></th>\n",
       "      <th></th>\n",
       "      <th></th>\n",
       "      <th></th>\n",
       "      <th></th>\n",
       "      <th></th>\n",
       "      <th></th>\n",
       "      <th></th>\n",
       "      <th></th>\n",
       "      <th></th>\n",
       "      <th></th>\n",
       "      <th></th>\n",
       "      <th></th>\n",
       "      <th></th>\n",
       "      <th></th>\n",
       "      <th></th>\n",
       "    </tr>\n",
       "  </thead>\n",
       "  <tbody>\n",
       "    <tr>\n",
       "      <th>2020-01-01 00:00:00</th>\n",
       "      <td>Alê Silva</td>\n",
       "      <td>7.987556e+10</td>\n",
       "      <td>204545</td>\n",
       "      <td>222</td>\n",
       "      <td>2019</td>\n",
       "      <td>MG</td>\n",
       "      <td>PSL</td>\n",
       "      <td>56</td>\n",
       "      <td>3</td>\n",
       "      <td>COMBUSTÍVEIS E LUBRIFICANTES.</td>\n",
       "      <td>...</td>\n",
       "      <td>2020</td>\n",
       "      <td>0</td>\n",
       "      <td>NaN</td>\n",
       "      <td>NaN</td>\n",
       "      <td>1666169</td>\n",
       "      <td>NaN</td>\n",
       "      <td>NaN</td>\n",
       "      <td>3372</td>\n",
       "      <td>6992047</td>\n",
       "      <td>https://www.camara.leg.br/cota-parlamentar/doc...</td>\n",
       "    </tr>\n",
       "    <tr>\n",
       "      <th>2020-01-01 00:00:00</th>\n",
       "      <td>LIDERANÇA DO PT</td>\n",
       "      <td>NaN</td>\n",
       "      <td>NaN</td>\n",
       "      <td>NaN</td>\n",
       "      <td>2019</td>\n",
       "      <td>NaN</td>\n",
       "      <td>NaN</td>\n",
       "      <td>56</td>\n",
       "      <td>9</td>\n",
       "      <td>PASSAGEM AÉREA - REEMBOLSO</td>\n",
       "      <td>...</td>\n",
       "      <td>2020</td>\n",
       "      <td>0</td>\n",
       "      <td>NaN</td>\n",
       "      <td>NaN</td>\n",
       "      <td>1667184</td>\n",
       "      <td>NaN</td>\n",
       "      <td>NaN</td>\n",
       "      <td>2439</td>\n",
       "      <td>6994730</td>\n",
       "      <td>https://www.camara.leg.br/cota-parlamentar/doc...</td>\n",
       "    </tr>\n",
       "    <tr>\n",
       "      <th>2020-01-01 00:00:00</th>\n",
       "      <td>Vinicius Carvalho</td>\n",
       "      <td>8.228602e+10</td>\n",
       "      <td>141555</td>\n",
       "      <td>397</td>\n",
       "      <td>2019</td>\n",
       "      <td>SP</td>\n",
       "      <td>REPUBLICANOS</td>\n",
       "      <td>56</td>\n",
       "      <td>3</td>\n",
       "      <td>COMBUSTÍVEIS E LUBRIFICANTES.</td>\n",
       "      <td>...</td>\n",
       "      <td>2020</td>\n",
       "      <td>0</td>\n",
       "      <td>NaN</td>\n",
       "      <td>NaN</td>\n",
       "      <td>1670759</td>\n",
       "      <td>NaN</td>\n",
       "      <td>NaN</td>\n",
       "      <td>1951</td>\n",
       "      <td>7002356</td>\n",
       "      <td>https://www.camara.leg.br/cota-parlamentar/doc...</td>\n",
       "    </tr>\n",
       "    <tr>\n",
       "      <th>2020-01-01 00:00:00</th>\n",
       "      <td>Jaqueline Cassol</td>\n",
       "      <td>3.512403e+10</td>\n",
       "      <td>108338</td>\n",
       "      <td>47</td>\n",
       "      <td>2019</td>\n",
       "      <td>RO</td>\n",
       "      <td>PP</td>\n",
       "      <td>56</td>\n",
       "      <td>10</td>\n",
       "      <td>TELEFONIA</td>\n",
       "      <td>...</td>\n",
       "      <td>2020</td>\n",
       "      <td>0</td>\n",
       "      <td>NaN</td>\n",
       "      <td>NaN</td>\n",
       "      <td>1672552</td>\n",
       "      <td>NaN</td>\n",
       "      <td>NaN</td>\n",
       "      <td>3434</td>\n",
       "      <td>7005847</td>\n",
       "      <td>NaN</td>\n",
       "    </tr>\n",
       "    <tr>\n",
       "      <th>2020-01-01 00:00:00</th>\n",
       "      <td>Maurício Dziedricki</td>\n",
       "      <td>9.588711e+10</td>\n",
       "      <td>75431</td>\n",
       "      <td>511</td>\n",
       "      <td>2019</td>\n",
       "      <td>RS</td>\n",
       "      <td>PTB</td>\n",
       "      <td>56</td>\n",
       "      <td>120</td>\n",
       "      <td>LOCAÇÃO OU FRETAMENTO DE VEÍCULOS AUTOMOTORES</td>\n",
       "      <td>...</td>\n",
       "      <td>2020</td>\n",
       "      <td>0</td>\n",
       "      <td>NaN</td>\n",
       "      <td>NaN</td>\n",
       "      <td>1672558</td>\n",
       "      <td>NaN</td>\n",
       "      <td>NaN</td>\n",
       "      <td>2425</td>\n",
       "      <td>7006232</td>\n",
       "      <td>https://www.camara.leg.br/cota-parlamentar/doc...</td>\n",
       "    </tr>\n",
       "    <tr>\n",
       "      <th>...</th>\n",
       "      <td>...</td>\n",
       "      <td>...</td>\n",
       "      <td>...</td>\n",
       "      <td>...</td>\n",
       "      <td>...</td>\n",
       "      <td>...</td>\n",
       "      <td>...</td>\n",
       "      <td>...</td>\n",
       "      <td>...</td>\n",
       "      <td>...</td>\n",
       "      <td>...</td>\n",
       "      <td>...</td>\n",
       "      <td>...</td>\n",
       "      <td>...</td>\n",
       "      <td>...</td>\n",
       "      <td>...</td>\n",
       "      <td>...</td>\n",
       "      <td>...</td>\n",
       "      <td>...</td>\n",
       "      <td>...</td>\n",
       "      <td>...</td>\n",
       "    </tr>\n",
       "    <tr>\n",
       "      <th>2020-04-30 17:08:42</th>\n",
       "      <td>Efraim Filho</td>\n",
       "      <td>7.703384e+08</td>\n",
       "      <td>141422</td>\n",
       "      <td>128</td>\n",
       "      <td>2019</td>\n",
       "      <td>PB</td>\n",
       "      <td>DEM</td>\n",
       "      <td>56</td>\n",
       "      <td>11</td>\n",
       "      <td>SERVIÇOS POSTAIS</td>\n",
       "      <td>...</td>\n",
       "      <td>2020</td>\n",
       "      <td>0</td>\n",
       "      <td>NaN</td>\n",
       "      <td>NaN</td>\n",
       "      <td>0</td>\n",
       "      <td>0</td>\n",
       "      <td>NaN</td>\n",
       "      <td>1823</td>\n",
       "      <td>0</td>\n",
       "      <td>NaN</td>\n",
       "    </tr>\n",
       "    <tr>\n",
       "      <th>2020-04-30 17:08:59</th>\n",
       "      <td>Vavá Martins</td>\n",
       "      <td>1.986310e+07</td>\n",
       "      <td>204505</td>\n",
       "      <td>35</td>\n",
       "      <td>2019</td>\n",
       "      <td>PA</td>\n",
       "      <td>REPUBLICANOS</td>\n",
       "      <td>56</td>\n",
       "      <td>11</td>\n",
       "      <td>SERVIÇOS POSTAIS</td>\n",
       "      <td>...</td>\n",
       "      <td>2020</td>\n",
       "      <td>0</td>\n",
       "      <td>NaN</td>\n",
       "      <td>NaN</td>\n",
       "      <td>0</td>\n",
       "      <td>0</td>\n",
       "      <td>NaN</td>\n",
       "      <td>3323</td>\n",
       "      <td>0</td>\n",
       "      <td>NaN</td>\n",
       "    </tr>\n",
       "    <tr>\n",
       "      <th>2020-04-30 17:14:05</th>\n",
       "      <td>Boca Aberta</td>\n",
       "      <td>8.411673e+10</td>\n",
       "      <td>204397</td>\n",
       "      <td>445</td>\n",
       "      <td>2019</td>\n",
       "      <td>PR</td>\n",
       "      <td>PROS</td>\n",
       "      <td>56</td>\n",
       "      <td>11</td>\n",
       "      <td>SERVIÇOS POSTAIS</td>\n",
       "      <td>...</td>\n",
       "      <td>2020</td>\n",
       "      <td>0</td>\n",
       "      <td>NaN</td>\n",
       "      <td>NaN</td>\n",
       "      <td>0</td>\n",
       "      <td>0</td>\n",
       "      <td>NaN</td>\n",
       "      <td>3321</td>\n",
       "      <td>0</td>\n",
       "      <td>NaN</td>\n",
       "    </tr>\n",
       "    <tr>\n",
       "      <th>2020-04-30 17:15:01</th>\n",
       "      <td>Assis Carvalho</td>\n",
       "      <td>1.567096e+10</td>\n",
       "      <td>159237</td>\n",
       "      <td>111</td>\n",
       "      <td>2019</td>\n",
       "      <td>PI</td>\n",
       "      <td>PT</td>\n",
       "      <td>56</td>\n",
       "      <td>11</td>\n",
       "      <td>SERVIÇOS POSTAIS</td>\n",
       "      <td>...</td>\n",
       "      <td>2020</td>\n",
       "      <td>0</td>\n",
       "      <td>NaN</td>\n",
       "      <td>NaN</td>\n",
       "      <td>0</td>\n",
       "      <td>0</td>\n",
       "      <td>NaN</td>\n",
       "      <td>2338</td>\n",
       "      <td>0</td>\n",
       "      <td>NaN</td>\n",
       "    </tr>\n",
       "    <tr>\n",
       "      <th>2020-04-30 17:28:23</th>\n",
       "      <td>Assis Carvalho</td>\n",
       "      <td>1.567096e+10</td>\n",
       "      <td>159237</td>\n",
       "      <td>111</td>\n",
       "      <td>2019</td>\n",
       "      <td>PI</td>\n",
       "      <td>PT</td>\n",
       "      <td>56</td>\n",
       "      <td>11</td>\n",
       "      <td>SERVIÇOS POSTAIS</td>\n",
       "      <td>...</td>\n",
       "      <td>2020</td>\n",
       "      <td>0</td>\n",
       "      <td>NaN</td>\n",
       "      <td>NaN</td>\n",
       "      <td>0</td>\n",
       "      <td>0</td>\n",
       "      <td>NaN</td>\n",
       "      <td>2338</td>\n",
       "      <td>0</td>\n",
       "      <td>NaN</td>\n",
       "    </tr>\n",
       "  </tbody>\n",
       "</table>\n",
       "<p>55145 rows × 30 columns</p>\n",
       "</div>"
      ],
      "text/plain": [
       "                       txNomeParlamentar           cpf ideCadastro  \\\n",
       "datEmissao                                                           \n",
       "2020-01-01 00:00:00            Alê Silva  7.987556e+10      204545   \n",
       "2020-01-01 00:00:00      LIDERANÇA DO PT           NaN         NaN   \n",
       "2020-01-01 00:00:00    Vinicius Carvalho  8.228602e+10      141555   \n",
       "2020-01-01 00:00:00     Jaqueline Cassol  3.512403e+10      108338   \n",
       "2020-01-01 00:00:00  Maurício Dziedricki  9.588711e+10       75431   \n",
       "...                                  ...           ...         ...   \n",
       "2020-04-30 17:08:42         Efraim Filho  7.703384e+08      141422   \n",
       "2020-04-30 17:08:59         Vavá Martins  1.986310e+07      204505   \n",
       "2020-04-30 17:14:05          Boca Aberta  8.411673e+10      204397   \n",
       "2020-04-30 17:15:01       Assis Carvalho  1.567096e+10      159237   \n",
       "2020-04-30 17:28:23       Assis Carvalho  1.567096e+10      159237   \n",
       "\n",
       "                    nuCarteiraParlamentar nuLegislatura sgUF     sgPartido  \\\n",
       "datEmissao                                                                   \n",
       "2020-01-01 00:00:00                   222          2019   MG           PSL   \n",
       "2020-01-01 00:00:00                   NaN          2019  NaN           NaN   \n",
       "2020-01-01 00:00:00                   397          2019   SP  REPUBLICANOS   \n",
       "2020-01-01 00:00:00                    47          2019   RO            PP   \n",
       "2020-01-01 00:00:00                   511          2019   RS           PTB   \n",
       "...                                   ...           ...  ...           ...   \n",
       "2020-04-30 17:08:42                   128          2019   PB           DEM   \n",
       "2020-04-30 17:08:59                    35          2019   PA  REPUBLICANOS   \n",
       "2020-04-30 17:14:05                   445          2019   PR          PROS   \n",
       "2020-04-30 17:15:01                   111          2019   PI            PT   \n",
       "2020-04-30 17:28:23                   111          2019   PI            PT   \n",
       "\n",
       "                    codLegislatura numSubCota  \\\n",
       "datEmissao                                      \n",
       "2020-01-01 00:00:00             56          3   \n",
       "2020-01-01 00:00:00             56          9   \n",
       "2020-01-01 00:00:00             56          3   \n",
       "2020-01-01 00:00:00             56         10   \n",
       "2020-01-01 00:00:00             56        120   \n",
       "...                            ...        ...   \n",
       "2020-04-30 17:08:42             56         11   \n",
       "2020-04-30 17:08:59             56         11   \n",
       "2020-04-30 17:14:05             56         11   \n",
       "2020-04-30 17:15:01             56         11   \n",
       "2020-04-30 17:28:23             56         11   \n",
       "\n",
       "                                                      txtDescricao  ...  \\\n",
       "datEmissao                                                          ...   \n",
       "2020-01-01 00:00:00                  COMBUSTÍVEIS E LUBRIFICANTES.  ...   \n",
       "2020-01-01 00:00:00                     PASSAGEM AÉREA - REEMBOLSO  ...   \n",
       "2020-01-01 00:00:00                  COMBUSTÍVEIS E LUBRIFICANTES.  ...   \n",
       "2020-01-01 00:00:00                                      TELEFONIA  ...   \n",
       "2020-01-01 00:00:00  LOCAÇÃO OU FRETAMENTO DE VEÍCULOS AUTOMOTORES  ...   \n",
       "...                                                            ...  ...   \n",
       "2020-04-30 17:08:42                               SERVIÇOS POSTAIS  ...   \n",
       "2020-04-30 17:08:59                               SERVIÇOS POSTAIS  ...   \n",
       "2020-04-30 17:14:05                               SERVIÇOS POSTAIS  ...   \n",
       "2020-04-30 17:15:01                               SERVIÇOS POSTAIS  ...   \n",
       "2020-04-30 17:28:23                               SERVIÇOS POSTAIS  ...   \n",
       "\n",
       "                    numAno numParcela txtPassageiro txtTrecho  numLote  \\\n",
       "datEmissao                                                               \n",
       "2020-01-01 00:00:00   2020          0           NaN       NaN  1666169   \n",
       "2020-01-01 00:00:00   2020          0           NaN       NaN  1667184   \n",
       "2020-01-01 00:00:00   2020          0           NaN       NaN  1670759   \n",
       "2020-01-01 00:00:00   2020          0           NaN       NaN  1672552   \n",
       "2020-01-01 00:00:00   2020          0           NaN       NaN  1672558   \n",
       "...                    ...        ...           ...       ...      ...   \n",
       "2020-04-30 17:08:42   2020          0           NaN       NaN        0   \n",
       "2020-04-30 17:08:59   2020          0           NaN       NaN        0   \n",
       "2020-04-30 17:14:05   2020          0           NaN       NaN        0   \n",
       "2020-04-30 17:15:01   2020          0           NaN       NaN        0   \n",
       "2020-04-30 17:28:23   2020          0           NaN       NaN        0   \n",
       "\n",
       "                    numRessarcimento  vlrRestituicao nuDeputadoId  \\\n",
       "datEmissao                                                          \n",
       "2020-01-01 00:00:00              NaN             NaN         3372   \n",
       "2020-01-01 00:00:00              NaN             NaN         2439   \n",
       "2020-01-01 00:00:00              NaN             NaN         1951   \n",
       "2020-01-01 00:00:00              NaN             NaN         3434   \n",
       "2020-01-01 00:00:00              NaN             NaN         2425   \n",
       "...                              ...             ...          ...   \n",
       "2020-04-30 17:08:42                0             NaN         1823   \n",
       "2020-04-30 17:08:59                0             NaN         3323   \n",
       "2020-04-30 17:14:05                0             NaN         3321   \n",
       "2020-04-30 17:15:01                0             NaN         2338   \n",
       "2020-04-30 17:28:23                0             NaN         2338   \n",
       "\n",
       "                     ideDocumento  \\\n",
       "datEmissao                          \n",
       "2020-01-01 00:00:00       6992047   \n",
       "2020-01-01 00:00:00       6994730   \n",
       "2020-01-01 00:00:00       7002356   \n",
       "2020-01-01 00:00:00       7005847   \n",
       "2020-01-01 00:00:00       7006232   \n",
       "...                           ...   \n",
       "2020-04-30 17:08:42             0   \n",
       "2020-04-30 17:08:59             0   \n",
       "2020-04-30 17:14:05             0   \n",
       "2020-04-30 17:15:01             0   \n",
       "2020-04-30 17:28:23             0   \n",
       "\n",
       "                                                          urlDocumento  \n",
       "datEmissao                                                              \n",
       "2020-01-01 00:00:00  https://www.camara.leg.br/cota-parlamentar/doc...  \n",
       "2020-01-01 00:00:00  https://www.camara.leg.br/cota-parlamentar/doc...  \n",
       "2020-01-01 00:00:00  https://www.camara.leg.br/cota-parlamentar/doc...  \n",
       "2020-01-01 00:00:00                                                NaN  \n",
       "2020-01-01 00:00:00  https://www.camara.leg.br/cota-parlamentar/doc...  \n",
       "...                                                                ...  \n",
       "2020-04-30 17:08:42                                                NaN  \n",
       "2020-04-30 17:08:59                                                NaN  \n",
       "2020-04-30 17:14:05                                                NaN  \n",
       "2020-04-30 17:15:01                                                NaN  \n",
       "2020-04-30 17:28:23                                                NaN  \n",
       "\n",
       "[55145 rows x 30 columns]"
      ]
     },
     "execution_count": 37,
     "metadata": {},
     "output_type": "execute_result"
    }
   ],
   "source": [
    "df_reimbursements_2020.set_index(\"datEmissao\").sort_index()[\"2020-01-01\":\"2020-04-30\"]"
   ]
  },
  {
   "cell_type": "markdown",
   "id": "f5c3b9e1",
   "metadata": {},
   "source": [
    "#### completando, substituindo e reformatando"
   ]
  },
  {
   "cell_type": "code",
   "execution_count": null,
   "id": "c2ea5380",
   "metadata": {},
   "outputs": [],
   "source": [
    "df_reimbursements_2020[\"cnpj_cpf\"] = df_reimbursements_2020[\"cnpj_cpf\"].str.replace(r'\\D', '')"
   ]
  },
  {
   "cell_type": "code",
   "execution_count": null,
   "id": "c06338e5",
   "metadata": {},
   "outputs": [],
   "source": [
    "df_reimbursements_2020[df_reimburs# Este dado representa o tipo de documento do fiscal – \n",
    "# 0 (Zero), para Nota Fiscal; 1 (um), para Recibo; e 2, para Despesa no Exterior.\n",
    "types = ('nota_fiscal', 'recibo', 'despesa_exterior')\n",
    "converters = {number: None for number in range(3, 6)}\n",
    "\n",
    "converters\n",
    "\n",
    "df_reimbursements_2020.indTipoDocumento.unique()\n",
    "\n",
    "df_reimbursements_2020.replace({\"4\": None}, inplace=True)ements_2020.sgPartido.isna()].txNomeParlamentar.replace(\"LIDERANÇA DO \", \"\")"
   ]
  },
  {
   "cell_type": "code",
   "execution_count": 47,
   "id": "5293e978",
   "metadata": {},
   "outputs": [
    {
     "data": {
      "text/plain": [
       "{3: None, 4: None, 5: None}"
      ]
     },
     "execution_count": 47,
     "metadata": {},
     "output_type": "execute_result"
    }
   ],
   "source": [
    "# Este dado representa o tipo de documento do fiscal – \n",
    "# 0 (Zero), para Nota Fiscal; 1 (um), para Recibo; e 2, para Despesa no Exterior.\n",
    "types = ('nota_fiscal', 'recibo', 'despesa_exterior')\n",
    "converters = {number: None for number in range(3, 6)}\n",
    "\n",
    "converters"
   ]
  },
  {
   "cell_type": "code",
   "execution_count": 43,
   "id": "2c37b1cb",
   "metadata": {},
   "outputs": [
    {
     "data": {
      "text/plain": [
       "array(['4', '1', '0', '2'], dtype=object)"
      ]
     },
     "execution_count": 43,
     "metadata": {},
     "output_type": "execute_result"
    }
   ],
   "source": [
    "df_reimbursements_2020.indTipoDocumento.unique()"
   ]
  },
  {
   "cell_type": "code",
   "execution_count": 45,
   "id": "0afd3770",
   "metadata": {},
   "outputs": [],
   "source": [
    "df_reimbursements_2020.replace({\"4\": None}, inplace=True)"
   ]
  },
  {
   "cell_type": "markdown",
   "id": "eec0d5e8",
   "metadata": {},
   "source": [
    "ATENÇÃO: Alguns reembolsos aparecem divididos: eles estão associados ao mesmo número de documento ('ideDocumento'), mas os valores reembolsados aparecem parcelados. \n",
    "\n",
    "Isso pode trazer uma análise errada se não tomarmos cuidado. Por exemplo, isso pode afetar uma análise de frequência de pedidos de reembolso, se só olharmos quantos registros estão associados ao parlamentar."
   ]
  },
  {
   "cell_type": "code",
   "execution_count": 46,
   "id": "ac2c594b",
   "metadata": {},
   "outputs": [
    {
     "data": {
      "text/plain": [
       "ideDocumento  numAno  ideDocumento\n",
       "0             2020    0               2175020.40\n",
       "10009         2020    10009              -960.57\n",
       "10010         2020    10010              -699.66\n",
       "10026         2020    10026                65.24\n",
       "10033         2020    10033              -434.70\n",
       "                                         ...    \n",
       "9968          2020    9968               -756.67\n",
       "9971          2020    9971               -834.45\n",
       "9972          2020    9972               -839.45\n",
       "9984          2020    9984               -371.57\n",
       "9998          2020    9998              -1428.57\n",
       "Name: vlrLiquido, Length: 134087, dtype: float64"
      ]
     },
     "execution_count": 46,
     "metadata": {},
     "output_type": "execute_result"
    }
   ],
   "source": [
    "import numpy as np\n",
    "\n",
    "keys = ['ideDocumento', 'numAno', 'ideDocumento']\n",
    "# df_reimbursements_2020.groupby(keys)['vlrLiquido'].agg(np.sum)\n",
    "df_reimbursements_2020.groupby(keys)['vlrLiquido'].agg(\"sum\")"
   ]
  },
  {
   "cell_type": "code",
   "execution_count": 45,
   "id": "66ae3b16",
   "metadata": {},
   "outputs": [
    {
     "data": {
      "text/html": [
       "<div>\n",
       "<style scoped>\n",
       "    .dataframe tbody tr th:only-of-type {\n",
       "        vertical-align: middle;\n",
       "    }\n",
       "\n",
       "    .dataframe tbody tr th {\n",
       "        vertical-align: top;\n",
       "    }\n",
       "\n",
       "    .dataframe thead th {\n",
       "        text-align: right;\n",
       "    }\n",
       "</style>\n",
       "<table border=\"1\" class=\"dataframe\">\n",
       "  <thead>\n",
       "    <tr style=\"text-align: right;\">\n",
       "      <th></th>\n",
       "      <th>vlrLiquido</th>\n",
       "    </tr>\n",
       "  </thead>\n",
       "  <tbody>\n",
       "    <tr>\n",
       "      <th>0</th>\n",
       "      <td>2175020.40</td>\n",
       "    </tr>\n",
       "    <tr>\n",
       "      <th>1</th>\n",
       "      <td>-960.57</td>\n",
       "    </tr>\n",
       "    <tr>\n",
       "      <th>2</th>\n",
       "      <td>-699.66</td>\n",
       "    </tr>\n",
       "    <tr>\n",
       "      <th>3</th>\n",
       "      <td>65.24</td>\n",
       "    </tr>\n",
       "    <tr>\n",
       "      <th>4</th>\n",
       "      <td>-434.70</td>\n",
       "    </tr>\n",
       "    <tr>\n",
       "      <th>...</th>\n",
       "      <td>...</td>\n",
       "    </tr>\n",
       "    <tr>\n",
       "      <th>134082</th>\n",
       "      <td>-756.67</td>\n",
       "    </tr>\n",
       "    <tr>\n",
       "      <th>134083</th>\n",
       "      <td>-834.45</td>\n",
       "    </tr>\n",
       "    <tr>\n",
       "      <th>134084</th>\n",
       "      <td>-839.45</td>\n",
       "    </tr>\n",
       "    <tr>\n",
       "      <th>134085</th>\n",
       "      <td>-371.57</td>\n",
       "    </tr>\n",
       "    <tr>\n",
       "      <th>134086</th>\n",
       "      <td>-1428.57</td>\n",
       "    </tr>\n",
       "  </tbody>\n",
       "</table>\n",
       "<p>134087 rows × 1 columns</p>\n",
       "</div>"
      ],
      "text/plain": [
       "        vlrLiquido\n",
       "0       2175020.40\n",
       "1          -960.57\n",
       "2          -699.66\n",
       "3            65.24\n",
       "4          -434.70\n",
       "...            ...\n",
       "134082     -756.67\n",
       "134083     -834.45\n",
       "134084     -839.45\n",
       "134085     -371.57\n",
       "134086    -1428.57\n",
       "\n",
       "[134087 rows x 1 columns]"
      ]
     },
     "execution_count": 45,
     "metadata": {},
     "output_type": "execute_result"
    }
   ],
   "source": [
    "df_reimbursements_2020.groupby(keys).agg({\"vlrLiquido\": \"sum\"}).reset_index(drop=True)\n",
    "#('month', as_index=False).agg({\"duration\": \"sum\"})"
   ]
  },
  {
   "cell_type": "code",
   "execution_count": null,
   "id": "cad8f755",
   "metadata": {},
   "outputs": [],
   "source": []
  }
 ],
 "metadata": {
  "kernelspec": {
   "display_name": "Python 3",
   "language": "python",
   "name": "python3"
  },
  "language_info": {
   "codemirror_mode": {
    "name": "ipython",
    "version": 3
   },
   "file_extension": ".py",
   "mimetype": "text/x-python",
   "name": "python",
   "nbconvert_exporter": "python",
   "pygments_lexer": "ipython3",
   "version": "3.7.4"
  },
  "toc": {
   "base_numbering": 1,
   "nav_menu": {},
   "number_sections": true,
   "sideBar": true,
   "skip_h1_title": false,
   "title_cell": "Table of Contents",
   "title_sidebar": "Contents",
   "toc_cell": false,
   "toc_position": {
    "height": "calc(100% - 180px)",
    "left": "10px",
    "top": "150px",
    "width": "337.796875px"
   },
   "toc_section_display": true,
   "toc_window_display": true
  }
 },
 "nbformat": 4,
 "nbformat_minor": 5
}
