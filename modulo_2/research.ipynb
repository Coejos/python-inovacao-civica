{
 "cells": [
  {
   "cell_type": "code",
   "execution_count": 1,
   "id": "55c3f455",
   "metadata": {
    "id": "3lEoz1Lr5NeJ"
   },
   "outputs": [],
   "source": [
    "url = f\"http://www.camara.leg.br/cotas/Ano-2019.csv.zip\""
   ]
  },
  {
   "cell_type": "code",
   "execution_count": 2,
   "id": "e335c8c7",
   "metadata": {
    "id": "H-ShSuQJ5ICY"
   },
   "outputs": [],
   "source": [
    "import requests\n",
    "\n",
    "# fazendo o download do conteúdo do arquivo\n",
    "r = requests.get(url)"
   ]
  },
  {
   "cell_type": "code",
   "execution_count": 3,
   "id": "a80fbd1c",
   "metadata": {
    "id": "5aXzYO4MziQn"
   },
   "outputs": [],
   "source": [
    "# abrindo um arquivo no seu computador\n",
    "file = open(f\"Ano-2019.csv.zip\", \"wb\")\n",
    "\n",
    "# escrever o conteúdo\n",
    "file.write(r.content)\n",
    "file.close()"
   ]
  },
  {
   "cell_type": "code",
   "execution_count": null,
   "id": "4407d92a",
   "metadata": {
    "id": "Xmzmw4oLzg-k"
   },
   "outputs": [],
   "source": [
    "# outra forma de criar arquivos, e escrever conteúdo\n",
    "\n",
    "# with open(f\"Ano-{year}.csv.zip\", \"wb\") as code:\n",
    "#    code.write(r.content)"
   ]
  },
  {
   "cell_type": "code",
   "execution_count": 4,
   "id": "db445c34",
   "metadata": {
    "id": "SpeJGZ5s4tYR"
   },
   "outputs": [],
   "source": [
    "from zipfile import ZipFile"
   ]
  },
  {
   "cell_type": "code",
   "execution_count": 5,
   "id": "a75fb247",
   "metadata": {
    "id": "vke0teol4w8S"
   },
   "outputs": [],
   "source": [
    "zip_file = ZipFile(f\"Ano-2019.csv.zip\", 'r')"
   ]
  },
  {
   "cell_type": "code",
   "execution_count": 6,
   "id": "ba5a3fe0",
   "metadata": {
    "colab": {
     "base_uri": "https://localhost:8080/"
    },
    "id": "K6KlfvVW4yEJ",
    "outputId": "e81a4c9e-513a-4f8a-855c-9f17c113fdb5"
   },
   "outputs": [
    {
     "data": {
      "text/plain": [
       "['Ano-2019.csv']"
      ]
     },
     "execution_count": 6,
     "metadata": {},
     "output_type": "execute_result"
    }
   ],
   "source": [
    "zip_file.namelist()"
   ]
  },
  {
   "cell_type": "code",
   "execution_count": 7,
   "id": "835aaa1a",
   "metadata": {
    "colab": {
     "base_uri": "https://localhost:8080/",
     "height": 37
    },
    "id": "XpnL3tJe5Lm_",
    "outputId": "cff349aa-b17f-4ab0-8498-7ce6df1de82f"
   },
   "outputs": [
    {
     "data": {
      "text/plain": [
       "'reembolso-2019/Ano-2019.csv'"
      ]
     },
     "execution_count": 7,
     "metadata": {},
     "output_type": "execute_result"
    }
   ],
   "source": [
    "zip_file.extract(member=f\"Ano-2019.csv\", path=f\"reembolso-2019\")"
   ]
  },
  {
   "cell_type": "code",
   "execution_count": null,
   "id": "aea63be7",
   "metadata": {
    "id": "qF4UmfPqiELQ"
   },
   "outputs": [],
   "source": [
    "# caso a gente queira extrair todo o conteúdo do arquivo zip\n",
    "\n",
    "# zip_file.extractall(path=f\"reimbursements-{year}\")"
   ]
  },
  {
   "cell_type": "code",
   "execution_count": 8,
   "id": "3a113e58",
   "metadata": {
    "id": "HWMAqsBT5W8e"
   },
   "outputs": [],
   "source": [
    "zip_file.close()"
   ]
  },
  {
   "cell_type": "markdown",
   "id": "e7244afa",
   "metadata": {
    "id": "9V6UrEjQiS4S"
   },
   "source": [
    "### Aula 03: Lendo os dados com Pandas"
   ]
  },
  {
   "cell_type": "code",
   "execution_count": 10,
   "id": "55880b49",
   "metadata": {
    "id": "yalZ9LW96ONR",
    "scrolled": false
   },
   "outputs": [
    {
     "name": "stderr",
     "output_type": "stream",
     "text": [
      "/Users/gabriela/Development/Contrib/okb/python-inovacao-civica/notebooks/venv/lib/python3.7/site-packages/pandas/compat/__init__.py:97: UserWarning: Could not import the lzma module. Your installed Python is incomplete. Attempting to use lzma compression will result in a RuntimeError.\n",
      "  warnings.warn(msg)\n"
     ]
    }
   ],
   "source": [
    "import pandas as pd"
   ]
  },
  {
   "cell_type": "code",
   "execution_count": 17,
   "id": "c022f1c8",
   "metadata": {},
   "outputs": [],
   "source": [
    "DTYPE = {\n",
    "    'txNomeParlamentar': str,\n",
    "    'ideCadastro': str,\n",
    "    'nuCarteiraParlamentar': str,\n",
    "    'nuLegislatura': str,\n",
    "    'sgUF': str,\n",
    "    'sgPartido': str,\n",
    "    'codLegislatura': str,\n",
    "    'numSubCota': str,\n",
    "    'txtDescricao': str,\n",
    "    'numEspecificacaoSubCota': str,\n",
    "    'txtDescricaoEspecificacao': str,\n",
    "    'txtFornecedor': str,\n",
    "    'txtCNPJCPF': str,\n",
    "    'txtNumero': str,\n",
    "    'indTipoDocumento': str,\n",
    "    'datEmissao': str,\n",
    "    'vlrDocumento': float,\n",
    "    'vlrGlosa': str,\n",
    "    'vlrLiquido': float,\n",
    "    'numMes': str,\n",
    "    'numAno': str,\n",
    "    'numParcela': str,\n",
    "    'txtPassageiro': str,\n",
    "    'txtTrecho': str,\n",
    "    'numLote': str,\n",
    "    'numRessarcimento': str,\n",
    "    'nuDeputadoId': str,\n",
    "    'ideDocumento': str,\n",
    "}\n",
    "\n",
    "df_reimbursements = pd.read_csv(\n",
    "    \"reembolso-2019/Ano-2019.csv\", \n",
    "    delimiter=\";\", \n",
    "    #dtype=DTYPE, \n",
    "    low_memory=False\n",
    ")"
   ]
  },
  {
   "cell_type": "markdown",
   "id": "6f9c817f",
   "metadata": {},
   "source": [
    "#### Preenchendo valores nulos"
   ]
  },
  {
   "cell_type": "code",
   "execution_count": null,
   "id": "08d71122",
   "metadata": {
    "colab": {
     "base_uri": "https://localhost:8080/",
     "height": 462
    },
    "id": "StprWX3WdrFh",
    "outputId": "5436707a-d0f6-45f7-ccbe-52246c4cb3b6"
   },
   "outputs": [],
   "source": [
    "df_reimbursements.fillna(value=\"Não se aplica\").head()"
   ]
  },
  {
   "cell_type": "code",
   "execution_count": null,
   "id": "bcb39dca",
   "metadata": {},
   "outputs": [],
   "source": [
    "df_reimbursements[df_reimbursements.sgPartido.isna()]"
   ]
  },
  {
   "cell_type": "code",
   "execution_count": null,
   "id": "345ec402",
   "metadata": {},
   "outputs": [],
   "source": [
    "df_reimbursements[df_reimbursements['ideDocumento'].isnull()]"
   ]
  },
  {
   "cell_type": "markdown",
   "id": "f048cb6e",
   "metadata": {},
   "source": [
    "#### astype"
   ]
  },
  {
   "cell_type": "code",
   "execution_count": null,
   "id": "a68a72f8",
   "metadata": {},
   "outputs": [],
   "source": [
    "# df_reimbursements[\"ideCadastro\"] = df_reimbursements[\"ideCadastro\"].astype('string')"
   ]
  },
  {
   "cell_type": "code",
   "execution_count": 5,
   "id": "8bf65f61",
   "metadata": {
    "scrolled": false
   },
   "outputs": [],
   "source": [
    "df_reimbursements[\"datEmissao\"] = pd.to_datetime(\n",
    "    df_reimbursements.datEmissao, \n",
    "    format='%Y-%m-%d'\n",
    ") "
   ]
  },
  {
   "cell_type": "code",
   "execution_count": 6,
   "id": "f19fbf56",
   "metadata": {
    "scrolled": false
   },
   "outputs": [
    {
     "data": {
      "text/html": [
       "<div>\n",
       "<style scoped>\n",
       "    .dataframe tbody tr th:only-of-type {\n",
       "        vertical-align: middle;\n",
       "    }\n",
       "\n",
       "    .dataframe tbody tr th {\n",
       "        vertical-align: top;\n",
       "    }\n",
       "\n",
       "    .dataframe thead th {\n",
       "        text-align: right;\n",
       "    }\n",
       "</style>\n",
       "<table border=\"1\" class=\"dataframe\">\n",
       "  <thead>\n",
       "    <tr style=\"text-align: right;\">\n",
       "      <th></th>\n",
       "      <th>txNomeParlamentar</th>\n",
       "      <th>cpf</th>\n",
       "      <th>ideCadastro</th>\n",
       "      <th>nuCarteiraParlamentar</th>\n",
       "      <th>nuLegislatura</th>\n",
       "      <th>sgUF</th>\n",
       "      <th>sgPartido</th>\n",
       "      <th>codLegislatura</th>\n",
       "      <th>numSubCota</th>\n",
       "      <th>txtDescricao</th>\n",
       "      <th>...</th>\n",
       "      <th>numAno</th>\n",
       "      <th>numParcela</th>\n",
       "      <th>txtPassageiro</th>\n",
       "      <th>txtTrecho</th>\n",
       "      <th>numLote</th>\n",
       "      <th>numRessarcimento</th>\n",
       "      <th>vlrRestituicao</th>\n",
       "      <th>nuDeputadoId</th>\n",
       "      <th>ideDocumento</th>\n",
       "      <th>urlDocumento</th>\n",
       "    </tr>\n",
       "    <tr>\n",
       "      <th>datEmissao</th>\n",
       "      <th></th>\n",
       "      <th></th>\n",
       "      <th></th>\n",
       "      <th></th>\n",
       "      <th></th>\n",
       "      <th></th>\n",
       "      <th></th>\n",
       "      <th></th>\n",
       "      <th></th>\n",
       "      <th></th>\n",
       "      <th></th>\n",
       "      <th></th>\n",
       "      <th></th>\n",
       "      <th></th>\n",
       "      <th></th>\n",
       "      <th></th>\n",
       "      <th></th>\n",
       "      <th></th>\n",
       "      <th></th>\n",
       "      <th></th>\n",
       "      <th></th>\n",
       "    </tr>\n",
       "  </thead>\n",
       "  <tbody>\n",
       "    <tr>\n",
       "      <th>2020-01-10</th>\n",
       "      <td>LIDERANÇA DO DEMOCRATAS</td>\n",
       "      <td>NaN</td>\n",
       "      <td>NaN</td>\n",
       "      <td>NaN</td>\n",
       "      <td>2019</td>\n",
       "      <td>NaN</td>\n",
       "      <td>NaN</td>\n",
       "      <td>56</td>\n",
       "      <td>12</td>\n",
       "      <td>ASSINATURA DE PUBLICAÇÕES</td>\n",
       "      <td>...</td>\n",
       "      <td>2019</td>\n",
       "      <td>0</td>\n",
       "      <td>NaN</td>\n",
       "      <td>NaN</td>\n",
       "      <td>1667101</td>\n",
       "      <td>NaN</td>\n",
       "      <td>NaN</td>\n",
       "      <td>2713</td>\n",
       "      <td>6994538</td>\n",
       "      <td>http://camara.leg.br/cota-parlamentar/nota-fis...</td>\n",
       "    </tr>\n",
       "    <tr>\n",
       "      <th>2020-01-02</th>\n",
       "      <td>LIDERANÇA DO PODEMOS</td>\n",
       "      <td>NaN</td>\n",
       "      <td>NaN</td>\n",
       "      <td>NaN</td>\n",
       "      <td>2019</td>\n",
       "      <td>NaN</td>\n",
       "      <td>NaN</td>\n",
       "      <td>56</td>\n",
       "      <td>5</td>\n",
       "      <td>DIVULGAÇÃO DA ATIVIDADE PARLAMENTAR.</td>\n",
       "      <td>...</td>\n",
       "      <td>2019</td>\n",
       "      <td>0</td>\n",
       "      <td>NaN</td>\n",
       "      <td>NaN</td>\n",
       "      <td>1669984</td>\n",
       "      <td>NaN</td>\n",
       "      <td>NaN</td>\n",
       "      <td>3172</td>\n",
       "      <td>7000670</td>\n",
       "      <td>http://camara.leg.br/cota-parlamentar/nota-fis...</td>\n",
       "    </tr>\n",
       "    <tr>\n",
       "      <th>2020-01-04</th>\n",
       "      <td>LIDERANÇA DO PT</td>\n",
       "      <td>NaN</td>\n",
       "      <td>NaN</td>\n",
       "      <td>NaN</td>\n",
       "      <td>2019</td>\n",
       "      <td>NaN</td>\n",
       "      <td>NaN</td>\n",
       "      <td>56</td>\n",
       "      <td>1</td>\n",
       "      <td>MANUTENÇÃO DE ESCRITÓRIO DE APOIO À ATIVIDADE ...</td>\n",
       "      <td>...</td>\n",
       "      <td>2019</td>\n",
       "      <td>0</td>\n",
       "      <td>NaN</td>\n",
       "      <td>NaN</td>\n",
       "      <td>1667165</td>\n",
       "      <td>NaN</td>\n",
       "      <td>NaN</td>\n",
       "      <td>2439</td>\n",
       "      <td>6994687</td>\n",
       "      <td>https://www.camara.leg.br/cota-parlamentar/doc...</td>\n",
       "    </tr>\n",
       "    <tr>\n",
       "      <th>2020-01-31</th>\n",
       "      <td>LIDERANÇA DO PT</td>\n",
       "      <td>NaN</td>\n",
       "      <td>NaN</td>\n",
       "      <td>NaN</td>\n",
       "      <td>2019</td>\n",
       "      <td>NaN</td>\n",
       "      <td>NaN</td>\n",
       "      <td>56</td>\n",
       "      <td>5</td>\n",
       "      <td>DIVULGAÇÃO DA ATIVIDADE PARLAMENTAR.</td>\n",
       "      <td>...</td>\n",
       "      <td>2019</td>\n",
       "      <td>0</td>\n",
       "      <td>NaN</td>\n",
       "      <td>NaN</td>\n",
       "      <td>1670191</td>\n",
       "      <td>NaN</td>\n",
       "      <td>NaN</td>\n",
       "      <td>2439</td>\n",
       "      <td>7001237</td>\n",
       "      <td>http://camara.leg.br/cota-parlamentar/nota-fis...</td>\n",
       "    </tr>\n",
       "    <tr>\n",
       "      <th>2020-01-07</th>\n",
       "      <td>LIDERANÇA DO PT</td>\n",
       "      <td>NaN</td>\n",
       "      <td>NaN</td>\n",
       "      <td>NaN</td>\n",
       "      <td>2019</td>\n",
       "      <td>NaN</td>\n",
       "      <td>NaN</td>\n",
       "      <td>56</td>\n",
       "      <td>120</td>\n",
       "      <td>LOCAÇÃO OU FRETAMENTO DE VEÍCULOS AUTOMOTORES</td>\n",
       "      <td>...</td>\n",
       "      <td>2019</td>\n",
       "      <td>0</td>\n",
       "      <td>NaN</td>\n",
       "      <td>NaN</td>\n",
       "      <td>1667166</td>\n",
       "      <td>NaN</td>\n",
       "      <td>NaN</td>\n",
       "      <td>2439</td>\n",
       "      <td>6994688</td>\n",
       "      <td>http://camara.leg.br/cota-parlamentar/nota-fis...</td>\n",
       "    </tr>\n",
       "    <tr>\n",
       "      <th>...</th>\n",
       "      <td>...</td>\n",
       "      <td>...</td>\n",
       "      <td>...</td>\n",
       "      <td>...</td>\n",
       "      <td>...</td>\n",
       "      <td>...</td>\n",
       "      <td>...</td>\n",
       "      <td>...</td>\n",
       "      <td>...</td>\n",
       "      <td>...</td>\n",
       "      <td>...</td>\n",
       "      <td>...</td>\n",
       "      <td>...</td>\n",
       "      <td>...</td>\n",
       "      <td>...</td>\n",
       "      <td>...</td>\n",
       "      <td>...</td>\n",
       "      <td>...</td>\n",
       "      <td>...</td>\n",
       "      <td>...</td>\n",
       "      <td>...</td>\n",
       "    </tr>\n",
       "    <tr>\n",
       "      <th>2020-01-01</th>\n",
       "      <td>Enéias Reis</td>\n",
       "      <td>9.450581e+10</td>\n",
       "      <td>207309</td>\n",
       "      <td>533</td>\n",
       "      <td>2019</td>\n",
       "      <td>MG</td>\n",
       "      <td>PSL</td>\n",
       "      <td>56</td>\n",
       "      <td>10</td>\n",
       "      <td>TELEFONIA</td>\n",
       "      <td>...</td>\n",
       "      <td>2019</td>\n",
       "      <td>0</td>\n",
       "      <td>NaN</td>\n",
       "      <td>NaN</td>\n",
       "      <td>1669485</td>\n",
       "      <td>NaN</td>\n",
       "      <td>NaN</td>\n",
       "      <td>3446</td>\n",
       "      <td>6999178</td>\n",
       "      <td>NaN</td>\n",
       "    </tr>\n",
       "    <tr>\n",
       "      <th>2020-01-03</th>\n",
       "      <td>Fernando Borja</td>\n",
       "      <td>5.267385e+10</td>\n",
       "      <td>212504</td>\n",
       "      <td>547</td>\n",
       "      <td>2019</td>\n",
       "      <td>MG</td>\n",
       "      <td>AVANTE</td>\n",
       "      <td>56</td>\n",
       "      <td>5</td>\n",
       "      <td>DIVULGAÇÃO DA ATIVIDADE PARLAMENTAR.</td>\n",
       "      <td>...</td>\n",
       "      <td>2019</td>\n",
       "      <td>0</td>\n",
       "      <td>NaN</td>\n",
       "      <td>NaN</td>\n",
       "      <td>1675071</td>\n",
       "      <td>NaN</td>\n",
       "      <td>NaN</td>\n",
       "      <td>3462</td>\n",
       "      <td>7012146</td>\n",
       "      <td>https://www.camara.leg.br/cota-parlamentar/doc...</td>\n",
       "    </tr>\n",
       "    <tr>\n",
       "      <th>2020-02-28</th>\n",
       "      <td>Fernando Borja</td>\n",
       "      <td>5.267385e+10</td>\n",
       "      <td>212504</td>\n",
       "      <td>547</td>\n",
       "      <td>2019</td>\n",
       "      <td>MG</td>\n",
       "      <td>AVANTE</td>\n",
       "      <td>56</td>\n",
       "      <td>10</td>\n",
       "      <td>TELEFONIA</td>\n",
       "      <td>...</td>\n",
       "      <td>2019</td>\n",
       "      <td>0</td>\n",
       "      <td>NaN</td>\n",
       "      <td>NaN</td>\n",
       "      <td>0</td>\n",
       "      <td>0</td>\n",
       "      <td>NaN</td>\n",
       "      <td>3462</td>\n",
       "      <td>0</td>\n",
       "      <td>NaN</td>\n",
       "    </tr>\n",
       "    <tr>\n",
       "      <th>2020-01-08</th>\n",
       "      <td>Dr. Gonçalo</td>\n",
       "      <td>5.461154e+09</td>\n",
       "      <td>212625</td>\n",
       "      <td>548</td>\n",
       "      <td>2019</td>\n",
       "      <td>MA</td>\n",
       "      <td>REPUBLICANOS</td>\n",
       "      <td>56</td>\n",
       "      <td>4</td>\n",
       "      <td>CONSULTORIAS, PESQUISAS E TRABALHOS TÉCNICOS.</td>\n",
       "      <td>...</td>\n",
       "      <td>2019</td>\n",
       "      <td>0</td>\n",
       "      <td>NaN</td>\n",
       "      <td>NaN</td>\n",
       "      <td>1666704</td>\n",
       "      <td>NaN</td>\n",
       "      <td>NaN</td>\n",
       "      <td>3463</td>\n",
       "      <td>6993447</td>\n",
       "      <td>https://www.camara.leg.br/cota-parlamentar/doc...</td>\n",
       "    </tr>\n",
       "    <tr>\n",
       "      <th>2020-01-31</th>\n",
       "      <td>Marcão Gomes</td>\n",
       "      <td>9.300886e+09</td>\n",
       "      <td>212749</td>\n",
       "      <td>551</td>\n",
       "      <td>2019</td>\n",
       "      <td>RJ</td>\n",
       "      <td>PL</td>\n",
       "      <td>56</td>\n",
       "      <td>120</td>\n",
       "      <td>LOCAÇÃO OU FRETAMENTO DE VEÍCULOS AUTOMOTORES</td>\n",
       "      <td>...</td>\n",
       "      <td>2019</td>\n",
       "      <td>0</td>\n",
       "      <td>NaN</td>\n",
       "      <td>NaN</td>\n",
       "      <td>1680650</td>\n",
       "      <td>NaN</td>\n",
       "      <td>NaN</td>\n",
       "      <td>3465</td>\n",
       "      <td>7022622</td>\n",
       "      <td>https://www.camara.leg.br/cota-parlamentar/doc...</td>\n",
       "    </tr>\n",
       "  </tbody>\n",
       "</table>\n",
       "<p>1898 rows × 30 columns</p>\n",
       "</div>"
      ],
      "text/plain": [
       "                  txNomeParlamentar           cpf ideCadastro  \\\n",
       "datEmissao                                                      \n",
       "2020-01-10  LIDERANÇA DO DEMOCRATAS           NaN         NaN   \n",
       "2020-01-02     LIDERANÇA DO PODEMOS           NaN         NaN   \n",
       "2020-01-04          LIDERANÇA DO PT           NaN         NaN   \n",
       "2020-01-31          LIDERANÇA DO PT           NaN         NaN   \n",
       "2020-01-07          LIDERANÇA DO PT           NaN         NaN   \n",
       "...                             ...           ...         ...   \n",
       "2020-01-01              Enéias Reis  9.450581e+10      207309   \n",
       "2020-01-03           Fernando Borja  5.267385e+10      212504   \n",
       "2020-02-28           Fernando Borja  5.267385e+10      212504   \n",
       "2020-01-08              Dr. Gonçalo  5.461154e+09      212625   \n",
       "2020-01-31             Marcão Gomes  9.300886e+09      212749   \n",
       "\n",
       "           nuCarteiraParlamentar nuLegislatura sgUF     sgPartido  \\\n",
       "datEmissao                                                          \n",
       "2020-01-10                   NaN          2019  NaN           NaN   \n",
       "2020-01-02                   NaN          2019  NaN           NaN   \n",
       "2020-01-04                   NaN          2019  NaN           NaN   \n",
       "2020-01-31                   NaN          2019  NaN           NaN   \n",
       "2020-01-07                   NaN          2019  NaN           NaN   \n",
       "...                          ...           ...  ...           ...   \n",
       "2020-01-01                   533          2019   MG           PSL   \n",
       "2020-01-03                   547          2019   MG        AVANTE   \n",
       "2020-02-28                   547          2019   MG        AVANTE   \n",
       "2020-01-08                   548          2019   MA  REPUBLICANOS   \n",
       "2020-01-31                   551          2019   RJ            PL   \n",
       "\n",
       "           codLegislatura numSubCota  \\\n",
       "datEmissao                             \n",
       "2020-01-10             56         12   \n",
       "2020-01-02             56          5   \n",
       "2020-01-04             56          1   \n",
       "2020-01-31             56          5   \n",
       "2020-01-07             56        120   \n",
       "...                   ...        ...   \n",
       "2020-01-01             56         10   \n",
       "2020-01-03             56          5   \n",
       "2020-02-28             56         10   \n",
       "2020-01-08             56          4   \n",
       "2020-01-31             56        120   \n",
       "\n",
       "                                                 txtDescricao  ... numAno  \\\n",
       "datEmissao                                                     ...          \n",
       "2020-01-10                          ASSINATURA DE PUBLICAÇÕES  ...   2019   \n",
       "2020-01-02               DIVULGAÇÃO DA ATIVIDADE PARLAMENTAR.  ...   2019   \n",
       "2020-01-04  MANUTENÇÃO DE ESCRITÓRIO DE APOIO À ATIVIDADE ...  ...   2019   \n",
       "2020-01-31               DIVULGAÇÃO DA ATIVIDADE PARLAMENTAR.  ...   2019   \n",
       "2020-01-07      LOCAÇÃO OU FRETAMENTO DE VEÍCULOS AUTOMOTORES  ...   2019   \n",
       "...                                                       ...  ...    ...   \n",
       "2020-01-01                                          TELEFONIA  ...   2019   \n",
       "2020-01-03               DIVULGAÇÃO DA ATIVIDADE PARLAMENTAR.  ...   2019   \n",
       "2020-02-28                                          TELEFONIA  ...   2019   \n",
       "2020-01-08      CONSULTORIAS, PESQUISAS E TRABALHOS TÉCNICOS.  ...   2019   \n",
       "2020-01-31      LOCAÇÃO OU FRETAMENTO DE VEÍCULOS AUTOMOTORES  ...   2019   \n",
       "\n",
       "           numParcela txtPassageiro txtTrecho  numLote numRessarcimento  \\\n",
       "datEmissao                                                                \n",
       "2020-01-10          0           NaN       NaN  1667101              NaN   \n",
       "2020-01-02          0           NaN       NaN  1669984              NaN   \n",
       "2020-01-04          0           NaN       NaN  1667165              NaN   \n",
       "2020-01-31          0           NaN       NaN  1670191              NaN   \n",
       "2020-01-07          0           NaN       NaN  1667166              NaN   \n",
       "...               ...           ...       ...      ...              ...   \n",
       "2020-01-01          0           NaN       NaN  1669485              NaN   \n",
       "2020-01-03          0           NaN       NaN  1675071              NaN   \n",
       "2020-02-28          0           NaN       NaN        0                0   \n",
       "2020-01-08          0           NaN       NaN  1666704              NaN   \n",
       "2020-01-31          0           NaN       NaN  1680650              NaN   \n",
       "\n",
       "            vlrRestituicao nuDeputadoId  ideDocumento  \\\n",
       "datEmissao                                              \n",
       "2020-01-10             NaN         2713       6994538   \n",
       "2020-01-02             NaN         3172       7000670   \n",
       "2020-01-04             NaN         2439       6994687   \n",
       "2020-01-31             NaN         2439       7001237   \n",
       "2020-01-07             NaN         2439       6994688   \n",
       "...                    ...          ...           ...   \n",
       "2020-01-01             NaN         3446       6999178   \n",
       "2020-01-03             NaN         3462       7012146   \n",
       "2020-02-28             NaN         3462             0   \n",
       "2020-01-08             NaN         3463       6993447   \n",
       "2020-01-31             NaN         3465       7022622   \n",
       "\n",
       "                                                 urlDocumento  \n",
       "datEmissao                                                     \n",
       "2020-01-10  http://camara.leg.br/cota-parlamentar/nota-fis...  \n",
       "2020-01-02  http://camara.leg.br/cota-parlamentar/nota-fis...  \n",
       "2020-01-04  https://www.camara.leg.br/cota-parlamentar/doc...  \n",
       "2020-01-31  http://camara.leg.br/cota-parlamentar/nota-fis...  \n",
       "2020-01-07  http://camara.leg.br/cota-parlamentar/nota-fis...  \n",
       "...                                                       ...  \n",
       "2020-01-01                                                NaN  \n",
       "2020-01-03  https://www.camara.leg.br/cota-parlamentar/doc...  \n",
       "2020-02-28                                                NaN  \n",
       "2020-01-08  https://www.camara.leg.br/cota-parlamentar/doc...  \n",
       "2020-01-31  https://www.camara.leg.br/cota-parlamentar/doc...  \n",
       "\n",
       "[1898 rows x 30 columns]"
      ]
     },
     "execution_count": 6,
     "metadata": {},
     "output_type": "execute_result"
    }
   ],
   "source": [
    "df_reimbursements.set_index(\"datEmissao\").loc[\"2020-01-01\":\"2020-04-30\"]"
   ]
  },
  {
   "cell_type": "markdown",
   "id": "2cf004ba",
   "metadata": {},
   "source": [
    "Outras coisas são possíveis, como encontrar o dia da semana de cada uma dessas datas, calcular a média móvel, calcular quantos anos se passaram, ou agrupar os dados por janelas de tempo."
   ]
  },
  {
   "cell_type": "markdown",
   "id": "e8bb3954",
   "metadata": {},
   "source": [
    "#### completando, substituindo e reformatando"
   ]
  },
  {
   "cell_type": "code",
   "execution_count": 7,
   "id": "72548aa5",
   "metadata": {},
   "outputs": [
    {
     "name": "stderr",
     "output_type": "stream",
     "text": [
      "/Users/gabriela/Development/Contrib/okb/python-inovacao-civica/notebooks/venv/lib/python3.7/site-packages/ipykernel_launcher.py:2: FutureWarning: The default value of regex will change from True to False in a future version.\n",
      "  \n"
     ]
    }
   ],
   "source": [
    "# vamos trocar qualquer caracter que não seja um dígito número por '', essa operação remove os dígitos\n",
    "df_reimbursements[\"txtCNPJCPF\"] = df_reimbursements[\"txtCNPJCPF\"].str.replace(r'\\D', '')"
   ]
  },
  {
   "cell_type": "code",
   "execution_count": 8,
   "id": "7c31b966",
   "metadata": {},
   "outputs": [
    {
     "data": {
      "text/plain": [
       "array(['4', '0', '1', '3', '2'], dtype=object)"
      ]
     },
     "execution_count": 8,
     "metadata": {},
     "output_type": "execute_result"
    }
   ],
   "source": [
    "# Este dado representa o tipo de documento do fiscal – \n",
    "# 0 (Zero), para Nota Fiscal; 1 (um), para Recibo; e 2, para Despesa no Exterior.\n",
    "\n",
    "df_reimbursements.indTipoDocumento.unique()"
   ]
  },
  {
   "cell_type": "code",
   "execution_count": 9,
   "id": "5166905a",
   "metadata": {},
   "outputs": [
    {
     "data": {
      "text/plain": [
       "{'0': 'nota_fiscal', '1': 'recibo', '2': 'despesa_exterior', '4': None}"
      ]
     },
     "execution_count": 9,
     "metadata": {},
     "output_type": "execute_result"
    }
   ],
   "source": [
    "converters = {\n",
    "    \"0\": 'nota_fiscal',\n",
    "    \"1\": 'recibo',\n",
    "    \"2\": 'despesa_exterior',\n",
    "    \"4\": None\n",
    "}\n",
    "\n",
    "converters"
   ]
  },
  {
   "cell_type": "code",
   "execution_count": 10,
   "id": "0b7a82b2",
   "metadata": {},
   "outputs": [],
   "source": [
    "df_reimbursements.indTipoDocumento.replace(converters, inplace=True)"
   ]
  },
  {
   "cell_type": "code",
   "execution_count": 11,
   "id": "f521b74b",
   "metadata": {},
   "outputs": [
    {
     "data": {
      "text/plain": [
       "array([None, 'nota_fiscal', 'recibo', '3', 'despesa_exterior'],\n",
       "      dtype=object)"
      ]
     },
     "execution_count": 11,
     "metadata": {},
     "output_type": "execute_result"
    }
   ],
   "source": [
    "df_reimbursements.indTipoDocumento.unique()"
   ]
  },
  {
   "cell_type": "markdown",
   "id": "8020d66e",
   "metadata": {},
   "source": [
    "### Atenção"
   ]
  },
  {
   "cell_type": "code",
   "execution_count": 20,
   "id": "c4f5fa9b",
   "metadata": {},
   "outputs": [
    {
     "data": {
      "text/html": [
       "<div>\n",
       "<style scoped>\n",
       "    .dataframe tbody tr th:only-of-type {\n",
       "        vertical-align: middle;\n",
       "    }\n",
       "\n",
       "    .dataframe tbody tr th {\n",
       "        vertical-align: top;\n",
       "    }\n",
       "\n",
       "    .dataframe thead th {\n",
       "        text-align: right;\n",
       "    }\n",
       "</style>\n",
       "<table border=\"1\" class=\"dataframe\">\n",
       "  <thead>\n",
       "    <tr style=\"text-align: right;\">\n",
       "      <th></th>\n",
       "      <th>ideDocumento</th>\n",
       "      <th>numAno</th>\n",
       "      <th>nuDeputadoId</th>\n",
       "      <th>vlrLiquidoTotal</th>\n",
       "    </tr>\n",
       "  </thead>\n",
       "  <tbody>\n",
       "    <tr>\n",
       "      <th>0</th>\n",
       "      <td>0</td>\n",
       "      <td>2019</td>\n",
       "      <td>19</td>\n",
       "      <td>466.79</td>\n",
       "    </tr>\n",
       "    <tr>\n",
       "      <th>1</th>\n",
       "      <td>0</td>\n",
       "      <td>2019</td>\n",
       "      <td>74</td>\n",
       "      <td>3716.30</td>\n",
       "    </tr>\n",
       "    <tr>\n",
       "      <th>2</th>\n",
       "      <td>0</td>\n",
       "      <td>2019</td>\n",
       "      <td>80</td>\n",
       "      <td>1436.20</td>\n",
       "    </tr>\n",
       "    <tr>\n",
       "      <th>3</th>\n",
       "      <td>0</td>\n",
       "      <td>2019</td>\n",
       "      <td>98</td>\n",
       "      <td>1.25</td>\n",
       "    </tr>\n",
       "    <tr>\n",
       "      <th>4</th>\n",
       "      <td>0</td>\n",
       "      <td>2019</td>\n",
       "      <td>137</td>\n",
       "      <td>93199.06</td>\n",
       "    </tr>\n",
       "    <tr>\n",
       "      <th>...</th>\n",
       "      <td>...</td>\n",
       "      <td>...</td>\n",
       "      <td>...</td>\n",
       "      <td>...</td>\n",
       "    </tr>\n",
       "    <tr>\n",
       "      <th>260867</th>\n",
       "      <td>7039994</td>\n",
       "      <td>2019</td>\n",
       "      <td>3199</td>\n",
       "      <td>4950.00</td>\n",
       "    </tr>\n",
       "    <tr>\n",
       "      <th>260868</th>\n",
       "      <td>7040646</td>\n",
       "      <td>2019</td>\n",
       "      <td>3292</td>\n",
       "      <td>8500.00</td>\n",
       "    </tr>\n",
       "    <tr>\n",
       "      <th>260869</th>\n",
       "      <td>7041409</td>\n",
       "      <td>2019</td>\n",
       "      <td>3392</td>\n",
       "      <td>3971.91</td>\n",
       "    </tr>\n",
       "    <tr>\n",
       "      <th>260870</th>\n",
       "      <td>7043699</td>\n",
       "      <td>2019</td>\n",
       "      <td>3031</td>\n",
       "      <td>3316.49</td>\n",
       "    </tr>\n",
       "    <tr>\n",
       "      <th>260871</th>\n",
       "      <td>7043766</td>\n",
       "      <td>2019</td>\n",
       "      <td>3086</td>\n",
       "      <td>350.00</td>\n",
       "    </tr>\n",
       "  </tbody>\n",
       "</table>\n",
       "<p>260872 rows × 4 columns</p>\n",
       "</div>"
      ],
      "text/plain": [
       "        ideDocumento  numAno  nuDeputadoId  vlrLiquidoTotal\n",
       "0                  0    2019            19           466.79\n",
       "1                  0    2019            74          3716.30\n",
       "2                  0    2019            80          1436.20\n",
       "3                  0    2019            98             1.25\n",
       "4                  0    2019           137         93199.06\n",
       "...              ...     ...           ...              ...\n",
       "260867       7039994    2019          3199          4950.00\n",
       "260868       7040646    2019          3292          8500.00\n",
       "260869       7041409    2019          3392          3971.91\n",
       "260870       7043699    2019          3031          3316.49\n",
       "260871       7043766    2019          3086           350.00\n",
       "\n",
       "[260872 rows x 4 columns]"
      ]
     },
     "execution_count": 20,
     "metadata": {},
     "output_type": "execute_result"
    }
   ],
   "source": [
    "keys = ['ideDocumento', 'numAno', 'nuDeputadoId']\n",
    "\n",
    "grouped = df_reimbursements.groupby(keys)[\"vlrLiquido\"].agg(\"sum\").rename(index=\"vlrLiquidoTotal\").reset_index()\n",
    "grouped"
   ]
  },
  {
   "cell_type": "code",
   "execution_count": 27,
   "id": "4f913f66",
   "metadata": {},
   "outputs": [
    {
     "data": {
      "text/plain": [
       "(177464, 31)"
      ]
     },
     "execution_count": 27,
     "metadata": {},
     "output_type": "execute_result"
    }
   ],
   "source": [
    "df_reimbursements[df_reimbursements.numRessarcimento.isna()].shape"
   ]
  },
  {
   "cell_type": "code",
   "execution_count": 29,
   "id": "92991de2",
   "metadata": {},
   "outputs": [
    {
     "data": {
      "text/plain": [
       "14344.300000000001"
      ]
     },
     "execution_count": 29,
     "metadata": {},
     "output_type": "execute_result"
    }
   ],
   "source": [
    "286886 * 0.05"
   ]
  },
  {
   "cell_type": "code",
   "execution_count": 18,
   "id": "d2b4a948",
   "metadata": {},
   "outputs": [],
   "source": [
    "# df_reimbursements.groupby(keys)[\"numRessarcimento\"].agg(\n",
    "#     lambda x: ', '.join(set(x))\n",
    "# ).rename(index=\"numRessarcimentos\").reset_index()"
   ]
  },
  {
   "cell_type": "code",
   "execution_count": 23,
   "id": "7bb31f0e",
   "metadata": {},
   "outputs": [
    {
     "data": {
      "text/plain": [
       "(286886, 31)"
      ]
     },
     "execution_count": 23,
     "metadata": {},
     "output_type": "execute_result"
    }
   ],
   "source": [
    "df_reimbursements[\n",
    "    (~df_reimbursements[keys[0]].isnull()) &\n",
    "    (~df_reimbursements[keys[1]].isnull()) &\n",
    "    (~df_reimbursements[keys[2]].isnull())\n",
    "].shape"
   ]
  },
  {
   "cell_type": "code",
   "execution_count": 24,
   "id": "b93c6994",
   "metadata": {},
   "outputs": [
    {
     "data": {
      "text/plain": [
       "(286886, 31)"
      ]
     },
     "execution_count": 24,
     "metadata": {},
     "output_type": "execute_result"
    }
   ],
   "source": [
    "df_reimbursements.shape"
   ]
  },
  {
   "cell_type": "code",
   "execution_count": 13,
   "id": "e19a8c40",
   "metadata": {},
   "outputs": [
    {
     "data": {
      "text/plain": [
       "(286886, 31)"
      ]
     },
     "execution_count": 13,
     "metadata": {},
     "output_type": "execute_result"
    }
   ],
   "source": [
    "df_reimbursements.shape"
   ]
  },
  {
   "cell_type": "code",
   "execution_count": null,
   "id": "e3f3e1bc",
   "metadata": {},
   "outputs": [],
   "source": [
    "df_reimbursements = pd.merge(df_reimbursements, grouped, on=keys)\n",
    "df_reimbursements.head(1)"
   ]
  },
  {
   "cell_type": "markdown",
   "id": "44344dad",
   "metadata": {},
   "source": [
    "### Resultado"
   ]
  },
  {
   "cell_type": "code",
   "execution_count": null,
   "id": "c4e639e8",
   "metadata": {},
   "outputs": [],
   "source": [
    "df_reimbursements.to_csv('reimbursements-2019.csv')"
   ]
  }
 ],
 "metadata": {
  "kernelspec": {
   "display_name": "Python 3",
   "language": "python",
   "name": "python3"
  },
  "language_info": {
   "codemirror_mode": {
    "name": "ipython",
    "version": 3
   },
   "file_extension": ".py",
   "mimetype": "text/x-python",
   "name": "python",
   "nbconvert_exporter": "python",
   "pygments_lexer": "ipython3",
   "version": "3.7.4"
  },
  "toc": {
   "base_numbering": 1,
   "nav_menu": {},
   "number_sections": true,
   "sideBar": true,
   "skip_h1_title": false,
   "title_cell": "Table of Contents",
   "title_sidebar": "Contents",
   "toc_cell": false,
   "toc_position": {
    "height": "calc(100% - 180px)",
    "left": "10px",
    "top": "150px",
    "width": "165px"
   },
   "toc_section_display": true,
   "toc_window_display": true
  }
 },
 "nbformat": 4,
 "nbformat_minor": 5
}
