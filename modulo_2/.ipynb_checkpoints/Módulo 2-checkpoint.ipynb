{
 "cells": [
  {
   "cell_type": "markdown",
   "id": "eb891909",
   "metadata": {
    "id": "bFYatS11gOtN"
   },
   "source": [
    "# Escola de Dados - Python para inovação cívica\n",
    "\n",
    "## Módulo 2: Análise exporatória de dados do Legislativo"
   ]
  },
  {
   "cell_type": "markdown",
   "id": "edb019b6",
   "metadata": {
    "id": "7C1Jf4xhgXxK"
   },
   "source": [
    "## CEAP"
   ]
  },
  {
   "cell_type": "markdown",
   "id": "8cae6792",
   "metadata": {
    "id": "qwYEO7nyRh9H"
   },
   "source": [
    "### Aula 02: Acessando os dados da CEAP via API"
   ]
  },
  {
   "cell_type": "markdown",
   "id": "d0de04d7",
   "metadata": {
    "id": "ouMkJasFSZtx"
   },
   "source": [
    "**Para** baixar os arquivos das despesas pela Cota para Exercício da Atividade Parlamentar, podemos utilizar a API da câmara legislativa. Para acessar o arquivo de cada ano, podemos usar a URL no formato `http://www.camara.leg.br/cotas/Ano-{ano}.{formato}[.zip]`.\n",
    "\n",
    "Você pode encontrar mais detalhes nesse [link](https://dadosabertos.camara.leg.br/swagger/api.html#staticfile)."
   ]
  },
  {
   "cell_type": "markdown",
   "id": "c12e389d",
   "metadata": {
    "id": "7-mFXaSTTRPi"
   },
   "source": [
    "Para fazer o download dos arquivos usando Python podemos usar diversas formas. Para esse tutorial, vamos usar o pacote `requests`."
   ]
  },
  {
   "cell_type": "code",
   "execution_count": null,
   "id": "7f7e738c",
   "metadata": {
    "id": "3lEoz1Lr5NeJ"
   },
   "outputs": [],
   "source": [
    "url = f\"http://www.camara.leg.br/cotas/Ano-2020.csv.zip\""
   ]
  },
  {
   "cell_type": "code",
   "execution_count": null,
   "id": "8643bf5e",
   "metadata": {
    "id": "H-ShSuQJ5ICY"
   },
   "outputs": [],
   "source": [
    "import requests\n",
    "\n",
    "# fazendo o download do conteúdo do arquivo\n",
    "r = requests.get(url)"
   ]
  },
  {
   "cell_type": "code",
   "execution_count": null,
   "id": "46a9dce7",
   "metadata": {
    "id": "5aXzYO4MziQn"
   },
   "outputs": [],
   "source": [
    "# abrindo um arquivo no seu computador\n",
    "file = open(f\"Ano-{year}.csv.zip\", \"wb\")\n",
    "\n",
    "# escrever o conteúdo\n",
    "file.write(r.content)\n",
    "file.close()"
   ]
  },
  {
   "cell_type": "code",
   "execution_count": null,
   "id": "a85f94e0",
   "metadata": {
    "id": "Xmzmw4oLzg-k"
   },
   "outputs": [],
   "source": [
    "# outra forma de criar arquivos, e escrever conteúdo\n",
    "\n",
    "# with open(f\"Ano-{year}.csv.zip\", \"wb\") as code:\n",
    "#    code.write(r.content)"
   ]
  },
  {
   "cell_type": "markdown",
   "id": "b3639ed4",
   "metadata": {
    "id": "PcB4ko8UUaP3"
   },
   "source": [
    "Como o arquivo baixado pela API é um arquivo zip, vamos precisar descompatar. Vamos usar o `zipfile`, um módulo que nos dá ferramentas para diversas manipulações de arquivos zipados."
   ]
  },
  {
   "cell_type": "code",
   "execution_count": null,
   "id": "cbfeae32",
   "metadata": {
    "id": "SpeJGZ5s4tYR"
   },
   "outputs": [],
   "source": [
    "from zipfile import ZipFile"
   ]
  },
  {
   "cell_type": "code",
   "execution_count": null,
   "id": "78c19eca",
   "metadata": {
    "id": "vke0teol4w8S"
   },
   "outputs": [],
   "source": [
    "zip_file = ZipFile(f\"Ano-{year}.csv.zip\", 'r')"
   ]
  },
  {
   "cell_type": "code",
   "execution_count": null,
   "id": "c848f4aa",
   "metadata": {
    "colab": {
     "base_uri": "https://localhost:8080/"
    },
    "id": "K6KlfvVW4yEJ",
    "outputId": "e81a4c9e-513a-4f8a-855c-9f17c113fdb5"
   },
   "outputs": [],
   "source": [
    "zip_file.namelist()"
   ]
  },
  {
   "cell_type": "code",
   "execution_count": null,
   "id": "d76661a1",
   "metadata": {
    "colab": {
     "base_uri": "https://localhost:8080/",
     "height": 37
    },
    "id": "XpnL3tJe5Lm_",
    "outputId": "cff349aa-b17f-4ab0-8498-7ce6df1de82f"
   },
   "outputs": [],
   "source": [
    "zip_file.extract(member=f\"Ano-{year}.csv\", path=f\"reimbursements-{year}\")"
   ]
  },
  {
   "cell_type": "code",
   "execution_count": null,
   "id": "2f53b876",
   "metadata": {
    "id": "qF4UmfPqiELQ"
   },
   "outputs": [],
   "source": [
    "# caso a gente queira extrair todo o conteúdo do arquivo zip\n",
    "\n",
    "# zip_file.extractall(path=f\"reimbursements-{year}\")"
   ]
  },
  {
   "cell_type": "code",
   "execution_count": null,
   "id": "9f61cee5",
   "metadata": {
    "id": "HWMAqsBT5W8e"
   },
   "outputs": [],
   "source": [
    "zip_file.close()"
   ]
  },
  {
   "cell_type": "markdown",
   "id": "788ceffa",
   "metadata": {
    "id": "9V6UrEjQiS4S"
   },
   "source": [
    "### aula 03: Lendo os dados com Pandas"
   ]
  },
  {
   "cell_type": "code",
   "execution_count": null,
   "id": "8dec35f0",
   "metadata": {
    "id": "yalZ9LW96ONR",
    "scrolled": true
   },
   "outputs": [],
   "source": [
    "import pandas as pd"
   ]
  },
  {
   "cell_type": "code",
   "execution_count": null,
   "id": "f19e977e",
   "metadata": {
    "colab": {
     "base_uri": "https://localhost:8080/",
     "height": 477
    },
    "id": "hVtndpQ4ih4b",
    "outputId": "ac7cb771-b5df-49ab-cdef-31bcf0015aef",
    "scrolled": false
   },
   "outputs": [],
   "source": [
    "pd.read_csv(\"reimbursements-2020/Ano-2020.csv\")"
   ]
  },
  {
   "cell_type": "markdown",
   "id": "7d478978",
   "metadata": {},
   "source": [
    "Opa! Erro na leitura do nosso arquivo. Quando encontramos esse erro na leitura de um arquivo, existe algumas possibilidades mais comuns, uma delas é que o caracter que separa as colunas pode não ser o que o `read_csv` espera. \n",
    "\n",
    "Confira da doc qual o separador considerado padrão, e depois confira no arquivo qual o separador que é utilizado."
   ]
  },
  {
   "cell_type": "code",
   "execution_count": 30,
   "id": "d7f544df",
   "metadata": {
    "colab": {
     "base_uri": "https://localhost:8080/",
     "height": 462
    },
    "id": "vF5kKe42VEjo",
    "outputId": "4454dcec-c4d8-41eb-a165-af209b4be511"
   },
   "outputs": [],
   "source": [
    "df_reimbursements_2020 = pd.read_csv(\"reimbursements-2020/Ano-2020.csv\", sep=\"???\") \n",
    "# sep == delimiter"
   ]
  },
  {
   "cell_type": "markdown",
   "id": "d02fc9c8",
   "metadata": {
    "id": "3LhB4RCUVMm7"
   },
   "source": [
    "#### Dicionário de Dados"
   ]
  },
  {
   "cell_type": "markdown",
   "id": "7e64da56",
   "metadata": {
    "id": "vvvTZj4BVeU_"
   },
   "source": [
    "Um passo importante para dar antes de começar a análisar é entender os dados que estamos manipulando. \n",
    "\n",
    "*Sempre procure o significado dos campos, procure entender quais os tipos de dados preenchem aquele campo. São dados numéricos? São caracteres? Não palavras usadas para categorizar/classificar os dados?*"
   ]
  },
  {
   "cell_type": "code",
   "execution_count": null,
   "id": "3cac07e6",
   "metadata": {},
   "outputs": [],
   "source": []
  }
 ],
 "metadata": {
  "kernelspec": {
   "display_name": "Python 3",
   "language": "python",
   "name": "python3"
  },
  "language_info": {
   "codemirror_mode": {
    "name": "ipython",
    "version": 3
   },
   "file_extension": ".py",
   "mimetype": "text/x-python",
   "name": "python",
   "nbconvert_exporter": "python",
   "pygments_lexer": "ipython3",
   "version": "3.7.4"
  },
  "toc": {
   "base_numbering": 1,
   "nav_menu": {},
   "number_sections": true,
   "sideBar": true,
   "skip_h1_title": false,
   "title_cell": "Table of Contents",
   "title_sidebar": "Contents",
   "toc_cell": false,
   "toc_position": {},
   "toc_section_display": true,
   "toc_window_display": true
  }
 },
 "nbformat": 4,
 "nbformat_minor": 5
}
