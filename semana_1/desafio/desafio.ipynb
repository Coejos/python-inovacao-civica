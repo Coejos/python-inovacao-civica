{
 "cells": [
  {
   "cell_type": "markdown",
   "id": "b0c02ae8-da85-499a-99c9-8c3da9e1ae05",
   "metadata": {},
   "source": [
    "# Explorando dados\n",
    "\n",
    "Neste desafio colocaremos em prática alguns conceitos apresentado nas aulas. Para isso, usaremos o conjunto de dados . disponível no Portal de Dados Abertos do Tribunal Superior Eleitoral.\n",
    "\n",
    "Os dados também podem ser encontrados na pasta \"Dados\" deste repositório.\n",
    "\n",
    "Siga as orientações abaixo para completar o desafio:"
   ]
  },
  {
   "cell_type": "markdown",
   "id": "d2bf34dd-2879-4dd6-b65b-4944a34c03d4",
   "metadata": {},
   "source": [
    "# Importe os pacotes necessários"
   ]
  },
  {
   "cell_type": "code",
   "execution_count": null,
   "id": "b286617f-43b9-4c20-8b0e-5ae0da7e4a9f",
   "metadata": {},
   "outputs": [],
   "source": []
  },
  {
   "cell_type": "markdown",
   "id": "ced62f05-5e3c-4565-b13c-f359fb8c35bf",
   "metadata": {},
   "source": [
    "# Crie uma lista com o título dos arquivos usando a biblioteca Gloob"
   ]
  },
  {
   "cell_type": "code",
   "execution_count": null,
   "id": "45b0cb8f-d567-4274-877f-53e8faa7d1be",
   "metadata": {},
   "outputs": [],
   "source": []
  },
  {
   "cell_type": "markdown",
   "id": "cf29db73-447b-4375-bad5-2df7aa7c4743",
   "metadata": {},
   "source": [
    "# Crie um laço (loop) para ler todos os arquivos da lista (usando a biblioteca Pandas) e armazenar os dataframes em uma lista"
   ]
  },
  {
   "cell_type": "code",
   "execution_count": null,
   "id": "dd63f03d-147e-4fda-ba61-9edb0bdee254",
   "metadata": {},
   "outputs": [],
   "source": []
  },
  {
   "cell_type": "markdown",
   "id": "310bca4e-c1c2-4030-a427-ecda54601106",
   "metadata": {},
   "source": [
    "# Concatene todos os dataframes da lista"
   ]
  },
  {
   "cell_type": "code",
   "execution_count": null,
   "id": "997a08ff-f355-40c1-9257-cf4a196517bd",
   "metadata": {},
   "outputs": [],
   "source": []
  },
  {
   "cell_type": "markdown",
   "id": "0c1bee1c-a55d-4152-98cd-471028d2d73a",
   "metadata": {},
   "source": [
    "# Apresente 5 linhas aleatórias do dataframe"
   ]
  },
  {
   "cell_type": "code",
   "execution_count": null,
   "id": "b7b7124c-f6fa-4d90-b157-88678e82076e",
   "metadata": {},
   "outputs": [],
   "source": []
  },
  {
   "cell_type": "markdown",
   "id": "a8238419-ff3d-4f00-bc36-ad1f4da01920",
   "metadata": {},
   "source": [
    "# Quantas candidaturas estão em situação de reeleição?"
   ]
  },
  {
   "cell_type": "code",
   "execution_count": null,
   "id": "28055dde-c74b-403e-bcc3-deb82a828084",
   "metadata": {},
   "outputs": [],
   "source": []
  },
  {
   "cell_type": "markdown",
   "id": "7cd5434f-9c0d-4fb6-a3ef-ce44498fea2e",
   "metadata": {},
   "source": [
    "# Liste todas a ocupações declaradas pelas candidaturas"
   ]
  },
  {
   "cell_type": "code",
   "execution_count": null,
   "id": "ef30c1ab-703f-4c65-8ba5-1cde6c183f88",
   "metadata": {},
   "outputs": [],
   "source": []
  },
  {
   "cell_type": "markdown",
   "id": "f92cd033-7c9a-47ac-acad-d5db0035e6ff",
   "metadata": {},
   "source": [
    "# Quantos anos tem a pessoa candidata mais velha?"
   ]
  },
  {
   "cell_type": "code",
   "execution_count": null,
   "id": "53b023a1-812e-4587-897d-703bf0a2a746",
   "metadata": {},
   "outputs": [],
   "source": []
  },
  {
   "cell_type": "markdown",
   "id": "de5c48c3-c0b9-418c-bba2-bb20c5312bd8",
   "metadata": {},
   "source": [
    "# Quantos anos tem a pessoa candidata mais jovem?"
   ]
  },
  {
   "cell_type": "code",
   "execution_count": null,
   "id": "19c454cb-784f-48ab-8a82-61343b045bb8",
   "metadata": {},
   "outputs": [],
   "source": []
  },
  {
   "cell_type": "markdown",
   "id": "f18ae4e7-ccca-4152-9971-65c543847936",
   "metadata": {},
   "source": [
    "# Qual é o nome da pessoa candidata mais velha?"
   ]
  },
  {
   "cell_type": "code",
   "execution_count": null,
   "id": "c7059bae-72e9-4c4b-ae70-71c9085b2a1f",
   "metadata": {},
   "outputs": [],
   "source": []
  },
  {
   "cell_type": "markdown",
   "id": "f6ddfb4c-7012-4f0b-befb-f44cde4c06a8",
   "metadata": {},
   "source": [
    "# Quantas candidaturas existem para \"Deputado federal\" seu estado?"
   ]
  },
  {
   "cell_type": "code",
   "execution_count": null,
   "id": "ae815f6f-7403-4067-af0b-175b21f45172",
   "metadata": {},
   "outputs": [],
   "source": []
  },
  {
   "cell_type": "markdown",
   "id": "6658e4f9-9271-4f0e-b6f8-575e33e5d8c9",
   "metadata": {},
   "source": [
    "# Qual é a média do valor máximo de despesas de campanha?"
   ]
  },
  {
   "cell_type": "code",
   "execution_count": null,
   "id": "1b8283db-c218-44cd-908b-e4a2f041a435",
   "metadata": {},
   "outputs": [],
   "source": []
  }
 ],
 "metadata": {
  "kernelspec": {
   "display_name": "Python 3 (ipykernel)",
   "language": "python",
   "name": "python3"
  },
  "language_info": {
   "codemirror_mode": {
    "name": "ipython",
    "version": 3
   },
   "file_extension": ".py",
   "mimetype": "text/x-python",
   "name": "python",
   "nbconvert_exporter": "python",
   "pygments_lexer": "ipython3",
   "version": "3.10.4"
  }
 },
 "nbformat": 4,
 "nbformat_minor": 5
}
