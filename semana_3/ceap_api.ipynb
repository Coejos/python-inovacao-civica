{
 "cells": [
  {
   "cell_type": "markdown",
   "id": "4914c7df",
   "metadata": {
    "id": "bFYatS11gOtN"
   },
   "source": [
    "# Escola de Dados - Python para inovação cívica\n",
    "\n",
    "## Semana 3: Análise exporatória de dados do Legislativo\n",
    "\n",
    "* [Aula 02: Acessando os dados da CEAP via API](#Aula-02:-Acessando-os-dados-da-CEAP-via-API)\n",
    "* [Aula 03: Lendo os dados com Pandas](#Aula-03:-Lendo-os-dados-com-Pandas)\n",
    "    * [Dicionário de dados](#Dicionário-de-Dados)\n",
    "* [Aula 04: Organizando e visualizando os dados](#Aula-04:-Organizando-e-visualizando-os-dados)\n",
    "    * [Informando tipos na leitura dos dados](#Informando-tipos-na-leitura-dos-dados)\n",
    "    * [Preenchendo valores nulos](#Preenchendo-valores-nulos) \n",
    "    * [Sugestões de transformações](#Sugestões-de-transformações)\n",
    "* [Aula 07: Dados da Receita Federal](#Aula-07:-Dados-da-Receita-Federal)\n",
    "* [Aula 08: Receita Federal e CEAP](#Aula-8:-Receita-Federal-e-CEAP)"
   ]
  },
  {
   "cell_type": "markdown",
   "id": "63ba34bf",
   "metadata": {},
   "source": [
    "---"
   ]
  },
  {
   "cell_type": "markdown",
   "id": "eec2c925",
   "metadata": {
    "id": "qwYEO7nyRh9H"
   },
   "source": [
    "## Aula 02: Acessando os dados da CEAP via API"
   ]
  },
  {
   "cell_type": "markdown",
   "id": "8b0ee316",
   "metadata": {
    "id": "ouMkJasFSZtx"
   },
   "source": [
    "Para baixar os arquivos das despesas pela **Cota para Exercício da Atividade Parlamentar** (CEAP), podemos utilizar a API da Câmara Legislativa. Os arquivos de cada ano estão disponíveis via URLs no formato `http://www.camara.leg.br/cotas/Ano-{ano}.{formato}[.zip]`.\n",
    "\n",
    "Você pode encontrar mais detalhes na [documentação dos dados sobre Despesas pela Cota para Exercício da Atividade Parlamentar](https://dadosabertos.camara.leg.br/swagger/api.html#staticfile).\n",
    "\n",
    "Há diversas formas de fazer o download dos arquivos usando Python. Para esse tutorial, vamos usar o pacote `requests`."
   ]
  },
  {
   "cell_type": "code",
   "execution_count": 3,
   "id": "55c3f455",
   "metadata": {
    "id": "3lEoz1Lr5NeJ"
   },
   "outputs": [],
   "source": [
    "url = f\"http://www.camara.leg.br/cotas/Ano-2019.csv.zip\""
   ]
  },
  {
   "cell_type": "code",
   "execution_count": 4,
   "id": "e335c8c7",
   "metadata": {
    "id": "H-ShSuQJ5ICY"
   },
   "outputs": [],
   "source": [
    "import requests\n",
    "\n",
    "# fazendo o download do conteúdo do arquivo\n",
    "r = requests.get(url)"
   ]
  },
  {
   "cell_type": "code",
   "execution_count": 5,
   "id": "a80fbd1c",
   "metadata": {
    "id": "5aXzYO4MziQn"
   },
   "outputs": [],
   "source": [
    "# abrindo um arquivo no seu computador\n",
    "file = open(f\"Ano-2019.csv.zip\", \"wb\")\n",
    "\n",
    "# escrever o conteúdo\n",
    "file.write(r.content)\n",
    "file.close()"
   ]
  },
  {
   "cell_type": "code",
   "execution_count": 6,
   "id": "4407d92a",
   "metadata": {
    "id": "Xmzmw4oLzg-k"
   },
   "outputs": [],
   "source": [
    "# outra forma de criar arquivos, e escrever conteúdo\n",
    "\n",
    "# with open(f\"Ano-{year}.csv.zip\", \"wb\") as code:\n",
    "#    code.write(r.content)"
   ]
  },
  {
   "cell_type": "markdown",
   "id": "4c1d34dc",
   "metadata": {
    "id": "PcB4ko8UUaP3"
   },
   "source": [
    "Como o arquivo baixado pela API é um arquivo zip, vamos precisar descompatar. Vamos usar o `zipfile`, um módulo que nos dá ferramentas para diversas manipulações de arquivos zipados."
   ]
  },
  {
   "cell_type": "code",
   "execution_count": 7,
   "id": "db445c34",
   "metadata": {
    "id": "SpeJGZ5s4tYR"
   },
   "outputs": [],
   "source": [
    "from zipfile import ZipFile"
   ]
  },
  {
   "cell_type": "code",
   "execution_count": 8,
   "id": "a75fb247",
   "metadata": {
    "id": "vke0teol4w8S"
   },
   "outputs": [],
   "source": [
    "zip_file = ZipFile(f\"Ano-2019.csv.zip\", 'r')"
   ]
  },
  {
   "cell_type": "code",
   "execution_count": 9,
   "id": "ba5a3fe0",
   "metadata": {
    "colab": {
     "base_uri": "https://localhost:8080/"
    },
    "id": "K6KlfvVW4yEJ",
    "outputId": "e81a4c9e-513a-4f8a-855c-9f17c113fdb5"
   },
   "outputs": [
    {
     "data": {
      "text/plain": [
       "['Ano-2019.csv']"
      ]
     },
     "execution_count": 9,
     "metadata": {},
     "output_type": "execute_result"
    }
   ],
   "source": [
    "zip_file.namelist()"
   ]
  },
  {
   "cell_type": "code",
   "execution_count": 10,
   "id": "835aaa1a",
   "metadata": {
    "colab": {
     "base_uri": "https://localhost:8080/",
     "height": 37
    },
    "id": "XpnL3tJe5Lm_",
    "outputId": "cff349aa-b17f-4ab0-8498-7ce6df1de82f"
   },
   "outputs": [
    {
     "data": {
      "text/plain": [
       "'reembolso-2019/Ano-2019.csv'"
      ]
     },
     "execution_count": 10,
     "metadata": {},
     "output_type": "execute_result"
    }
   ],
   "source": [
    "zip_file.extract(member=f\"Ano-2019.csv\", path=f\"reembolso-2019\")"
   ]
  },
  {
   "cell_type": "code",
   "execution_count": 11,
   "id": "aea63be7",
   "metadata": {
    "id": "qF4UmfPqiELQ"
   },
   "outputs": [],
   "source": [
    "# caso a gente queira extrair todo o conteúdo do arquivo zip\n",
    "\n",
    "# zip_file.extractall(path=f\"reimbursements-{year}\")"
   ]
  },
  {
   "cell_type": "code",
   "execution_count": 12,
   "id": "3a113e58",
   "metadata": {
    "id": "HWMAqsBT5W8e"
   },
   "outputs": [],
   "source": [
    "zip_file.close()"
   ]
  },
  {
   "cell_type": "markdown",
   "id": "b398e285",
   "metadata": {},
   "source": [
    "### Documentações para consulta\n",
    "\n",
    "1. requests - [Documentação](https://requests.readthedocs.io/en/latest/)\n",
    "2. zipfile - [Documentação](https://docs.python.org/pt-br/3/library/zipfile.html)"
   ]
  },
  {
   "cell_type": "markdown",
   "id": "e7244afa",
   "metadata": {
    "id": "9V6UrEjQiS4S"
   },
   "source": [
    "## Aula 03: Lendo os dados com Pandas"
   ]
  },
  {
   "cell_type": "code",
   "execution_count": 52,
   "id": "55880b49",
   "metadata": {
    "id": "yalZ9LW96ONR",
    "scrolled": true
   },
   "outputs": [],
   "source": [
    "import pandas as pd\n",
    "pd.set_option('display.max_columns', None)"
   ]
  },
  {
   "cell_type": "code",
   "execution_count": null,
   "id": "88ab1cb1",
   "metadata": {
    "colab": {
     "base_uri": "https://localhost:8080/",
     "height": 477
    },
    "id": "hVtndpQ4ih4b",
    "outputId": "ac7cb771-b5df-49ab-cdef-31bcf0015aef",
    "scrolled": false
   },
   "outputs": [],
   "source": [
    "pd.read_csv(\"reembolso-2019/Ano-2019.csv\")"
   ]
  },
  {
   "cell_type": "markdown",
   "id": "135892df",
   "metadata": {},
   "source": [
    "Opa! Erro na leitura do nosso arquivo. Quando encontramos esse erro na leitura de um arquivo, existe algumas possíveis causas mais comuns, uma delas é que o caracter que separa as colunas pode não ser o que o `read_csv` espera. \n",
    "\n",
    "Encontre na [documentação do read_csv](https://pandas.pydata.org/docs/reference/api/pandas.read_csv.html) qual o separador considerado padrão e depois confira no arquivo qual o separador que é utilizado. \n",
    "\n",
    "Agora, modifique a próxima célula com o que você acha que deve ser feito para que a leitura do csv aconteça sem erros."
   ]
  },
  {
   "cell_type": "code",
   "execution_count": null,
   "id": "f4f74532",
   "metadata": {
    "colab": {
     "base_uri": "https://localhost:8080/",
     "height": 462
    },
    "id": "vF5kKe42VEjo",
    "outputId": "4454dcec-c4d8-41eb-a165-af209b4be511",
    "scrolled": true
   },
   "outputs": [],
   "source": [
    "df_reimbursements = pd.read_csv(\"reembolso-2019/Ano-2019.csv\", sep=\"???\") \n",
    "# sep == delimiter"
   ]
  },
  {
   "cell_type": "markdown",
   "id": "dfabdc7f",
   "metadata": {},
   "source": [
    "Vamos visualizar as 5 primeiras linhas do nosso Dataframe."
   ]
  },
  {
   "cell_type": "code",
   "execution_count": null,
   "id": "6972f3d7",
   "metadata": {},
   "outputs": [],
   "source": [
    "df_reimbursements.head()"
   ]
  },
  {
   "cell_type": "markdown",
   "id": "06bae264",
   "metadata": {},
   "source": [
    "#### Como podemos fazer para visualizar as 10 primeiras linhas?\n",
    "\n",
    "*Escreva e rode o código na célula abaixo.*"
   ]
  },
  {
   "cell_type": "code",
   "execution_count": null,
   "id": "6cdc90f5",
   "metadata": {},
   "outputs": [],
   "source": []
  },
  {
   "cell_type": "markdown",
   "id": "e34e98e9",
   "metadata": {},
   "source": [
    "Podemos também recuperar uma amosta aleatória do nosso Dataframe. Para isso, usamos o [`sample`](https://pandas.pydata.org/pandas-docs/stable/reference/api/pandas.DataFrame.sample.html)."
   ]
  },
  {
   "cell_type": "code",
   "execution_count": null,
   "id": "ed4d422d",
   "metadata": {},
   "outputs": [],
   "source": [
    "df_reimbursements.sample()"
   ]
  },
  {
   "cell_type": "markdown",
   "id": "04ac3026",
   "metadata": {},
   "source": [
    "#### Como podemos fazer para visualizar 5 amostras aleatórias?\n",
    "\n",
    "*Escreva e rode o código na célula abaixo.*"
   ]
  },
  {
   "cell_type": "code",
   "execution_count": null,
   "id": "fbde4877",
   "metadata": {},
   "outputs": [],
   "source": []
  },
  {
   "cell_type": "markdown",
   "id": "be0725bb",
   "metadata": {
    "id": "3LhB4RCUVMm7"
   },
   "source": [
    "### Dicionário de Dados"
   ]
  },
  {
   "cell_type": "markdown",
   "id": "792b06d1",
   "metadata": {
    "id": "vvvTZj4BVeU_"
   },
   "source": [
    "Um passo importante para dar antes de começar a análisar é **entender os dados que estamos manipulando**. \n",
    "\n",
    "*Sempre procure o significado dos campos, procure entender quais os tipos de dados preenchem aquele campo. São dados numéricos? São caracteres? Não palavras usadas para categorizar/classificar os dados?*"
   ]
  },
  {
   "cell_type": "markdown",
   "id": "18d86a62",
   "metadata": {
    "id": "MC-aJ8YviZNb"
   },
   "source": [
    "| Elemento de Dado          | Nome do Dado                           | Definição do Dado                                                                                                                                                                                                                                                                                                                                                                                                                   |   |   |\n",
    "|---------------------------|----------------------------------------|-------------------------------------------------------------------------------------------------------------------------------------------------------------------------------------------------------------------------------------------------------------------------------------------------------------------------------------------------------------------------------------------------------------------------------------|---|---|\n",
    "| txNomeParlamentar         | Nome Parlamentar                       | Nome adotado pelo Parlamentar ao tomar posse do seu mandato. Compõe-se de dois elementos: um prenome e o nome; dois nomes; ou dois prenomes, salvo, a juízo do Presidente da Casa legislativa, que poderá alterar essa regra para que não ocorram confusões.                                                                                                                                                                        |   |   |\n",
    "| ideCadastro               | Identificador Único do Parlamentar     | Número que identifica unicamente um deputado federal na CD.                                                                                                                                                                                                                                                                                                                                                                         |   |   |\n",
    "| nuCarteiraParlamentar     | Número da  Carteira Parlamentar        | Documento usado para identificar um deputado federal na CD. Pode alterar a cada Legislatura nova.                                                                                                                                                                                                                                                                                                                                   |   |   |\n",
    "| nuLegislatura             | Número da  Legislatura                 | No contexto da cota CEAP, representa o ano base de início da legislatura e é utilizado para compor a Carteira Parlamentar, pois esta poderá ser alterada à medida que se muda de Legislatura.                                                                                                                                     |   |   |\n",
    "| sgUF                      | Sigla da UF                            | No contexto da cota CEAP, representa a unidade da federação pela qual o deputado foi eleito e é utilizada para definir o valor da cota a que o deputado tem.                                                                                                                                                                                                                                                                        |   |   |\n",
    "| sgPartido                 | Sigla do Partido                       | O seu conteúdo representa a sigla de um partido. Tem personalidade jurídica de direito privado e goza de autonomia e liberdade no que diz respeito à criação, organização e funcionamento, observados os princípios e preceitos constitucionais. |   |   |\n",
    "| codLegislatura            | Código da Legislatura                  | No contexto da cota CEAP, o seu conteúdo representa o código identificador da Legislatura, que um número ordinal sequencial, alterado de um em um, a cada início de uma nova Legislatura (por exemplo, a Legislatura que iniciou em 2011 é a 54ª Legislatura).                                                                    |   |   |\n",
    "| numSubCota                | Número da Subcota                      | No contexto da Cota CEAP, o conteúdo deste dado representa o código do Tipo de Despesa referente à despesa realizada pelo deputado e comprovada por meio da emissão de um documento fiscal, a qual é debitada na cota do deputado.                                                                                                                                                                                                  |   |   |\n",
    "| txtDescricao              | Descrição da Subcota                   | O seu conteúdo é a descrição do Tipo de Despesa relativo à despesa em questão.                                                                                                                                                                                                                                                                                                                                                      |   |   |\n",
    "| numEspecificacaoSubCota   | Número da Especificação da Subcota     | No contexto da Cota CEAP, há despesas cujo Tipo de Despesa necessita ter uma especificação mais detalhada (por exemplo, “Combustível”). O conteúdo deste dado representa o código desta especificação mais detalhada.                                                                                                                                                                                                               |   |   |\n",
    "| txtDescricaoEspecificacao | Descrição da Especificação da Subcota  | Representa a descrição  especificação mais detalhada de um referido Tipo de Despesa.                                                                                                                                                                                                                                                                                                                                                |   |   |\n",
    "| txtFornecedor             | Fornecedor                             | O conteúdo deste dado representa o nome do fornecedor do produto ou serviço presente no documento fiscal                                                                                                                                                                                                                                                                                                                            |   |   |\n",
    "| txtCNPJCPF                | CNPJ/CPF                               | O conteúdo deste dado representa o CNPJ ou o CPF do emitente do documento fiscal, quando se tratar do uso da cota em razão do reembolso despesas comprovadas pela emissão de documentos fiscais.                                                                                                                                                                                                                                    |   |   |\n",
    "| txtNumero                 | Número do Documento                    | O conteúdo deste dado representa o número de face do documento fiscal emitido ou o número do documento que deu causa à despesa debitada na cota do deputado.                                                                                                                                                                                                                                                                        |   |   |\n",
    "| indTipoDocumento          | Indicativo de Tipo de Documento Fiscal | Este dado representa o tipo de documento do fiscal – 0 (Zero), para Nota Fiscal; 1 (um), para Recibo; e 2, para Despesa no Exterior.                                                                                                                                                                                                                                                                                                |   |   |\n",
    "| datEmissao                | Data de Emissão                        | O conteúdo deste dado é a data de emissão do documento fiscal ou a data do documento que tenha dado causa à despesa.                                                                                                                                                                                                                                                                                                                |   |   |\n",
    "| vlrDocumento              | Valor do Documento                     | O seu conteúdo é o valor de face do documento fiscal ou o valor do documento que deu causa à despesa. Quando se tratar de bilhete aéreo, esse valor poderá ser negativo, significando que o referido bilhete é um bilhete de compensação, pois compensa um outro bilhete emitido e não utilizado pelo deputado (idem para o dado vlrLiquido abaixo).                                                                                |   |   |\n",
    "| vlrGlosa                  | Valor da Glosa                         | O seu conteúdo representa o valor da glosa do documento fiscal que incidirá sobre o Valor do Documento, ou o valor da glosa do documento que deu causa à despesa.                                                                                                                                                                                                                                                                   |   |   |\n",
    "| vlrLiquido                | Valor Líquido                          | O seu conteúdo representa o valor líquido do documento fiscal ou do documento que deu causa à despesa e será calculado pela diferença entre o Valor do Documento e o Valor da Glosa. É este valor que será debitado da cota do deputado. Caso o débito seja do Tipo Telefonia e o valor seja igual a zero, significa que a despesa foi franqueada.                                                                                  |   |   |\n",
    "| numMes                    | Mês                                    | O seu conteúdo representa o Mês da competência financeira do documento fiscal ou do documento que deu causa à despesa. É utilizado, junto com o ano, para determinar em que período o débito gerará efeito financeiro sobre a cota.                                                                                                                                                                                                 |   |   |\n",
    "| numAno                    | Ano                                    | O seu conteúdo representa o Ano da competência financeira do documento fiscal ou do documento que deu causa à despesa. É utilizado, junto com o mês, para determinar em que período o débito gerará efeito financeiro sobre a cota.                                                                                                                                                                                                 |   |   |\n",
    "| numParcela                | Número da Parcela                      | O seu conteúdo representa o número da parcela do documento fiscal. Ocorre quando o documento tem de ser reembolsado de forma parcelada.                                                                                                                                                                                                                                                                                             |   |   |\n",
    "| txtPassageiro             | Passageiro                             | O conteúdo deste dado representa o nome do passageiro, quando o documento que deu causa à despesa se tratar de emissão de bilhete aéreo.                                                                                                                                                                                                                                                                                            |   |   |\n",
    "| txtTrecho                 | Trecho                                 | O conteúdo deste dado representa o trecho da viagem, quando o documento que deu causa à despesa se tratar de emissão de bilhete aéreo.                                                                                                                                                                                                                                                                                              |   |   |\n",
    "| numLote                   | Número do Lote                         | No contexto da Cota CEAP, o Número do Lote representa uma capa de lote que agrupa os documentos que serão entregues à Câmara para serem ressarcidos. Este dado, juntamente com o Número do Ressarcimento, auxilia a localização do documento no Arquivo da Casa.                                                                                                                                                                    |   |   |\n",
    "| numRessarcimento          | Número do Ressarcimento                | No contexto da Cota CEAP, o Número do Ressarcimento indica o ressarcimento do qual o documento fez parte por ocasião do processamento do seu reembolso. Este dado, juntamente com o Valor da Restituição, auxilia a localização do documento no Arquivo da Casa.                                                                                                                                                                 |   |   |\n",
    "|  vlrRestituicao           |  Valor da Restituição                  |  O seu conteúdo representa o valor restituído do documento fiscal que incidirá sobre o Valor do Documento.                                                                                                                                                                                                                                                                                                                          |   |   |\n",
    "| nuDeputadoId              | Identificador do Solicitante           | Número que identifica um Parlamentar ou Liderança na Transparência da Cota para Exercício da Atividade Parlamentar.                                                                                                                                                                                                                                                                                                                 |   |   |\n",
    "\n",
    "\n",
    "Legislatura: Período de quatro anos coincidente com o mandato parlamentar dos Deputados Federais.\n",
    "\n",
    "Definição de partido: é uma organização formada por pessoas com interesse ou ideologia comuns, que se associam com o fim de assumir o poder para implantar um programa de governo. \n",
    "\n",
    "*Fonte*: [EXPLICAÇÕES SOBRE O FORMATO DOS ARQUIVOS XML](https://www2.camara.leg.br/transparencia/cota-para-exercicio-da-atividade-parlamentar/explicacoes-sobre-o-formato-dos-arquivos-xml)"
   ]
  },
  {
   "cell_type": "markdown",
   "id": "3adec44f",
   "metadata": {},
   "source": [
    "> Quais perguntas poderíamos responder com esses dados? E quais campos poderíamos utilizar? \n",
    "Compartilhe com os outros alunos no grupo da disciplina no Discord."
   ]
  },
  {
   "cell_type": "markdown",
   "id": "571f663b",
   "metadata": {
    "id": "9V6UrEjQiS4S"
   },
   "source": [
    "## Aula 04: Organizando e visualizando os dados"
   ]
  },
  {
   "cell_type": "markdown",
   "id": "d338eea5",
   "metadata": {},
   "source": [
    "### Informando tipos na leitura dos dados\n",
    "\n",
    "Quando trabalhamos com pandas, é sempre interessante entender que tipos de dados estão contidos em cada coluna. Na leitura do arquivo podemos aproveitar para deixar isso configurado.\n",
    "\n",
    "Isso pode ser extramamente útil quando estamos lendo dados que contém informação sobre documentos, como CPF. Nesses casos podemos ter algo como `091777777`, se esse valor por lido como um número, ele vai virar `91777777`, já que não existe número que inicie com 0. Esse é um ótimo exemplo de dado que deve ser lido como um string, para que ele seja preservado ao máximo. \n",
    "\n",
    "Agora, sabendo quais dados nosso dataframe possui, vamos definir o tipo para cada um."
   ]
  },
  {
   "cell_type": "code",
   "execution_count": null,
   "id": "c022f1c8",
   "metadata": {},
   "outputs": [],
   "source": [
    "DTYPE = {\n",
    "    'txNomeParlamentar': str,\n",
    "    'ideCadastro': str,\n",
    "    'nuCarteiraParlamentar': str,\n",
    "    'nuLegislatura': str,\n",
    "    'sgUF': str,\n",
    "    'sgPartido': str,\n",
    "    'codLegislatura': str,\n",
    "    'numSubCota': str,\n",
    "    'txtDescricao': str,\n",
    "    'numEspecificacaoSubCota': str,\n",
    "    'txtDescricaoEspecificacao': str,\n",
    "    'txtFornecedor': str,\n",
    "    'txtCNPJCPF': str,\n",
    "    'txtNumero': str,\n",
    "    'indTipoDocumento': str,\n",
    "    'datEmissao': str,\n",
    "    'vlrDocumento': float,\n",
    "    'vlrGlosa': str,\n",
    "    'vlrLiquido': float,\n",
    "    'numMes': str,\n",
    "    'numAno': str,\n",
    "    'numParcela': str,\n",
    "    'txtPassageiro': str,\n",
    "    'txtTrecho': str,\n",
    "    'numLote': str,\n",
    "    'numRessarcimento': str,\n",
    "    'nuDeputadoId': str,\n",
    "    'ideDocumento': str,\n",
    "}\n",
    "\n",
    "df_reimbursements = pd.read_csv(\n",
    "    \"reembolso-2019/Ano-2019.csv\", \n",
    "    delimiter=\";\", \n",
    "    dtype=DTYPE, \n",
    "    low_memory=False\n",
    ")"
   ]
  },
  {
   "cell_type": "markdown",
   "id": "b5377bd8",
   "metadata": {},
   "source": [
    "Opa! Você lembra qual método podemos usar para conferir os tipos de cada coluna?\n",
    "**dica**: já passamos por esse método..."
   ]
  },
  {
   "cell_type": "code",
   "execution_count": null,
   "id": "e02c7464",
   "metadata": {},
   "outputs": [],
   "source": []
  },
  {
   "cell_type": "markdown",
   "id": "f048cb6e",
   "metadata": {},
   "source": [
    "#### astype"
   ]
  },
  {
   "cell_type": "code",
   "execution_count": null,
   "id": "a68a72f8",
   "metadata": {},
   "outputs": [],
   "source": [
    "# df_reimbursements[\"ideCadastro\"] = df_reimbursements[\"ideCadastro\"].astype('string')"
   ]
  },
  {
   "cell_type": "markdown",
   "id": "ed280e06",
   "metadata": {},
   "source": [
    "Vamos conhecer mais algumas operações que podem nos ajudar a visualizar e entender nossos dados."
   ]
  },
  {
   "cell_type": "code",
   "execution_count": null,
   "id": "561102b8",
   "metadata": {},
   "outputs": [],
   "source": [
    "df_reimbursements.tail()"
   ]
  },
  {
   "cell_type": "code",
   "execution_count": null,
   "id": "779c34d6",
   "metadata": {},
   "outputs": [],
   "source": [
    "df_reimbursements.shape"
   ]
  },
  {
   "cell_type": "code",
   "execution_count": null,
   "id": "a20a6bc6",
   "metadata": {},
   "outputs": [],
   "source": [
    "df_reimbursements.info()"
   ]
  },
  {
   "cell_type": "code",
   "execution_count": null,
   "id": "f3733800",
   "metadata": {},
   "outputs": [],
   "source": [
    "df_reimbursements.columns"
   ]
  },
  {
   "cell_type": "markdown",
   "id": "09e0b56f",
   "metadata": {},
   "source": [
    "### Preenchendo valores nulos"
   ]
  },
  {
   "cell_type": "markdown",
   "id": "7a6e0f80",
   "metadata": {},
   "source": [
    "#### 1. Substituir os valores nulos por \"Não se aplica\" "
   ]
  },
  {
   "cell_type": "code",
   "execution_count": null,
   "id": "0a30dab6",
   "metadata": {
    "colab": {
     "base_uri": "https://localhost:8080/",
     "height": 462
    },
    "id": "StprWX3WdrFh",
    "outputId": "5436707a-d0f6-45f7-ccbe-52246c4cb3b6"
   },
   "outputs": [],
   "source": [
    "df_reimbursements.fillna(value=\"Não se aplica\").head()"
   ]
  },
  {
   "cell_type": "markdown",
   "id": "8030b629",
   "metadata": {},
   "source": [
    "Caso deseje aplicar a sugestão de transformação, execute:"
   ]
  },
  {
   "cell_type": "code",
   "execution_count": null,
   "id": "c1f73b62",
   "metadata": {},
   "outputs": [],
   "source": [
    "# df_reimbursements = df_reimbursements.fillna(value=\"Não se aplica\")"
   ]
  },
  {
   "cell_type": "markdown",
   "id": "2e69b9fe",
   "metadata": {},
   "source": [
    "#### 2. Filtrar por registros que estejam com a Sigla do Partido Nulos"
   ]
  },
  {
   "cell_type": "code",
   "execution_count": null,
   "id": "75ec13ce",
   "metadata": {},
   "outputs": [],
   "source": [
    "df_reimbursements[df_reimbursements.sgPartido.isna()]"
   ]
  },
  {
   "cell_type": "markdown",
   "id": "72b7634e",
   "metadata": {},
   "source": [
    "Você pode nessa etapa decidir se gostaria de remover esses registros, renomear para outro valor com o `fillna`, entre outras coisas.\n",
    "\n",
    "Lembrando que essas verificações são importantes para conhecer mais os dados que você está trabalhando."
   ]
  },
  {
   "cell_type": "markdown",
   "id": "b013fff3",
   "metadata": {},
   "source": [
    "#### 3. Verificar se existem registros com o número de documento fiscal nulo"
   ]
  },
  {
   "cell_type": "code",
   "execution_count": null,
   "id": "16511083",
   "metadata": {},
   "outputs": [],
   "source": [
    "df_reimbursements[df_reimbursements['ideDocumento'].isnull()]"
   ]
  },
  {
   "cell_type": "markdown",
   "id": "1e2d2cd5",
   "metadata": {},
   "source": [
    "Caso tenha registros nulos, definir o que será feito.\n",
    "\n",
    "Ações que poderiam ser realizadas: remover valores nulos, renomear valores nulos, verificar se ocorreu algum erro na leitura dos dados e etc.\n",
    "\n",
    "Fazer essas verificações é importante para conhecer mais os dados que estão sendo trabalhos."
   ]
  },
  {
   "cell_type": "markdown",
   "id": "8ff257d5",
   "metadata": {},
   "source": [
    "### Sugestões de transformações"
   ]
  },
  {
   "cell_type": "markdown",
   "id": "51e672ae",
   "metadata": {},
   "source": [
    "#### 1. Converter a coluna de data de emissão que está como `str` para `datetime`\n",
    "\n",
    "Por default, o `to_datetime()` vai converter string no formato `MM/DD`, `MMDD` ou `MM-DD`. No nosso caso, as datas estão em um formato diferente, por isso, vamos passar como argumento do `format`o valor `%Y-%m-%d`, informando que as datas possuem primeiro o *ano* completo (ex.: 2020), *mês (ex.: 05), e dia (ex.: 12). "
   ]
  },
  {
   "cell_type": "code",
   "execution_count": null,
   "id": "8bf65f61",
   "metadata": {
    "scrolled": false
   },
   "outputs": [],
   "source": [
    "df_reimbursements[\"datEmissao\"] = pd.to_datetime(\n",
    "    df_reimbursements.datEmissao, \n",
    "    format='%Y-%m-%d'\n",
    ") "
   ]
  },
  {
   "cell_type": "markdown",
   "id": "ede6366c",
   "metadata": {},
   "source": [
    "Caso essa conversão gere algum erro, você pode informar ao pandas como ele deve lidar com isso. O `to_datetime()` possue o argumento `errors`, que pode receber `ignore` caso você queria que os erros sejam ignorados, ou `coerce` caso você queria que os valores inválidos recebam `NaT`."
   ]
  },
  {
   "cell_type": "markdown",
   "id": "c942b33f",
   "metadata": {},
   "source": [
    "##### Para quem quiser saber mais!\n",
    "\n",
    "Você deve estar se perguntando o porquê dessa conversão utilizando o `to_datetime`. _O que ganhamos com isso?_ Existem várias vantagens do Pandas entender que uma coluna é uma data. Uma dessas vantagens é que você vai poder trabalhar com os dados como uma série temporal, ou seja, um conjunto de registros ao longo do tempo. \n",
    "\n",
    "Os reembolsos se encaixam bem nisso... pense só, nossos dados são um conjunto de pedidos de reembolsos solicitados ao longo de um ano. Quando convertemos o dados para um datetime, podemos realizar algumas operações que só são possíveis com datas. Por exemplo, podemos selecionar uma janela de tempo:"
   ]
  },
  {
   "cell_type": "code",
   "execution_count": null,
   "id": "f19fbf56",
   "metadata": {},
   "outputs": [],
   "source": [
    "df_reimbursements.set_index(\"datEmissao\").loc[\"2020-01-01\":\"2020-04-30\"]"
   ]
  },
  {
   "cell_type": "markdown",
   "id": "2cf004ba",
   "metadata": {},
   "source": [
    "Outras coisas são possíveis, como encontrar o dia da semana de cada uma dessas datas, calcular a média móvel, calcular quantos anos se passaram, ou agrupar os dados por janelas de tempo."
   ]
  },
  {
   "cell_type": "markdown",
   "id": "ce5566e1",
   "metadata": {},
   "source": [
    "Também podemos verificar qual a data mais recente e mais antiga, por exemplo, executando:"
   ]
  },
  {
   "cell_type": "code",
   "execution_count": null,
   "id": "be83a6b6",
   "metadata": {},
   "outputs": [],
   "source": [
    "df_reimbursements.datEmissao.min()"
   ]
  },
  {
   "cell_type": "markdown",
   "id": "dc6acb82",
   "metadata": {},
   "source": [
    "#### 2. Remover caracteres diferentes de números da coluna `txtCNPJCPF`"
   ]
  },
  {
   "cell_type": "markdown",
   "id": "642d084e",
   "metadata": {},
   "source": [
    "A coluna `txtCNPJCPF` possuí inicialmente o seguinte padrão de valores:"
   ]
  },
  {
   "cell_type": "code",
   "execution_count": null,
   "id": "074897c3",
   "metadata": {},
   "outputs": [],
   "source": [
    "df_reimbursements[\"txtCNPJCPF\"].head()"
   ]
  },
  {
   "cell_type": "markdown",
   "id": "cbe3f163",
   "metadata": {},
   "source": [
    "Iremos remover os caracteres diferentes de dígitos do conteúdo:"
   ]
  },
  {
   "cell_type": "code",
   "execution_count": null,
   "id": "4b9c9a30",
   "metadata": {},
   "outputs": [],
   "source": [
    "df_reimbursements[\"txtCNPJCPF\"] = df_reimbursements[\"txtCNPJCPF\"].str.replace(r'\\D', '', regex=True)"
   ]
  },
  {
   "cell_type": "code",
   "execution_count": null,
   "id": "0c3d2d1e",
   "metadata": {},
   "outputs": [],
   "source": [
    "df_reimbursements[\"txtCNPJCPF\"].head()"
   ]
  },
  {
   "cell_type": "markdown",
   "id": "e8bb3954",
   "metadata": {},
   "source": [
    "#### 3. Refatorando a coluna de `indTipoDocumento`\n",
    "\n",
    "A coluna `indTipoDocumento` representa o tipo de documento do fiscal, podendo ser: \n",
    "- 0 (zero), para Nota Fiscal; \n",
    "- 1 (um), para Recibo; \n",
    "- 2 (dois), para Despesa no Exterior."
   ]
  },
  {
   "cell_type": "code",
   "execution_count": null,
   "id": "88e58a6b",
   "metadata": {},
   "outputs": [],
   "source": [
    "df_reimbursements[\"indTipoDocumento\"].head()"
   ]
  },
  {
   "cell_type": "code",
   "execution_count": null,
   "id": "7c31b966",
   "metadata": {},
   "outputs": [],
   "source": [
    "df_reimbursements.indTipoDocumento.unique()"
   ]
  },
  {
   "cell_type": "markdown",
   "id": "f9ed4c71",
   "metadata": {},
   "source": [
    "Ficará mais legível converter esses números para texto.\n",
    "\n",
    "Iremos fazer isso a seguir:"
   ]
  },
  {
   "cell_type": "code",
   "execution_count": null,
   "id": "5166905a",
   "metadata": {},
   "outputs": [],
   "source": [
    "converters = {\n",
    "    \"0\": 'nota_fiscal',\n",
    "    \"1\": 'recibo',\n",
    "    \"2\": 'despesa_exterior',\n",
    "    \"4\": None\n",
    "}\n",
    "\n",
    "converters"
   ]
  },
  {
   "cell_type": "code",
   "execution_count": null,
   "id": "0b7a82b2",
   "metadata": {},
   "outputs": [],
   "source": [
    "df_reimbursements.indTipoDocumento.replace(converters, inplace=True)"
   ]
  },
  {
   "cell_type": "code",
   "execution_count": null,
   "id": "f521b74b",
   "metadata": {},
   "outputs": [],
   "source": [
    "df_reimbursements.indTipoDocumento.unique()"
   ]
  },
  {
   "cell_type": "markdown",
   "id": "97d2d67f",
   "metadata": {},
   "source": [
    "## Aula 05: Analisando os dados da CEAP"
   ]
  },
  {
   "cell_type": "code",
   "execution_count": 14,
   "id": "2ce31564",
   "metadata": {},
   "outputs": [],
   "source": [
    "df = pd.read_csv(\n",
    "    \"reembolso-2019/reembolso-2019-completo.csv\", \n",
    "    delimiter=\";\",\n",
    "    low_memory=False\n",
    ")"
   ]
  },
  {
   "cell_type": "markdown",
   "id": "019505c3",
   "metadata": {},
   "source": [
    "### Exemplo de perguntas iniciais"
   ]
  },
  {
   "cell_type": "markdown",
   "id": "7b94ba23",
   "metadata": {},
   "source": [
    "#### Quantos parlamentares solicitaram reembolso?\n",
    "\n",
    "Podemos contar a quantidade de registros únicos na coluna `txNomeParlamentar`.\n",
    "\n",
    "Mas é importante lembrar que em alguns casos o nome consta como `LIDERENÇA ...`."
   ]
  },
  {
   "cell_type": "code",
   "execution_count": 41,
   "id": "715827ed",
   "metadata": {
    "scrolled": true
   },
   "outputs": [
    {
     "data": {
      "text/plain": [
       "array(['LID.GOV-CD', 'LIDERANÇA DO AVANTE', 'LIDERANÇA DO CIDADANIA',\n",
       "       'LIDERANÇA DO DEMOCRATAS', 'LIDERANÇA DO NOVO',\n",
       "       'LIDERANÇA DO PARTIDO REPUBLICANO DA ORDEM SOCIAL',\n",
       "       'LIDERANÇA DO PDT', 'LIDERANÇA DO PODEMOS',\n",
       "       'LIDERANÇA DO PROGRESSISTAS', 'LIDERANÇA DO PSD',\n",
       "       'LIDERANÇA DO PSDB', 'LIDERANÇA DO PSOL', 'LIDERANÇA DO PT',\n",
       "       'LIDERANÇA DO PTB', 'LIDERANÇA DO SOLIDARIEDADE', 'LIDMIN',\n",
       "       'SILVIO COSTA', 'IZALCI LUCAS', 'DANILO FORTE', 'MARIA HELENA',\n",
       "       'NORMA AYUB', 'FAUSTO PINATO', 'IRACEMA PORTELLA', 'JÚLIA MARINHO',\n",
       "       'FÁBIO HENRIQUE', 'BACELAR', 'FELIPE CARRERAS', 'CELSO PANSERA',\n",
       "       'SIMÃO SESSIM', 'ARLINDO CHINAGLIA', 'ARNALDO FARIA DE SÁ',\n",
       "       'BETO MANSUR', 'CELSO RUSSOMANNO', 'ALEX CANZIANI',\n",
       "       'GUSTAVO FRUET', 'OSMAR SERRAGLIO', 'RUBENS BUENO',\n",
       "       'HENRIQUE FONTANA', 'LUIS CARLOS HEINZE', 'POMPEO DE MATTOS',\n",
       "       'IVAN VALENTE', 'JORGE TADEU MUDALEN', 'NELSON MARQUEZELLI',\n",
       "       'SILVIO TORRES', 'CELSO JACOB', 'ALBERTO FRAGA',\n",
       "       'ANTONIO CARLOS MENDES THAME', 'JÚLIO DELGADO', 'RUI FALCÃO',\n",
       "       'AUGUSTO CARVALHO', 'JOVAIR ARANTES', 'ROBERTO BALESTRA',\n",
       "       'OSMAR TERRA', 'ANGELA AMIN', 'BENEDITA DA SILVA', 'JOSÉ REINALDO',\n",
       "       'CESAR SOUZA', 'DILCEU SPERAFICO', 'HERMES PARCIANELLO',\n",
       "       'LUIZ CARLOS HAULY', 'NELSON MEURER', 'RICARDO BARROS',\n",
       "       'RENILDO CALHEIROS', 'SÉRGIO BRITO', 'DARCÍSIO PERONDI',\n",
       "       'JANETE CAPIBERIBE', 'WLADIMIR COSTA', 'ZÉ GERALDO',\n",
       "       'PERPÉTUA ALMEIDA', 'YEDA CRUSIUS', 'VALDIR COLATTO',\n",
       "       'PAULO FEIJÓ', 'BENJAMIN MARANHÃO', 'LUIZ COUTO',\n",
       "       'WELLINGTON ROBERTO', 'WILSON SANTIAGO',\n",
       "       'MAURÍCIO QUINTELLA LESSA', 'BOSCO COSTA', 'ALICE PORTUGAL',\n",
       "       'DANIEL ALMEIDA', 'ELCIONE BARBALHO', 'GIOVANNI QUEIROZ',\n",
       "       'JOSÉ PRIANTE', 'ÁTILA LINS', 'PAUDERNEY AVELINO',\n",
       "       'JOSÉ CARLOS ARAÚJO', 'JOSIAS GOMES', 'LEONARDO MONTEIRO',\n",
       "       'MÁRIO HERINGER', 'ODAIR CUNHA', 'PATRUS ANANIAS',\n",
       "       'REGINALDO LOPES', 'CARLOS MANATO', 'CHICO ALENCAR', 'DELEY',\n",
       "       'MARINHA RAUPP', 'FREIRE JÚNIOR', 'GASTÃO VIEIRA', 'SARNEY FILHO',\n",
       "       'ANÍBAL GOMES', 'ANTONIO BALHMANN', 'RAIMUNDO GOMES DE MATOS',\n",
       "       'MARCUS VICENTE', 'JULIO LOPES', 'LEONARDO PICCIANI',\n",
       "       'CARLOS SAMPAIO', 'GILBERTO NASCIMENTO', 'JEFFERSON CAMPOS',\n",
       "       'JOSÉ MENTOR', 'LOBBE NETO', 'VICENTINHO', 'LEÔNIDAS CRISTINO',\n",
       "       'ROBERTO PESSOA', 'VICENTE ARRUDA', 'JÚLIO CESAR', 'PAES LANDIM',\n",
       "       'JOSUÉ BENGTSON', 'NILSON PINTO', 'SILAS CÂMARA',\n",
       "       'NILTON CAPIXABA', 'JOÃO CAMPOS', 'RUBENS OTONI', 'SANDES JÚNIOR',\n",
       "       'GERALDO RESENDE', 'VANDER LOUBET', 'ASSIS DO COUTO', 'GIACOBO',\n",
       "       'TAKAYAMA', 'JORGE BOEIRA', 'JOSÉ OTÁVIO GERMANO',\n",
       "       'MARIA DO ROSÁRIO', 'ONYX LORENZONI', 'PAULO PIMENTA',\n",
       "       'GONZAGA PATRIOTA', 'MENDONÇA FILHO', 'WOLNEY QUEIROZ',\n",
       "       'PEDRO FERNANDES', 'ÁTILA LIRA', 'MARCELO CASTRO',\n",
       "       'DAMIÃO FELICIANO', 'MARCONDES GADELHA', 'ANDRÉ DE PAULA',\n",
       "       'LUCIANO BIVAR', 'BENITO GAMA', 'CLAUDIO CAJADO',\n",
       "       'JOSÉ CARLOS ALELUIA', 'JOSÉ ROCHA', 'GIVALDO CARIMBÃO',\n",
       "       'JUTAHY JUNIOR', 'NELSON PELLEGRINO', 'PAULO MAGALHÃES',\n",
       "       'LINCOLN PORTELA', 'AÉCIO NEVES', 'BONIFÁCIO DE ANDRADA',\n",
       "       'CARLOS MELLES', 'EDUARDO BARBOSA', 'JAIME MARTINS', 'LUIZ SÉRGIO',\n",
       "       'RODRIGO MAIA', 'MAURO LOPES', 'SARAIVA FELIPE', 'LUIZA ERUNDINA',\n",
       "       'MILTON MONTI', 'PEDRO CHAVES', 'AROLDE DE OLIVEIRA',\n",
       "       'JANDIRA FEGHALI', 'LAURA CARNEIRO', 'MIRO TEIXEIRA',\n",
       "       'MAURÍCIO DZIEDRICKI', 'MARCELO MATOS', 'MARCELO FREIXO',\n",
       "       'MÁRCIO JERRY', 'DRA. SORAYA MANATO', 'LUANA COSTA',\n",
       "       'PEDRO AUGUSTO BEZERRA', 'SANTINI', 'LEUR LOMANTO JÚNIOR',\n",
       "       'EDUARDO BOLSONARO', 'FERNANDO MONTEIRO', 'STEFANO AGUIAR',\n",
       "       'CACÁ LEÃO', 'CRISTIANE BRASIL', 'LUCIO VIEIRA LIMA',\n",
       "       'HERÁCLITO FORTES', 'LAFAYETTE DE ANDRADA', 'ERIVELTON SANTANA',\n",
       "       'CABUÇU BORGES', 'GLEISI HOFFMANN', 'JAQUELINE CASSOL',\n",
       "       'BENES LEOCÁDIO', 'JOÃO MARCELO SOUZA', 'VALMIR PRASCIDELLI',\n",
       "       'JOSI NUNES', 'GELSON AZEVEDO', 'DARCI DE MATOS',\n",
       "       'MARCELO SQUASSONI', 'ADRIANO DO BALDY', 'PEDRO PAULO',\n",
       "       'RONALDO MARTINS', 'PEDRO LUCAS FERNANDES', 'GABRIEL GUIMARÃES',\n",
       "       'GORETE PEREIRA', 'JARBAS VASCONCELOS', 'ENIO VERRI', 'MARCO MAIA',\n",
       "       'ANDRÉ FIGUEIREDO', 'MARCELO MORAES', 'PAULO RAMOS',\n",
       "       'EDMILSON RODRIGUES', 'CRISTIANO VALE', 'AFONSO HAMM',\n",
       "       'VICENTINHO JÚNIOR', 'LÍDICE DA MATA', 'BETO FARO',\n",
       "       'AELTON FREITAS', 'ANTONIO BULHÕES', 'VALADARES FILHO',\n",
       "       'INDIO DA COSTA', 'ARNALDO JARDIM', 'BRUNO ARAÚJO',\n",
       "       'CARLOS ZARATTINI', 'CARLOS BEZERRA', 'CELSO MALDANER',\n",
       "       'CLEBER VERDE', 'DAGOBERTO NOGUEIRA', 'DÉCIO LIMA', 'EDIO LOPES',\n",
       "       'EDUARDO DA FONTE', 'EFRAIM FILHO', 'FÁBIO RAMALHO', 'FÁBIO FARIA',\n",
       "       'FELIPE MAIA', 'FELIPE BORNIER', 'FERNANDO COELHO FILHO',\n",
       "       'FLAVIANO MELO', \"CHICO D'ANGELO\", 'CHICO LOPES', 'GEORGE HILTON',\n",
       "       'PEPE VARGAS', 'HUGO LEAL', 'ALFREDO KAEFER',\n",
       "       'JOÃO CARLOS BACELAR', 'JOÃO MAIA', 'JOSÉ AIRTON FÉLIX CIRILO',\n",
       "       'JOSÉ GUIMARÃES', 'RICARDO TRIPOLI', 'JULIÃO AMIN', 'LAERTE BESSA',\n",
       "       'LÁZARO BOTELHO', 'LEONARDO QUINTÃO', 'LINDOMAR GARÇON',\n",
       "       'LUIZ FERNANDO FARIA', 'PAULO TEIXEIRA', 'MARCOS MONTES',\n",
       "       'JÔ MORAES', 'MAURO MARIANI', 'MAURO NAZIF', 'MIGUEL CORRÊA',\n",
       "       'BILAC PINTO', 'OTAVIO LEITE', 'PAULO ABI-ACKEL',\n",
       "       'PAULINHO DA FORÇA', 'RAUL HENRY', 'RENATO MOLLING',\n",
       "       'ROBERTO BRITTO', 'RODRIGO DE CASTRO', 'ROGÉRIO MARINHO',\n",
       "       'SÉRGIO MORAES', 'VALTENIR PEREIRA', 'VANDERLEI MACRIS',\n",
       "       'VINICIUS CARVALHO', 'WALDIR MARANHÃO', 'WALTER IHOSHI',\n",
       "       'LELO COIMBRA', 'TIAGO DIMAS', 'DOMINGOS NETO', 'DANIEL VILELA',\n",
       "       'NERI GELLER', 'MARCELO ARO', 'PROFESSOR VICTÓRIO GALLI',\n",
       "       'MÁRCIO MARINHO', 'LAERCIO OLIVEIRA', 'GLAUBER BRAGA',\n",
       "       'ROBERTO ALVES', 'MILTON VIEIRA', 'MARCEL VAN HATTEM',\n",
       "       'TÚLIO GADÊLHA', 'ASSIS CARVALHO', 'MARCUS PESTANA',\n",
       "       'ROGÉRIO ROSSO', 'AFONSO FLORENCE', 'JORGINHO MELLO', 'LUIS TIBÉ',\n",
       "       'ALESSANDRO MOLON', 'AUREO RIBEIRO', 'RONALDO BENEDET',\n",
       "       'PAULO FOLETTO', 'WELITON PRADO', 'AGUINALDO RIBEIRO',\n",
       "       'DANILO CABRAL', 'ANTONIO IMBASSAHY', 'JHONATAN DE JESUS',\n",
       "       'ELI CORRÊA FILHO', 'LAURIETE', 'MARCON', 'MARCO TEBALDI',\n",
       "       'BOHN GASS', 'ARTHUR LIRA', 'ANDRE MOURA', 'JUNJI ABE',\n",
       "       'ALEXANDRE LEITE', 'DANRLEI DE DEUS HINTERHOLZ', 'ANTONIO BRITO',\n",
       "       'PADRE JOÃO', 'PAULO FREIRE COSTA', 'ALCEU MOREIRA',\n",
       "       'MISSIONÁRIO JOSÉ OLIMPIO', 'MARA GABRILLI', 'WALDENOR PEREIRA',\n",
       "       'JERÔNIMO GOERGEN', 'JOÃO RODRIGUES', 'JORGE CÔRTE REAL',\n",
       "       'JOÃO ARRUDA', 'ERIKA KOKAY', 'CÉSAR HALUM', 'EDMAR ARRUDA',\n",
       "       'ALBERTO FILHO', 'FÁBIO TRAD', 'DIEGO ANDRADE', 'BRUNA FURLAN',\n",
       "       'VINICIUS GURGEL', 'ZECA DIRCEU', 'HEULER CRUVINEL',\n",
       "       'FLÁVIA MORAIS', 'DIMAS FABIANO', 'ARTHUR OLIVEIRA MAIA',\n",
       "       'PR. MARCO FELICIANO', 'ARNALDO JORDY', 'PEDRO UCZAI',\n",
       "       'JOSE STÉDILE', 'VALMIR ASSUNÇÃO', 'TONINHO PINHEIRO',\n",
       "       'SERGIO ZVEITER', 'SIBÁ MACHADO', 'THIAGO PEIXOTO', 'JOSÉ NUNES',\n",
       "       'SANDRO ALEX', 'VICENTE CANDIDO', 'LUCIANA SANTOS',\n",
       "       'SÁGUAS MORAES', 'WALNEY ROCHA', 'ZÉ SILVA', 'MANDETTA',\n",
       "       'RUY CARNEIRO', 'WILSON FILHO', 'RONALDO FONSECA',\n",
       "       'PROFESSORA DORINHA SEABRA REZENDE', 'EROS BIONDINI',\n",
       "       'PROFESSORA MARCIVANIA', 'PASTOR EURICO', 'DR. JORGE SILVA',\n",
       "       'LUIZ CARLOS', 'DELEGADO FRANCISCHINI', 'ESPERIDIÃO AMIN',\n",
       "       'ROGÉRIO PENINHA MENDONÇA', 'ROBERTO DE LUCENA', 'RENZO BRAZ',\n",
       "       'RICARDO IZAR', 'KEIKO OTA', 'MARCELO AGUIAR', 'LEOPOLDO MEYER',\n",
       "       'AUGUSTO COUTINHO', 'FÉLIX MENDONÇA JÚNIOR', 'GUILHERME MUSSI',\n",
       "       'GENECIAS NORONHA', 'JEAN WYLLYS', 'GIOVANI CHERINI', 'HUGO MOTTA',\n",
       "       'FERNANDO TORRES', 'FRANCISCO FLORIANO', 'DOMINGOS SÁVIO',\n",
       "       'TIRIRICA', 'EMIDINHO MADEIRA', 'LUIZ NISHIMORI',\n",
       "       'RONALDO NOGUEIRA', 'DELEGADO WALDIR', 'CARMEN ZANOTTO',\n",
       "       'NILSON LEITÃO', 'MAGDA MOFATTO', 'WEVERTON ROCHA',\n",
       "       'MARCOS ROGÉRIO', 'SIMPLÍCIO ARAÚJO', 'PAULÃO',\n",
       "       'MARGARIDA SALOMÃO', 'RENATO ANDRADE', 'FABIO REIS',\n",
       "       'SUBTENENTE GONZAGA', 'LUIZ CARLOS RAMOS', 'LEO DE BRITO',\n",
       "       'MAJOR OLIMPIO', 'EVANDRO GUSSI', 'CAPITÃO AUGUSTO',\n",
       "       'DR. SINVAL MALHEIROS', 'ANDRÉ ABDON', 'LEANDRE',\n",
       "       'ALEXANDRE SERFIOTIS', 'BEBETO', 'AFONSO MOTTA', 'ALAN RICK',\n",
       "       'ANGELIM', 'CÉSAR MESSIAS', 'JÉSSICA SALES', 'ROCHA',\n",
       "       'CÍCERO ALMEIDA', 'JHC', 'MARX BELTRÃO', 'PEDRO VILELA',\n",
       "       'RONALDO LESSA', 'ALFREDO NASCIMENTO', 'CONCEIÇÃO SAMPAIO',\n",
       "       'HISSA ABRAHÃO', 'JOZI ARAÚJO', 'MARCOS REATEGUI', 'CAETANO',\n",
       "       'ELMAR NASCIMENTO', 'IRMÃO LAZARO', 'JOÃO GUALBERTO',\n",
       "       'JORGE SOLLA', 'MÁRIO NEGROMONTE JR.', 'PAULO AZI',\n",
       "       'RONALDO CARLETTO', 'TIA ERON', 'ULDURICO JUNIOR',\n",
       "       'ADAIL CARNEIRO', 'CABO SABINO', 'LUIZIANNE LINS', 'MACEDO',\n",
       "       'ODORICO MONTEIRO', 'VITOR VALIM', 'RÔNEY NEMER',\n",
       "       'EVAIR VIEIRA DE MELO', 'GIVALDO VIEIRA', 'HELDER SALOMÃO',\n",
       "       'SERGIO VIDIGAL', 'CÉLIO SILVEIRA', 'FÁBIO SOUSA',\n",
       "       'GIUSEPPE VECCI', 'LUCAS VERGILIO', 'MARCOS ABRÃO',\n",
       "       'ALUISIO MENDES', 'ANDRÉ FUFUCA', 'ELIZIANE GAMA', 'HILDO ROCHA',\n",
       "       'JUNIOR MARRECA', 'JUSCELINO FILHO', 'RUBENS PEREIRA JÚNIOR',\n",
       "       'VICTOR MENDES', 'ZÉ CARLOS', 'ADELMO CARNEIRO LEÃO',\n",
       "       'CAIO NARCIO', 'DÂMINA PEREIRA', 'DELEGADO EDSON MOREIRA',\n",
       "       'LAUDIVIO CARVALHO', 'MISAEL VARELLA', 'NEWTON CARDOSO JR',\n",
       "       'RODRIGO PACHECO', 'TENENTE LÚCIO', 'TEREZA CRISTINA',\n",
       "       'ZECA DO PT', 'ADILTON SACHETTI', 'EZEQUIEL FONSECA',\n",
       "       'FABIO GARCIA', 'BETO SALAME', 'FRANCISCO CHAPADINHA',\n",
       "       'DELEGADO ÉDER MAURO', 'HÉLIO LEITE', 'JOAQUIM PASSARINHO',\n",
       "       'SIMONE MORGADO', 'PEDRO CUNHA LIMA', 'VENEZIANO VITAL DO RÊGO',\n",
       "       'ADALBERTO CAVALCANTI', 'BETINHO GOMES', 'DANIEL COELHO',\n",
       "       'JOÃO FERNANDO COUTINHO', 'KAIO MANIÇOBA', 'MARINALDO ROSENDO',\n",
       "       'RICARDO TEOBALDO', 'SEBASTIÃO OLIVEIRA', 'TADEU ALENCAR',\n",
       "       'ZECA CAVALCANTI', 'CAPITÃO FÁBIO ABREU', 'REJANE DIAS',\n",
       "       'RODRIGO MARTINS', 'ALIEL MACHADO', 'CHRISTIANE DE SOUZA YARED',\n",
       "       'DIEGO GARCIA', 'ROMAN', 'LUCIANO DUCCI', 'SERGIO SOUZA',\n",
       "       'TONINHO WANDSCHEER', 'ROSSONI', 'ALEXANDRE VALLE',\n",
       "       'ALTINEU CÔRTES', 'CABO DACIOLO', 'CLARISSA GAROTINHO',\n",
       "       'EZEQUIEL TEIXEIRA', 'MARCO ANTÔNIO CABRAL', 'MARCOS SOARES',\n",
       "       'ROBERTO SALES', 'ROSANGELA GOMES', 'SORAYA SANTOS',\n",
       "       'SÓSTENES CAVALCANTE', 'BETO ROSADO', 'ZENAIDE MAIA',\n",
       "       'ANTÔNIO JÁCOME', 'RAFAEL MOTTA', 'WALTER ALVES', 'EXPEDITO NETTO',\n",
       "       'LUCIO MOSQUINI', 'LUIZ CLÁUDIO', 'MARIANA CARVALHO',\n",
       "       'ABEL MESQUITA JR.', 'CARLOS ANDRADE', 'HIRAN GONÇALVES',\n",
       "       'REMÍDIO MONAI', 'SHÉRIDAN', 'CARLOS GOMES', 'COVATTI FILHO',\n",
       "       'HEITOR SCHUCH', 'JOÃO DERLY', 'GEOVANIA DE SÁ',\n",
       "       'JOÃO PAULO KLEINÜBING', 'ADELSON BARRETO', 'FÁBIO MITIDIERI',\n",
       "       'JOÃO DANIEL', 'JONY MARCOS', 'ALEX MANENTE', 'ANA PERUGINI',\n",
       "       'ANDRES SANCHEZ', 'BALEIA ROSSI', 'EDUARDO CURY', 'FLAVINHO',\n",
       "       'FLORIANO PESARO', 'GOULART', 'HERCULANO PASSOS',\n",
       "       'LUIZ LAURO FILHO', 'MARCIO ALVINO', 'MIGUEL HADDAD',\n",
       "       'MIGUEL LOMBARDI', 'NILTO TATTO', 'ORLANDO SILVA',\n",
       "       'JOÃO PAULO PAPA', 'RENATA ABREU', 'SAMUEL MOREIRA', 'SÉRGIO REIS',\n",
       "       'VITOR LIPPI', 'CARLOS HENRIQUE GAGUIM', 'DULCE MIRANDA',\n",
       "       'ROBERTO GÓES', 'GIOVANI FELTES', 'MOSES RODRIGUES',\n",
       "       'RAQUEL MUNIZ', 'BRUNNY', 'MARCELO ÁLVARO ANTÔNIO',\n",
       "       'MÁRCIO BIOLCHI', 'VITOR HUGO', 'OSMAR BERTOLDI',\n",
       "       'ELIZEU DIONIZIO', 'MERLONG SOLANO', 'WADIH DAMOUS',\n",
       "       'FLÁVIO NOGUEIRA', 'ZÉ AUGUSTO NALIN', 'WILSON BESERRA',\n",
       "       'PAULO EDUARDO MARTINS', 'NIVALDO ALBUQUERQUE', 'CAJAR NARDES',\n",
       "       'ANDRÉ AMARAL', 'MARCELO DELAROLI', 'VAIDON OLIVEIRA',\n",
       "       'LOURIVAL GOMES', 'TITO', 'GREYCE ELIAS', 'EMANUEL PINHEIRO NETO',\n",
       "       'PROF. GEDEÃO AMORIM', 'JUNIOR CORINGA', 'DR. LUIZ OVANDO',\n",
       "       'CAMILO CAPIBERIBE', 'ALINE GURGEL', 'FLÁVIA ARRUDA', 'DA VITORIA',\n",
       "       'AMARO NETO', 'ROSE MODESTO', 'BETO PEREIRA', 'LÉO MORAES',\n",
       "       'SILVIA CRISTINA', 'CARLOS CHIODINI', 'RICARDO GUIDI',\n",
       "       'OSIRES DAMASO', 'ELI BORGES', 'GILSON MARQUES', 'RODRIGO COELHO',\n",
       "       'DANIEL FREITAS', 'FABIO SCHIOCHET', 'CAROLINE DE TONI',\n",
       "       'CÉLIO MOURA', 'FELIPE RIGONI', 'JULIO CESAR RIBEIRO',\n",
       "       'HÉLIO COSTA', 'BIA KICIS', 'LEDA SADALA', 'CORONEL ARMANDO',\n",
       "       'CORONEL CHRISÓSTOMO', 'ACÁCIO FAVACHO', 'CELINA LEÃO',\n",
       "       'LUIS MIRANDA', 'LOESTER TRUTIS', 'PROFESSOR ISRAEL BATISTA',\n",
       "       'VALDEVAN NOVENTA', 'JOSE MARIO SCHREINER', 'SARGENTO FAHUR',\n",
       "       'BIBO NUNES', 'ELIAS VAZ', 'PROFESSOR ALCIDES', 'JOSÉ NELTO',\n",
       "       'FRANCISCO JR.', 'FREI ANASTACIO RIBEIRO', 'GERVÁSIO MAIA',\n",
       "       'PEDRO LUPION', 'VERMELHO', 'BOCA ABERTA', 'FELIPE FRANCISCHINI',\n",
       "       'SCHIAVINATO', 'ALINE SLEUTJES', 'MARLON SANTOS', 'LUCAS REDECKER',\n",
       "       'LIZIANE BAYER', 'PEDRO WESTPHALEN', 'FERNANDA MELCHIONNA',\n",
       "       'GUSTINHO RIBEIRO', 'DANIEL TRZECIAK', 'LUISA CANZIANI',\n",
       "       'FILIPE BARROS', 'DR. ZACHARIAS CALIL', 'ALCIDES RODRIGUES',\n",
       "       'AROLDO MARTINS', 'NEREU CRISPIM', 'SANDERSON', 'LUIZÃO GOULART',\n",
       "       'GLAUSTIN DA FOKUS', 'JULIAN LEMOS', 'EDNA HENRIQUE',\n",
       "       'OSSESIO SILVA', 'ANDRÉ FERREIRA', 'SILVIO COSTA FILHO',\n",
       "       'CARLOS VERAS', 'FERNANDO RODOLFO', 'MARÍLIA ARRAES',\n",
       "       'JOÃO H. CAMPOS', 'MARGARETE COELHO', 'MARCOS AURÉLIO SAMPAIO',\n",
       "       'MARINA SANTOS', 'MARCELO CALERO', 'DRA. VANDA MILANI',\n",
       "       'JESUS SÉRGIO', 'ISNALDO BULHÕES JR.', 'SEVERINO PESSOA',\n",
       "       'SERGIO TOLEDO', 'DR. LEONARDO', 'CHRISTINO AUREO',\n",
       "       'OTONI DE PAULA', 'GURGEL', 'HELIO LOPES', 'PROFESSOR JOZIEL',\n",
       "       'FLORDELIS', 'LUIZ ANTÔNIO CORRÊA', 'NELSON BARBUDO',\n",
       "       'DR. LUIZ ANTONIO TEIXEIRA JR.', 'DELEGADO ANTÔNIO FURTADO',\n",
       "       'MÁRCIO LABRE', 'NATÁLIA BONAVIDES', 'DANIEL SILVEIRA',\n",
       "       'LUIZ LIMA', 'GUTEMBERG REIS', 'JUNINHO DO PNEU', 'MAJOR FABIANA',\n",
       "       'DANIELA DO WAGUINHO', 'CARLOS JORDY', 'PAULO GANIME',\n",
       "       'CHRIS TONIETTO', 'WLADIMIR GAROTINHO', 'TALÍRIA PETRONE',\n",
       "       'HAROLDO CATHEDRAL', 'TEREZA NELMA', 'PROFESSORA ROSA NEIDE',\n",
       "       'JOENIA WAPICHANA', 'MANUEL MARCOS', 'MARA ROCHA', 'JOSÉ MEDEIROS',\n",
       "       'GENERAL GIRÃO', 'JUAREZ COSTA', 'OTTACI NASCIMENTO',\n",
       "       'CHIQUINHO BRAZÃO', 'FELÍCIO LATERÇA', 'VINICIUS FARAH',\n",
       "       'NICOLETTI', 'ROGÉRIO CORREIA', 'DR. JAZIEL', 'EUCLYDES PETTERSEN',\n",
       "       'VILSON DA FETAEMG', 'GENERAL PETERNELLI', 'LUIZ CARLOS MOTTA',\n",
       "       'MAURO BENEVIDES FILHO', 'CAPITÃO WAGNER', 'CÉLIO STUDART',\n",
       "       'ROBÉRIO MONTEIRO', 'CHARLLES EVANGELISTA', 'GILBERTO ABRAMO',\n",
       "       'PAULO GUEDES', 'FRED COSTA', 'AIRTON FALEIRO', 'CELSO SABINO',\n",
       "       'JÚNIOR FERRARI', 'OLIVAL MARQUES', 'CÁSSIO ANDRADE',\n",
       "       'EDUARDO COSTA', 'ALENCAR SANTANA', 'BOZZELLA',\n",
       "       'ALEXANDRE PADILHA', 'CEZINHA DE MADUREIRA', 'VAVÁ MARTINS',\n",
       "       'MARCOS PEREIRA', 'CARLA ZAMBELLI', 'IGOR TIMO', 'ÁUREA CAROLINA',\n",
       "       'FRANCO CARTAFINA', 'DAVID SOARES', 'DELEGADO MARCELO FREITAS',\n",
       "       'GUIGA PEIXOTO', 'CORONEL TADEU', 'ANDRÉ JANONES',\n",
       "       'ALEXIS FONTEYNE', 'ZÉ VITOR', 'DR. FREDERICO', 'TIAGO MITRAUD',\n",
       "       'JUNIO AMARAL', 'ABOU ANNI', 'MARCO BERTAIOLLI', 'LUCAS GONZALEZ',\n",
       "       'PINHEIRINHO', 'ROSANA VALLE',\n",
       "       'LUIZ PHILIPPE DE ORLEANS E BRAGANÇA', 'GENINHO ZULIANI',\n",
       "       'ADRIANA VENTURA', 'POLICIAL KATIA SASTRE', 'RODRIGO AGOSTINHO',\n",
       "       'CAPITÃO DERRITE', 'VINICIUS POIT', 'IDILVAN ALENCAR',\n",
       "       'TABATA AMARAL', 'SÂMIA BOMFIM', 'KIM KATAGUIRI', 'ENRICO MISASI',\n",
       "       'PAULO BENGTSON', 'MARIA ROSAS', 'EDUARDO BISMARCK',\n",
       "       'DENIS BEZERRA', 'LUIZ FLÁVIO GOMES', 'ALEXANDRE FROTA',\n",
       "       'ALÊ SILVA', 'JOICE HASSELMANN', 'LÉO MOTTA', 'HEITOR FREIRE',\n",
       "       'AJ ALBUQUERQUE', 'JÚNIOR MANO', 'BOSCO SARAIVA', 'EDUARDO BRAIDE',\n",
       "       'PASTOR SARGENTO ISIDÓRIO', 'ABÍLIO SANTANA', 'JOSÉ RICARDO',\n",
       "       'MARCELO RAMOS', 'SIDNEY LEITE', 'MARCELO NILO', 'ZÉ NETO',\n",
       "       'ADOLFO VIANA', 'BIRA DO PINDARÉ', 'EDILÁZIO JÚNIOR',\n",
       "       'JOSIMAR MARANHÃOZINHO', 'IGOR KANNÁRIO',\n",
       "       'PROFESSORA DAYANE PIMENTEL', 'MARRECA FILHO', 'RAIMUNDO COSTA',\n",
       "       'DELEGADO PABLO', 'PASTOR GIL', 'ALEX SANTANA',\n",
       "       'CAPITÃO ALBERTO NETO', 'OTTO ALENCAR FILHO', 'JUNIOR LOURENÇO',\n",
       "       'GIL CUTRIM', 'JOÃO ROMA', 'WASHINGTON CORAÇÃO VALENTE',\n",
       "       'FELIPE SOUZA', 'MARFIZA GALVÃO', 'GUSTAVO MITRE',\n",
       "       'CORONEL BITTENCOURT', 'CARLA STEPHANINI', 'CHARLES FERNANDES',\n",
       "       'PATRICIA FERRAZ', 'DAVID MIRANDA', 'JORGE BRAZ', 'MARCELO BRUM',\n",
       "       'REINHOLD STEPHANES JUNIOR', 'TED CONTI', 'BIA CAVASSA',\n",
       "       'ENÉIAS REIS', 'JOSEILDO RAMOS', 'RICARDO PERICAR',\n",
       "       'FABIANO TOLENTINO', 'FERNANDO BORJA', 'DR. GONÇALO',\n",
       "       'MARCÃO GOMES'], dtype=object)"
      ]
     },
     "execution_count": 41,
     "metadata": {},
     "output_type": "execute_result"
    }
   ],
   "source": [
    "txNomeParlamentar = df.txNomeParlamentar.apply(\n",
    "    lambda x: x.upper()\n",
    ").unique()\n",
    "txNomeParlamentar"
   ]
  },
  {
   "cell_type": "code",
   "execution_count": 42,
   "id": "4411bf44",
   "metadata": {},
   "outputs": [
    {
     "data": {
      "text/plain": [
       "820"
      ]
     },
     "execution_count": 42,
     "metadata": {},
     "output_type": "execute_result"
    }
   ],
   "source": [
    "len(txNomeParlamentar)"
   ]
  },
  {
   "cell_type": "markdown",
   "id": "baa9fc43",
   "metadata": {},
   "source": [
    "#### Quais os 10 parlamentares mais citados?\n",
    "\n",
    "Para responder essa pergunta, precisamos verificar a frequência em que os nomes dos parlamentares aparecem no dataset."
   ]
  },
  {
   "cell_type": "code",
   "execution_count": 15,
   "id": "716c9145",
   "metadata": {},
   "outputs": [
    {
     "data": {
      "text/html": [
       "<div>\n",
       "<style scoped>\n",
       "    .dataframe tbody tr th:only-of-type {\n",
       "        vertical-align: middle;\n",
       "    }\n",
       "\n",
       "    .dataframe tbody tr th {\n",
       "        vertical-align: top;\n",
       "    }\n",
       "\n",
       "    .dataframe thead th {\n",
       "        text-align: right;\n",
       "    }\n",
       "</style>\n",
       "<table border=\"1\" class=\"dataframe\">\n",
       "  <thead>\n",
       "    <tr style=\"text-align: right;\">\n",
       "      <th></th>\n",
       "      <th>txNomeParlamentar</th>\n",
       "    </tr>\n",
       "  </thead>\n",
       "  <tbody>\n",
       "    <tr>\n",
       "      <th>Diego Garcia</th>\n",
       "      <td>1735</td>\n",
       "    </tr>\n",
       "    <tr>\n",
       "      <th>Zeca Dirceu</th>\n",
       "      <td>1631</td>\n",
       "    </tr>\n",
       "    <tr>\n",
       "      <th>Maria do Rosário</th>\n",
       "      <td>1540</td>\n",
       "    </tr>\n",
       "    <tr>\n",
       "      <th>Glauber Braga</th>\n",
       "      <td>1489</td>\n",
       "    </tr>\n",
       "    <tr>\n",
       "      <th>Jorge Solla</th>\n",
       "      <td>1425</td>\n",
       "    </tr>\n",
       "    <tr>\n",
       "      <th>Guiga Peixoto</th>\n",
       "      <td>1351</td>\n",
       "    </tr>\n",
       "    <tr>\n",
       "      <th>Dimas Fabiano</th>\n",
       "      <td>1330</td>\n",
       "    </tr>\n",
       "    <tr>\n",
       "      <th>Henrique Fontana</th>\n",
       "      <td>1325</td>\n",
       "    </tr>\n",
       "    <tr>\n",
       "      <th>Vitor Lippi</th>\n",
       "      <td>1308</td>\n",
       "    </tr>\n",
       "    <tr>\n",
       "      <th>Delegado Antônio Furtado</th>\n",
       "      <td>1269</td>\n",
       "    </tr>\n",
       "  </tbody>\n",
       "</table>\n",
       "</div>"
      ],
      "text/plain": [
       "                          txNomeParlamentar\n",
       "Diego Garcia                           1735\n",
       "Zeca Dirceu                            1631\n",
       "Maria do Rosário                       1540\n",
       "Glauber Braga                          1489\n",
       "Jorge Solla                            1425\n",
       "Guiga Peixoto                          1351\n",
       "Dimas Fabiano                          1330\n",
       "Henrique Fontana                       1325\n",
       "Vitor Lippi                            1308\n",
       "Delegado Antônio Furtado               1269"
      ]
     },
     "execution_count": 15,
     "metadata": {},
     "output_type": "execute_result"
    }
   ],
   "source": [
    "df.txNomeParlamentar.value_counts().sort_values(ascending=False).to_frame().head(10)"
   ]
  },
  {
   "cell_type": "markdown",
   "id": "436de4f6",
   "metadata": {},
   "source": [
    "#### Quais os gastos mais frequentes?\n",
    "\n",
    "Podemos aplicar o `values_counts` na coluna `txtDescricao`, para identificar a frequência dos tipos de gastos."
   ]
  },
  {
   "cell_type": "code",
   "execution_count": 16,
   "id": "de2607ab",
   "metadata": {},
   "outputs": [
    {
     "data": {
      "text/plain": [
       "PASSAGEM AÉREA - RPA                                         81582\n",
       "COMBUSTÍVEIS E LUBRIFICANTES.                                64765\n",
       "SERVIÇO DE TÁXI, PEDÁGIO E ESTACIONAMENTO                    31557\n",
       "MANUTENÇÃO DE ESCRITÓRIO DE APOIO À ATIVIDADE PARLAMENTAR    22019\n",
       "TELEFONIA                                                    21880\n",
       "FORNECIMENTO DE ALIMENTAÇÃO DO PARLAMENTAR                   17762\n",
       "SERVIÇOS POSTAIS                                             14961\n",
       "DIVULGAÇÃO DA ATIVIDADE PARLAMENTAR.                         10946\n",
       "LOCAÇÃO OU FRETAMENTO DE VEÍCULOS AUTOMOTORES                 6279\n",
       "HOSPEDAGEM ,EXCETO DO PARLAMENTAR NO DISTRITO FEDERAL.        5579\n",
       "PASSAGEM AÉREA - SIGEPA                                       4076\n",
       "PASSAGEM AÉREA - REEMBOLSO                                    3148\n",
       "CONSULTORIAS, PESQUISAS E TRABALHOS TÉCNICOS.                 2397\n",
       "PASSAGENS TERRESTRES, MARÍTIMAS OU FLUVIAIS                   1136\n",
       "ASSINATURA DE PUBLICAÇÕES                                      605\n",
       "SERVIÇO DE SEGURANÇA PRESTADO POR EMPRESA ESPECIALIZADA.       563\n",
       "LOCAÇÃO OU FRETAMENTO DE AERONAVES                             126\n",
       "PARTICIPAÇÃO EM CURSO, PALESTRA OU EVENTO SIMILAR               41\n",
       "LOCAÇÃO OU FRETAMENTO DE EMBARCAÇÕES                            30\n",
       "Name: txtDescricao, dtype: int64"
      ]
     },
     "execution_count": 16,
     "metadata": {},
     "output_type": "execute_result"
    }
   ],
   "source": [
    "df.txtDescricao.value_counts() # normalize=True"
   ]
  },
  {
   "cell_type": "markdown",
   "id": "f6529b01",
   "metadata": {},
   "source": [
    "#### Qual o maior gasto com alimentação foi registrado?\n",
    "\n",
    "Filtrando por tipo de descrição e acessando o valor máximo, podemos saber isso."
   ]
  },
  {
   "cell_type": "code",
   "execution_count": 66,
   "id": "512478f4",
   "metadata": {},
   "outputs": [
    {
     "data": {
      "text/plain": [
       "8000.0"
      ]
     },
     "execution_count": 66,
     "metadata": {},
     "output_type": "execute_result"
    }
   ],
   "source": [
    "df[df.txtDescricao == 'FORNECIMENTO DE ALIMENTAÇÃO DO PARLAMENTAR']['vlrLiquido'].max()"
   ]
  },
  {
   "cell_type": "markdown",
   "id": "24bc6d01",
   "metadata": {},
   "source": [
    "#### Qual ou quais parlamentares foram responsáveis por solicitar esse reembolso com gasto de alimentação?\n",
    "\n",
    "Para saber isso, vamos precisar pegar o valor máximo registrado na categoria `FORNECIMENTO DE ALIMENTAÇÃO DO PARLAMENTAR`, depois vamos precisar filtrar apenas por registros presentes nessa categoria. Porque assim, evitamos pegar registros com o mesmo valor mas que estão relacionados com outras categorias."
   ]
  },
  {
   "cell_type": "code",
   "execution_count": 67,
   "id": "b2beea27",
   "metadata": {},
   "outputs": [
    {
     "data": {
      "text/html": [
       "<div>\n",
       "<style scoped>\n",
       "    .dataframe tbody tr th:only-of-type {\n",
       "        vertical-align: middle;\n",
       "    }\n",
       "\n",
       "    .dataframe tbody tr th {\n",
       "        vertical-align: top;\n",
       "    }\n",
       "\n",
       "    .dataframe thead th {\n",
       "        text-align: right;\n",
       "    }\n",
       "</style>\n",
       "<table border=\"1\" class=\"dataframe\">\n",
       "  <thead>\n",
       "    <tr style=\"text-align: right;\">\n",
       "      <th></th>\n",
       "      <th>txNomeParlamentar</th>\n",
       "      <th>cpf</th>\n",
       "      <th>ideCadastro</th>\n",
       "      <th>nuCarteiraParlamentar</th>\n",
       "      <th>nuLegislatura</th>\n",
       "      <th>sgUF</th>\n",
       "      <th>sgPartido</th>\n",
       "      <th>codLegislatura</th>\n",
       "      <th>numSubCota</th>\n",
       "      <th>txtDescricao</th>\n",
       "      <th>numEspecificacaoSubCota</th>\n",
       "      <th>txtDescricaoEspecificacao</th>\n",
       "      <th>txtFornecedor</th>\n",
       "      <th>txtCNPJCPF</th>\n",
       "      <th>txtNumero</th>\n",
       "      <th>indTipoDocumento</th>\n",
       "      <th>datEmissao</th>\n",
       "      <th>vlrDocumento</th>\n",
       "      <th>vlrGlosa</th>\n",
       "      <th>vlrLiquido</th>\n",
       "      <th>numMes</th>\n",
       "      <th>numAno</th>\n",
       "      <th>numParcela</th>\n",
       "      <th>txtPassageiro</th>\n",
       "      <th>txtTrecho</th>\n",
       "      <th>numLote</th>\n",
       "      <th>numRessarcimento</th>\n",
       "      <th>vlrRestituicao</th>\n",
       "      <th>nuDeputadoId</th>\n",
       "      <th>ideDocumento</th>\n",
       "      <th>urlDocumento</th>\n",
       "    </tr>\n",
       "  </thead>\n",
       "  <tbody>\n",
       "    <tr>\n",
       "      <th>264</th>\n",
       "      <td>LIDERANÇA DO PROGRESSISTAS</td>\n",
       "      <td>NaN</td>\n",
       "      <td>NaN</td>\n",
       "      <td>NaN</td>\n",
       "      <td>2019</td>\n",
       "      <td>NaN</td>\n",
       "      <td>NaN</td>\n",
       "      <td>56</td>\n",
       "      <td>13</td>\n",
       "      <td>FORNECIMENTO DE ALIMENTAÇÃO DO PARLAMENTAR</td>\n",
       "      <td>0</td>\n",
       "      <td>NaN</td>\n",
       "      <td>RONILDA FRANCISCA RIBEIRO DOS REIS</td>\n",
       "      <td>208.691.310/0011-7</td>\n",
       "      <td>001525287</td>\n",
       "      <td>0</td>\n",
       "      <td>2019-11-07T23:00:00</td>\n",
       "      <td>8000.0</td>\n",
       "      <td>0.0</td>\n",
       "      <td>8000.0</td>\n",
       "      <td>10</td>\n",
       "      <td>2019</td>\n",
       "      <td>0</td>\n",
       "      <td>NaN</td>\n",
       "      <td>NaN</td>\n",
       "      <td>1651228</td>\n",
       "      <td>NaN</td>\n",
       "      <td>NaN</td>\n",
       "      <td>3461</td>\n",
       "      <td>6959055</td>\n",
       "      <td>https://www.camara.leg.br/cota-parlamentar/doc...</td>\n",
       "    </tr>\n",
       "    <tr>\n",
       "      <th>265</th>\n",
       "      <td>LIDERANÇA DO PROGRESSISTAS</td>\n",
       "      <td>NaN</td>\n",
       "      <td>NaN</td>\n",
       "      <td>NaN</td>\n",
       "      <td>2019</td>\n",
       "      <td>NaN</td>\n",
       "      <td>NaN</td>\n",
       "      <td>56</td>\n",
       "      <td>13</td>\n",
       "      <td>FORNECIMENTO DE ALIMENTAÇÃO DO PARLAMENTAR</td>\n",
       "      <td>0</td>\n",
       "      <td>NaN</td>\n",
       "      <td>RONILDA FRANCISCA RIBEIRO DOS REIS</td>\n",
       "      <td>208.691.310/0011-7</td>\n",
       "      <td>001546052</td>\n",
       "      <td>0</td>\n",
       "      <td>2019-11-24T23:00:00</td>\n",
       "      <td>8000.0</td>\n",
       "      <td>0.0</td>\n",
       "      <td>8000.0</td>\n",
       "      <td>11</td>\n",
       "      <td>2019</td>\n",
       "      <td>0</td>\n",
       "      <td>NaN</td>\n",
       "      <td>NaN</td>\n",
       "      <td>1655704</td>\n",
       "      <td>NaN</td>\n",
       "      <td>NaN</td>\n",
       "      <td>3461</td>\n",
       "      <td>6969841</td>\n",
       "      <td>https://www.camara.leg.br/cota-parlamentar/doc...</td>\n",
       "    </tr>\n",
       "    <tr>\n",
       "      <th>266</th>\n",
       "      <td>LIDERANÇA DO PROGRESSISTAS</td>\n",
       "      <td>NaN</td>\n",
       "      <td>NaN</td>\n",
       "      <td>NaN</td>\n",
       "      <td>2019</td>\n",
       "      <td>NaN</td>\n",
       "      <td>NaN</td>\n",
       "      <td>56</td>\n",
       "      <td>13</td>\n",
       "      <td>FORNECIMENTO DE ALIMENTAÇÃO DO PARLAMENTAR</td>\n",
       "      <td>0</td>\n",
       "      <td>NaN</td>\n",
       "      <td>RONILDA FRANCISCA RIBEIRO DOS REIS</td>\n",
       "      <td>208.691.310/0011-7</td>\n",
       "      <td>001579281</td>\n",
       "      <td>0</td>\n",
       "      <td>2019-12-15T23:00:00</td>\n",
       "      <td>8000.0</td>\n",
       "      <td>0.0</td>\n",
       "      <td>8000.0</td>\n",
       "      <td>12</td>\n",
       "      <td>2019</td>\n",
       "      <td>0</td>\n",
       "      <td>NaN</td>\n",
       "      <td>NaN</td>\n",
       "      <td>1663508</td>\n",
       "      <td>NaN</td>\n",
       "      <td>NaN</td>\n",
       "      <td>3461</td>\n",
       "      <td>6987099</td>\n",
       "      <td>https://www.camara.leg.br/cota-parlamentar/doc...</td>\n",
       "    </tr>\n",
       "  </tbody>\n",
       "</table>\n",
       "</div>"
      ],
      "text/plain": [
       "              txNomeParlamentar  cpf  ideCadastro  nuCarteiraParlamentar  \\\n",
       "264  LIDERANÇA DO PROGRESSISTAS  NaN          NaN                    NaN   \n",
       "265  LIDERANÇA DO PROGRESSISTAS  NaN          NaN                    NaN   \n",
       "266  LIDERANÇA DO PROGRESSISTAS  NaN          NaN                    NaN   \n",
       "\n",
       "     nuLegislatura sgUF sgPartido  codLegislatura  numSubCota  \\\n",
       "264           2019  NaN       NaN              56          13   \n",
       "265           2019  NaN       NaN              56          13   \n",
       "266           2019  NaN       NaN              56          13   \n",
       "\n",
       "                                   txtDescricao  numEspecificacaoSubCota  \\\n",
       "264  FORNECIMENTO DE ALIMENTAÇÃO DO PARLAMENTAR                        0   \n",
       "265  FORNECIMENTO DE ALIMENTAÇÃO DO PARLAMENTAR                        0   \n",
       "266  FORNECIMENTO DE ALIMENTAÇÃO DO PARLAMENTAR                        0   \n",
       "\n",
       "    txtDescricaoEspecificacao                       txtFornecedor  \\\n",
       "264                       NaN  RONILDA FRANCISCA RIBEIRO DOS REIS   \n",
       "265                       NaN  RONILDA FRANCISCA RIBEIRO DOS REIS   \n",
       "266                       NaN  RONILDA FRANCISCA RIBEIRO DOS REIS   \n",
       "\n",
       "             txtCNPJCPF  txtNumero  indTipoDocumento           datEmissao  \\\n",
       "264  208.691.310/0011-7  001525287                 0  2019-11-07T23:00:00   \n",
       "265  208.691.310/0011-7  001546052                 0  2019-11-24T23:00:00   \n",
       "266  208.691.310/0011-7  001579281                 0  2019-12-15T23:00:00   \n",
       "\n",
       "     vlrDocumento  vlrGlosa  vlrLiquido  numMes  numAno  numParcela  \\\n",
       "264        8000.0       0.0      8000.0      10    2019           0   \n",
       "265        8000.0       0.0      8000.0      11    2019           0   \n",
       "266        8000.0       0.0      8000.0      12    2019           0   \n",
       "\n",
       "    txtPassageiro txtTrecho  numLote  numRessarcimento  vlrRestituicao  \\\n",
       "264           NaN       NaN  1651228               NaN             NaN   \n",
       "265           NaN       NaN  1655704               NaN             NaN   \n",
       "266           NaN       NaN  1663508               NaN             NaN   \n",
       "\n",
       "     nuDeputadoId  ideDocumento  \\\n",
       "264          3461       6959055   \n",
       "265          3461       6969841   \n",
       "266          3461       6987099   \n",
       "\n",
       "                                          urlDocumento  \n",
       "264  https://www.camara.leg.br/cota-parlamentar/doc...  \n",
       "265  https://www.camara.leg.br/cota-parlamentar/doc...  \n",
       "266  https://www.camara.leg.br/cota-parlamentar/doc...  "
      ]
     },
     "execution_count": 67,
     "metadata": {},
     "output_type": "execute_result"
    }
   ],
   "source": [
    "gasto_alimentacao = df.txtDescricao == 'FORNECIMENTO DE ALIMENTAÇÃO DO PARLAMENTAR'\n",
    "\n",
    "alimentacao_max = df[df.txtDescricao == 'FORNECIMENTO DE ALIMENTAÇÃO DO PARLAMENTAR']['vlrLiquido'].max()\n",
    "\n",
    "df[gasto_alimentacao & (df.vlrLiquido == alimentacao_max)]"
   ]
  },
  {
   "cell_type": "markdown",
   "id": "1a3a1263",
   "metadata": {},
   "source": [
    "#### Qual o parlamentar com o maior valor de reembolso?\n",
    "\n",
    "Uma forma de saber isso, é comparando o valor da nota de reembolso com o valor máximo presente na base."
   ]
  },
  {
   "cell_type": "code",
   "execution_count": 64,
   "id": "c1a8e72b",
   "metadata": {},
   "outputs": [
    {
     "data": {
      "text/html": [
       "<div>\n",
       "<style scoped>\n",
       "    .dataframe tbody tr th:only-of-type {\n",
       "        vertical-align: middle;\n",
       "    }\n",
       "\n",
       "    .dataframe tbody tr th {\n",
       "        vertical-align: top;\n",
       "    }\n",
       "\n",
       "    .dataframe thead th {\n",
       "        text-align: right;\n",
       "    }\n",
       "</style>\n",
       "<table border=\"1\" class=\"dataframe\">\n",
       "  <thead>\n",
       "    <tr style=\"text-align: right;\">\n",
       "      <th></th>\n",
       "      <th>txNomeParlamentar</th>\n",
       "      <th>cpf</th>\n",
       "      <th>ideCadastro</th>\n",
       "      <th>nuCarteiraParlamentar</th>\n",
       "      <th>nuLegislatura</th>\n",
       "      <th>sgUF</th>\n",
       "      <th>sgPartido</th>\n",
       "      <th>codLegislatura</th>\n",
       "      <th>numSubCota</th>\n",
       "      <th>txtDescricao</th>\n",
       "      <th>numEspecificacaoSubCota</th>\n",
       "      <th>txtDescricaoEspecificacao</th>\n",
       "      <th>txtFornecedor</th>\n",
       "      <th>txtCNPJCPF</th>\n",
       "      <th>txtNumero</th>\n",
       "      <th>indTipoDocumento</th>\n",
       "      <th>datEmissao</th>\n",
       "      <th>vlrDocumento</th>\n",
       "      <th>vlrGlosa</th>\n",
       "      <th>vlrLiquido</th>\n",
       "      <th>numMes</th>\n",
       "      <th>numAno</th>\n",
       "      <th>numParcela</th>\n",
       "      <th>txtPassageiro</th>\n",
       "      <th>txtTrecho</th>\n",
       "      <th>numLote</th>\n",
       "      <th>numRessarcimento</th>\n",
       "      <th>vlrRestituicao</th>\n",
       "      <th>nuDeputadoId</th>\n",
       "      <th>ideDocumento</th>\n",
       "      <th>urlDocumento</th>\n",
       "    </tr>\n",
       "  </thead>\n",
       "  <tbody>\n",
       "    <tr>\n",
       "      <th>88769</th>\n",
       "      <td>Weliton Prado</td>\n",
       "      <td>8.471985e+10</td>\n",
       "      <td>160518.0</td>\n",
       "      <td>270.0</td>\n",
       "      <td>2019</td>\n",
       "      <td>MG</td>\n",
       "      <td>PROS</td>\n",
       "      <td>56</td>\n",
       "      <td>5</td>\n",
       "      <td>DIVULGAÇÃO DA ATIVIDADE PARLAMENTAR.</td>\n",
       "      <td>0</td>\n",
       "      <td>NaN</td>\n",
       "      <td>Athalaia Grafica e Editora Ltda</td>\n",
       "      <td>027.178.660/0014-3</td>\n",
       "      <td>12497</td>\n",
       "      <td>0</td>\n",
       "      <td>2019-12-20T00:00:00</td>\n",
       "      <td>145140.0</td>\n",
       "      <td>0.0</td>\n",
       "      <td>145140.0</td>\n",
       "      <td>12</td>\n",
       "      <td>2019</td>\n",
       "      <td>0</td>\n",
       "      <td>NaN</td>\n",
       "      <td>NaN</td>\n",
       "      <td>1679887</td>\n",
       "      <td>NaN</td>\n",
       "      <td>NaN</td>\n",
       "      <td>2233</td>\n",
       "      <td>7020514</td>\n",
       "      <td>https://www.camara.leg.br/cota-parlamentar/doc...</td>\n",
       "    </tr>\n",
       "  </tbody>\n",
       "</table>\n",
       "</div>"
      ],
      "text/plain": [
       "      txNomeParlamentar           cpf  ideCadastro  nuCarteiraParlamentar  \\\n",
       "88769     Weliton Prado  8.471985e+10     160518.0                  270.0   \n",
       "\n",
       "       nuLegislatura sgUF sgPartido  codLegislatura  numSubCota  \\\n",
       "88769           2019   MG      PROS              56           5   \n",
       "\n",
       "                               txtDescricao  numEspecificacaoSubCota  \\\n",
       "88769  DIVULGAÇÃO DA ATIVIDADE PARLAMENTAR.                        0   \n",
       "\n",
       "      txtDescricaoEspecificacao                    txtFornecedor  \\\n",
       "88769                       NaN  Athalaia Grafica e Editora Ltda   \n",
       "\n",
       "               txtCNPJCPF txtNumero  indTipoDocumento           datEmissao  \\\n",
       "88769  027.178.660/0014-3     12497                 0  2019-12-20T00:00:00   \n",
       "\n",
       "       vlrDocumento  vlrGlosa  vlrLiquido  numMes  numAno  numParcela  \\\n",
       "88769      145140.0       0.0    145140.0      12    2019           0   \n",
       "\n",
       "      txtPassageiro txtTrecho  numLote  numRessarcimento  vlrRestituicao  \\\n",
       "88769           NaN       NaN  1679887               NaN             NaN   \n",
       "\n",
       "       nuDeputadoId  ideDocumento  \\\n",
       "88769          2233       7020514   \n",
       "\n",
       "                                            urlDocumento  \n",
       "88769  https://www.camara.leg.br/cota-parlamentar/doc...  "
      ]
     },
     "execution_count": 64,
     "metadata": {},
     "output_type": "execute_result"
    }
   ],
   "source": [
    "df[df.vlrLiquido == df.vlrLiquido.max()]"
   ]
  },
  {
   "cell_type": "markdown",
   "id": "4a69878b",
   "metadata": {},
   "source": [
    "#### Quais parlamentares gastaram mais de R$ 100.000,00?\n",
    "\n",
    "Independente do valor desejado, o filtro do pandas permite a gente responder essa pergunta."
   ]
  },
  {
   "cell_type": "code",
   "execution_count": 65,
   "id": "3e693191",
   "metadata": {},
   "outputs": [
    {
     "data": {
      "text/html": [
       "<div>\n",
       "<style scoped>\n",
       "    .dataframe tbody tr th:only-of-type {\n",
       "        vertical-align: middle;\n",
       "    }\n",
       "\n",
       "    .dataframe tbody tr th {\n",
       "        vertical-align: top;\n",
       "    }\n",
       "\n",
       "    .dataframe thead th {\n",
       "        text-align: right;\n",
       "    }\n",
       "</style>\n",
       "<table border=\"1\" class=\"dataframe\">\n",
       "  <thead>\n",
       "    <tr style=\"text-align: right;\">\n",
       "      <th></th>\n",
       "      <th>txNomeParlamentar</th>\n",
       "      <th>cpf</th>\n",
       "      <th>ideCadastro</th>\n",
       "      <th>nuCarteiraParlamentar</th>\n",
       "      <th>nuLegislatura</th>\n",
       "      <th>sgUF</th>\n",
       "      <th>sgPartido</th>\n",
       "      <th>codLegislatura</th>\n",
       "      <th>numSubCota</th>\n",
       "      <th>txtDescricao</th>\n",
       "      <th>numEspecificacaoSubCota</th>\n",
       "      <th>txtDescricaoEspecificacao</th>\n",
       "      <th>txtFornecedor</th>\n",
       "      <th>txtCNPJCPF</th>\n",
       "      <th>txtNumero</th>\n",
       "      <th>indTipoDocumento</th>\n",
       "      <th>datEmissao</th>\n",
       "      <th>vlrDocumento</th>\n",
       "      <th>vlrGlosa</th>\n",
       "      <th>vlrLiquido</th>\n",
       "      <th>numMes</th>\n",
       "      <th>numAno</th>\n",
       "      <th>numParcela</th>\n",
       "      <th>txtPassageiro</th>\n",
       "      <th>txtTrecho</th>\n",
       "      <th>numLote</th>\n",
       "      <th>numRessarcimento</th>\n",
       "      <th>vlrRestituicao</th>\n",
       "      <th>nuDeputadoId</th>\n",
       "      <th>ideDocumento</th>\n",
       "      <th>urlDocumento</th>\n",
       "    </tr>\n",
       "  </thead>\n",
       "  <tbody>\n",
       "    <tr>\n",
       "      <th>88769</th>\n",
       "      <td>Weliton Prado</td>\n",
       "      <td>8.471985e+10</td>\n",
       "      <td>160518.0</td>\n",
       "      <td>270.0</td>\n",
       "      <td>2019</td>\n",
       "      <td>MG</td>\n",
       "      <td>PROS</td>\n",
       "      <td>56</td>\n",
       "      <td>5</td>\n",
       "      <td>DIVULGAÇÃO DA ATIVIDADE PARLAMENTAR.</td>\n",
       "      <td>0</td>\n",
       "      <td>NaN</td>\n",
       "      <td>Athalaia Grafica e Editora Ltda</td>\n",
       "      <td>027.178.660/0014-3</td>\n",
       "      <td>12497</td>\n",
       "      <td>0</td>\n",
       "      <td>2019-12-20T00:00:00</td>\n",
       "      <td>145140.0</td>\n",
       "      <td>0.0</td>\n",
       "      <td>145140.0</td>\n",
       "      <td>12</td>\n",
       "      <td>2019</td>\n",
       "      <td>0</td>\n",
       "      <td>NaN</td>\n",
       "      <td>NaN</td>\n",
       "      <td>1679887</td>\n",
       "      <td>NaN</td>\n",
       "      <td>NaN</td>\n",
       "      <td>2233</td>\n",
       "      <td>7020514</td>\n",
       "      <td>https://www.camara.leg.br/cota-parlamentar/doc...</td>\n",
       "    </tr>\n",
       "    <tr>\n",
       "      <th>109873</th>\n",
       "      <td>Professora Dorinha Seabra Rezende</td>\n",
       "      <td>4.319693e+10</td>\n",
       "      <td>160639.0</td>\n",
       "      <td>67.0</td>\n",
       "      <td>2019</td>\n",
       "      <td>TO</td>\n",
       "      <td>UNIÃO</td>\n",
       "      <td>56</td>\n",
       "      <td>5</td>\n",
       "      <td>DIVULGAÇÃO DA ATIVIDADE PARLAMENTAR.</td>\n",
       "      <td>0</td>\n",
       "      <td>NaN</td>\n",
       "      <td>ALENCAR &amp; MARTINS LTDA-ME</td>\n",
       "      <td>056.493.380/0019-2</td>\n",
       "      <td>201900000003750</td>\n",
       "      <td>0</td>\n",
       "      <td>2019-12-11T00:00:00</td>\n",
       "      <td>109500.0</td>\n",
       "      <td>0.0</td>\n",
       "      <td>109500.0</td>\n",
       "      <td>12</td>\n",
       "      <td>2019</td>\n",
       "      <td>0</td>\n",
       "      <td>NaN</td>\n",
       "      <td>NaN</td>\n",
       "      <td>1661126</td>\n",
       "      <td>NaN</td>\n",
       "      <td>NaN</td>\n",
       "      <td>2300</td>\n",
       "      <td>6981838</td>\n",
       "      <td>https://www.camara.leg.br/cota-parlamentar/doc...</td>\n",
       "    </tr>\n",
       "    <tr>\n",
       "      <th>280952</th>\n",
       "      <td>Raimundo Costa</td>\n",
       "      <td>1.767254e+10</td>\n",
       "      <td>204567.0</td>\n",
       "      <td>211.0</td>\n",
       "      <td>2019</td>\n",
       "      <td>BA</td>\n",
       "      <td>PODE</td>\n",
       "      <td>56</td>\n",
       "      <td>5</td>\n",
       "      <td>DIVULGAÇÃO DA ATIVIDADE PARLAMENTAR.</td>\n",
       "      <td>0</td>\n",
       "      <td>NaN</td>\n",
       "      <td>ALUGUE GRAFICA LTDA</td>\n",
       "      <td>191.795.510/0019-2</td>\n",
       "      <td>00002981</td>\n",
       "      <td>0</td>\n",
       "      <td>2019-11-26T23:00:00</td>\n",
       "      <td>110000.0</td>\n",
       "      <td>0.0</td>\n",
       "      <td>110000.0</td>\n",
       "      <td>11</td>\n",
       "      <td>2019</td>\n",
       "      <td>0</td>\n",
       "      <td>NaN</td>\n",
       "      <td>NaN</td>\n",
       "      <td>1656271</td>\n",
       "      <td>NaN</td>\n",
       "      <td>NaN</td>\n",
       "      <td>3426</td>\n",
       "      <td>6971267</td>\n",
       "      <td>https://www.camara.leg.br/cota-parlamentar/doc...</td>\n",
       "    </tr>\n",
       "  </tbody>\n",
       "</table>\n",
       "</div>"
      ],
      "text/plain": [
       "                        txNomeParlamentar           cpf  ideCadastro  \\\n",
       "88769                       Weliton Prado  8.471985e+10     160518.0   \n",
       "109873  Professora Dorinha Seabra Rezende  4.319693e+10     160639.0   \n",
       "280952                     Raimundo Costa  1.767254e+10     204567.0   \n",
       "\n",
       "        nuCarteiraParlamentar  nuLegislatura sgUF sgPartido  codLegislatura  \\\n",
       "88769                   270.0           2019   MG      PROS              56   \n",
       "109873                   67.0           2019   TO     UNIÃO              56   \n",
       "280952                  211.0           2019   BA      PODE              56   \n",
       "\n",
       "        numSubCota                          txtDescricao  \\\n",
       "88769            5  DIVULGAÇÃO DA ATIVIDADE PARLAMENTAR.   \n",
       "109873           5  DIVULGAÇÃO DA ATIVIDADE PARLAMENTAR.   \n",
       "280952           5  DIVULGAÇÃO DA ATIVIDADE PARLAMENTAR.   \n",
       "\n",
       "        numEspecificacaoSubCota txtDescricaoEspecificacao  \\\n",
       "88769                         0                       NaN   \n",
       "109873                        0                       NaN   \n",
       "280952                        0                       NaN   \n",
       "\n",
       "                          txtFornecedor          txtCNPJCPF        txtNumero  \\\n",
       "88769   Athalaia Grafica e Editora Ltda  027.178.660/0014-3            12497   \n",
       "109873        ALENCAR & MARTINS LTDA-ME  056.493.380/0019-2  201900000003750   \n",
       "280952              ALUGUE GRAFICA LTDA  191.795.510/0019-2         00002981   \n",
       "\n",
       "        indTipoDocumento           datEmissao  vlrDocumento  vlrGlosa  \\\n",
       "88769                  0  2019-12-20T00:00:00      145140.0       0.0   \n",
       "109873                 0  2019-12-11T00:00:00      109500.0       0.0   \n",
       "280952                 0  2019-11-26T23:00:00      110000.0       0.0   \n",
       "\n",
       "        vlrLiquido  numMes  numAno  numParcela txtPassageiro txtTrecho  \\\n",
       "88769     145140.0      12    2019           0           NaN       NaN   \n",
       "109873    109500.0      12    2019           0           NaN       NaN   \n",
       "280952    110000.0      11    2019           0           NaN       NaN   \n",
       "\n",
       "        numLote  numRessarcimento  vlrRestituicao  nuDeputadoId  ideDocumento  \\\n",
       "88769   1679887               NaN             NaN          2233       7020514   \n",
       "109873  1661126               NaN             NaN          2300       6981838   \n",
       "280952  1656271               NaN             NaN          3426       6971267   \n",
       "\n",
       "                                             urlDocumento  \n",
       "88769   https://www.camara.leg.br/cota-parlamentar/doc...  \n",
       "109873  https://www.camara.leg.br/cota-parlamentar/doc...  \n",
       "280952  https://www.camara.leg.br/cota-parlamentar/doc...  "
      ]
     },
     "execution_count": 65,
     "metadata": {},
     "output_type": "execute_result"
    }
   ],
   "source": [
    "df[df.vlrLiquido > 100000]"
   ]
  },
  {
   "cell_type": "markdown",
   "id": "9ca69c1e",
   "metadata": {},
   "source": [
    "#### Qual a média de gastos dos parlamentares?\n",
    "\n",
    "A função `mean` pode nós ajudar com isso."
   ]
  },
  {
   "cell_type": "code",
   "execution_count": 68,
   "id": "438871d1",
   "metadata": {},
   "outputs": [
    {
     "data": {
      "text/plain": [
       "730.2506710262151"
      ]
     },
     "execution_count": 68,
     "metadata": {},
     "output_type": "execute_result"
    }
   ],
   "source": [
    "df[\"vlrLiquido\"].mean()"
   ]
  },
  {
   "cell_type": "markdown",
   "id": "dd8b9c77",
   "metadata": {},
   "source": [
    "### Explorando mais o campo `vlrLiquido`"
   ]
  },
  {
   "cell_type": "markdown",
   "id": "334917f8",
   "metadata": {},
   "source": [
    "#### Soma total:"
   ]
  },
  {
   "cell_type": "code",
   "execution_count": 61,
   "id": "1beb0b6f",
   "metadata": {},
   "outputs": [
    {
     "data": {
      "text/plain": [
       "211372517.22999996"
      ]
     },
     "execution_count": 61,
     "metadata": {},
     "output_type": "execute_result"
    }
   ],
   "source": [
    "df['vlrLiquido'].sum()"
   ]
  },
  {
   "cell_type": "markdown",
   "id": "20203a34",
   "metadata": {},
   "source": [
    "#### Utilizando gráficos para explorar os dados"
   ]
  },
  {
   "cell_type": "code",
   "execution_count": 59,
   "id": "cecff1c2",
   "metadata": {},
   "outputs": [],
   "source": [
    "import matplotlib.pyplot as plt"
   ]
  },
  {
   "cell_type": "code",
   "execution_count": 62,
   "id": "8df21af9",
   "metadata": {},
   "outputs": [
    {
     "data": {
      "image/png": "[encoded data removed]",
      "text/plain": [
       "<Figure size 432x288 with 1 Axes>"
      ]
     },
     "metadata": {
      "needs_background": "light"
     },
     "output_type": "display_data"
    }
   ],
   "source": [
    "plt.title(\"valor liquido\")\n",
    "\n",
    "plt.scatter(\n",
    "    x=df.index, \n",
    "    y=df['vlrLiquido'],\n",
    "    s=5\n",
    ")\n",
    "plt.hlines(\n",
    "    y=df['vlrLiquido'].mean(), \n",
    "    xmin=0, \n",
    "    xmax=df['vlrLiquido'].count(), \n",
    "    color='red'\n",
    "); "
   ]
  },
  {
   "cell_type": "markdown",
   "id": "218994d6",
   "metadata": {},
   "source": [
    "#### Descrição dos dados"
   ]
  },
  {
   "cell_type": "code",
   "execution_count": 43,
   "id": "494b1e83",
   "metadata": {},
   "outputs": [
    {
     "data": {
      "text/plain": [
       "count    289452.000000\n",
       "mean        730.250671\n",
       "std        2083.629182\n",
       "min       -6605.570000\n",
       "25%          50.000000\n",
       "50%         191.850000\n",
       "75%         715.750000\n",
       "max      145140.000000\n",
       "Name: vlrLiquido, dtype: float64"
      ]
     },
     "execution_count": 43,
     "metadata": {},
     "output_type": "execute_result"
    }
   ],
   "source": [
    "df[\"vlrLiquido\"].describe()"
   ]
  },
  {
   "cell_type": "markdown",
   "id": "434a1790",
   "metadata": {},
   "source": [
    "Aqui nós podemos ver que temos valores negativos. Esse valores são referentes a bilhetes de compensação, bilhete de compensação é o bilhete aéreo não voado, que foi reembolsado à Câmara dos Deputados. Portanto, o valor relativo aos bilhetes compensados (não voados) são reembolsados/devolvidos à Casa, deduzindo-se as taxas de cancelamento e de no-show, de acordo com as regras tarifárias da companhia aérea respectiva.\n",
    "\n",
    "Esse crédito pode voltar para a conta corrente do parlamentar mantida na companhia aérea para ser utilizado com nova emissão de passagem aérea ou poderá voltar para a CEAP do respectivo parlamentar, ficando disponível para utilização com as demais despesas.\n",
    "\n",
    "Para entender mais, vejam a thread: https://github.com/okfn-brasil/serenata-de-amor/issues/29"
   ]
  },
  {
   "cell_type": "markdown",
   "id": "e7c00096",
   "metadata": {},
   "source": [
    "#### Explorando mais o caso dos valores negativos"
   ]
  },
  {
   "cell_type": "markdown",
   "id": "c48201f9",
   "metadata": {},
   "source": [
    "Para entender melhor sobre esses valores, vamos recuperar todos os valores negativos."
   ]
  },
  {
   "cell_type": "code",
   "execution_count": 45,
   "id": "aafc7ab8",
   "metadata": {},
   "outputs": [
    {
     "data": {
      "text/plain": [
       "10739"
      ]
     },
     "execution_count": 45,
     "metadata": {},
     "output_type": "execute_result"
    }
   ],
   "source": [
    "negative_documents = df[df[\"vlrLiquido\"] < 0]\n",
    "len(negative_documents)"
   ]
  },
  {
   "cell_type": "markdown",
   "id": "981306e2",
   "metadata": {},
   "source": [
    "Em teoria, para cada documento negativo, vamos ter outro documento positivo relacionado."
   ]
  },
  {
   "cell_type": "code",
   "execution_count": 46,
   "id": "664b4e4f",
   "metadata": {},
   "outputs": [],
   "source": [
    "positive_documents = df[\n",
    "    (df['ideDocumento'].isin(negative_documents['ideDocumento']))\n",
    "    & \n",
    "    (df[\"vlrLiquido\"] > 0)\n",
    "]"
   ]
  },
  {
   "cell_type": "code",
   "execution_count": 54,
   "id": "76cc9d4c",
   "metadata": {
    "scrolled": true
   },
   "outputs": [
    {
     "data": {
      "text/html": [
       "<div>\n",
       "<style scoped>\n",
       "    .dataframe tbody tr th:only-of-type {\n",
       "        vertical-align: middle;\n",
       "    }\n",
       "\n",
       "    .dataframe tbody tr th {\n",
       "        vertical-align: top;\n",
       "    }\n",
       "\n",
       "    .dataframe thead th {\n",
       "        text-align: right;\n",
       "    }\n",
       "</style>\n",
       "<table border=\"1\" class=\"dataframe\">\n",
       "  <thead>\n",
       "    <tr style=\"text-align: right;\">\n",
       "      <th></th>\n",
       "      <th>1758</th>\n",
       "    </tr>\n",
       "  </thead>\n",
       "  <tbody>\n",
       "    <tr>\n",
       "      <th>txNomeParlamentar</th>\n",
       "      <td>Fausto Pinato</td>\n",
       "    </tr>\n",
       "    <tr>\n",
       "      <th>cpf</th>\n",
       "      <td>28022995819.0</td>\n",
       "    </tr>\n",
       "    <tr>\n",
       "      <th>ideCadastro</th>\n",
       "      <td>66828.0</td>\n",
       "    </tr>\n",
       "    <tr>\n",
       "      <th>nuCarteiraParlamentar</th>\n",
       "      <td>355.0</td>\n",
       "    </tr>\n",
       "    <tr>\n",
       "      <th>nuLegislatura</th>\n",
       "      <td>2019</td>\n",
       "    </tr>\n",
       "    <tr>\n",
       "      <th>sgUF</th>\n",
       "      <td>SP</td>\n",
       "    </tr>\n",
       "    <tr>\n",
       "      <th>sgPartido</th>\n",
       "      <td>PP</td>\n",
       "    </tr>\n",
       "    <tr>\n",
       "      <th>codLegislatura</th>\n",
       "      <td>56</td>\n",
       "    </tr>\n",
       "    <tr>\n",
       "      <th>numSubCota</th>\n",
       "      <td>998</td>\n",
       "    </tr>\n",
       "    <tr>\n",
       "      <th>txtDescricao</th>\n",
       "      <td>PASSAGEM AÉREA - SIGEPA</td>\n",
       "    </tr>\n",
       "    <tr>\n",
       "      <th>numEspecificacaoSubCota</th>\n",
       "      <td>0</td>\n",
       "    </tr>\n",
       "    <tr>\n",
       "      <th>txtDescricaoEspecificacao</th>\n",
       "      <td>NaN</td>\n",
       "    </tr>\n",
       "    <tr>\n",
       "      <th>txtFornecedor</th>\n",
       "      <td>GOL</td>\n",
       "    </tr>\n",
       "    <tr>\n",
       "      <th>txtCNPJCPF</th>\n",
       "      <td>NaN</td>\n",
       "    </tr>\n",
       "    <tr>\n",
       "      <th>txtNumero</th>\n",
       "      <td>GLLN8G</td>\n",
       "    </tr>\n",
       "    <tr>\n",
       "      <th>indTipoDocumento</th>\n",
       "      <td>0</td>\n",
       "    </tr>\n",
       "    <tr>\n",
       "      <th>datEmissao</th>\n",
       "      <td>2019-11-20T12:00:00</td>\n",
       "    </tr>\n",
       "    <tr>\n",
       "      <th>vlrDocumento</th>\n",
       "      <td>1386.5</td>\n",
       "    </tr>\n",
       "    <tr>\n",
       "      <th>vlrGlosa</th>\n",
       "      <td>0.0</td>\n",
       "    </tr>\n",
       "    <tr>\n",
       "      <th>vlrLiquido</th>\n",
       "      <td>1386.5</td>\n",
       "    </tr>\n",
       "    <tr>\n",
       "      <th>numMes</th>\n",
       "      <td>11</td>\n",
       "    </tr>\n",
       "    <tr>\n",
       "      <th>numAno</th>\n",
       "      <td>2019</td>\n",
       "    </tr>\n",
       "    <tr>\n",
       "      <th>numParcela</th>\n",
       "      <td>0</td>\n",
       "    </tr>\n",
       "    <tr>\n",
       "      <th>txtPassageiro</th>\n",
       "      <td>Fausto Ruy Pinato</td>\n",
       "    </tr>\n",
       "    <tr>\n",
       "      <th>txtTrecho</th>\n",
       "      <td>BSB/CGH</td>\n",
       "    </tr>\n",
       "    <tr>\n",
       "      <th>numLote</th>\n",
       "      <td>0</td>\n",
       "    </tr>\n",
       "    <tr>\n",
       "      <th>numRessarcimento</th>\n",
       "      <td>0.0</td>\n",
       "    </tr>\n",
       "    <tr>\n",
       "      <th>vlrRestituicao</th>\n",
       "      <td>NaN</td>\n",
       "    </tr>\n",
       "    <tr>\n",
       "      <th>nuDeputadoId</th>\n",
       "      <td>2917</td>\n",
       "    </tr>\n",
       "    <tr>\n",
       "      <th>ideDocumento</th>\n",
       "      <td>2203</td>\n",
       "    </tr>\n",
       "    <tr>\n",
       "      <th>urlDocumento</th>\n",
       "      <td>NaN</td>\n",
       "    </tr>\n",
       "  </tbody>\n",
       "</table>\n",
       "</div>"
      ],
      "text/plain": [
       "                                              1758\n",
       "txNomeParlamentar                    Fausto Pinato\n",
       "cpf                                  28022995819.0\n",
       "ideCadastro                                66828.0\n",
       "nuCarteiraParlamentar                        355.0\n",
       "nuLegislatura                                 2019\n",
       "sgUF                                            SP\n",
       "sgPartido                                       PP\n",
       "codLegislatura                                  56\n",
       "numSubCota                                     998\n",
       "txtDescricao               PASSAGEM AÉREA - SIGEPA\n",
       "numEspecificacaoSubCota                          0\n",
       "txtDescricaoEspecificacao                      NaN\n",
       "txtFornecedor                                  GOL\n",
       "txtCNPJCPF                                     NaN\n",
       "txtNumero                                   GLLN8G\n",
       "indTipoDocumento                                 0\n",
       "datEmissao                     2019-11-20T12:00:00\n",
       "vlrDocumento                                1386.5\n",
       "vlrGlosa                                       0.0\n",
       "vlrLiquido                                  1386.5\n",
       "numMes                                          11\n",
       "numAno                                        2019\n",
       "numParcela                                       0\n",
       "txtPassageiro                    Fausto Ruy Pinato\n",
       "txtTrecho                                  BSB/CGH\n",
       "numLote                                          0\n",
       "numRessarcimento                               0.0\n",
       "vlrRestituicao                                 NaN\n",
       "nuDeputadoId                                  2917\n",
       "ideDocumento                                  2203\n",
       "urlDocumento                                   NaN"
      ]
     },
     "execution_count": 54,
     "metadata": {},
     "output_type": "execute_result"
    }
   ],
   "source": [
    "positive_documents.iloc[0].to_frame()"
   ]
  },
  {
   "cell_type": "markdown",
   "id": "04da81c4",
   "metadata": {},
   "source": [
    "Pegando o id do documento desse gasto positivo, podemos encontrar o documento com gasto negativo relacionado."
   ]
  },
  {
   "cell_type": "code",
   "execution_count": 55,
   "id": "2f0573d6",
   "metadata": {},
   "outputs": [
    {
     "data": {
      "text/html": [
       "<div>\n",
       "<style scoped>\n",
       "    .dataframe tbody tr th:only-of-type {\n",
       "        vertical-align: middle;\n",
       "    }\n",
       "\n",
       "    .dataframe tbody tr th {\n",
       "        vertical-align: top;\n",
       "    }\n",
       "\n",
       "    .dataframe thead th {\n",
       "        text-align: right;\n",
       "    }\n",
       "</style>\n",
       "<table border=\"1\" class=\"dataframe\">\n",
       "  <thead>\n",
       "    <tr style=\"text-align: right;\">\n",
       "      <th></th>\n",
       "      <th>txNomeParlamentar</th>\n",
       "      <th>cpf</th>\n",
       "      <th>ideCadastro</th>\n",
       "      <th>nuCarteiraParlamentar</th>\n",
       "      <th>nuLegislatura</th>\n",
       "      <th>sgUF</th>\n",
       "      <th>sgPartido</th>\n",
       "      <th>codLegislatura</th>\n",
       "      <th>numSubCota</th>\n",
       "      <th>txtDescricao</th>\n",
       "      <th>numEspecificacaoSubCota</th>\n",
       "      <th>txtDescricaoEspecificacao</th>\n",
       "      <th>txtFornecedor</th>\n",
       "      <th>txtCNPJCPF</th>\n",
       "      <th>txtNumero</th>\n",
       "      <th>indTipoDocumento</th>\n",
       "      <th>datEmissao</th>\n",
       "      <th>vlrDocumento</th>\n",
       "      <th>vlrGlosa</th>\n",
       "      <th>vlrLiquido</th>\n",
       "      <th>numMes</th>\n",
       "      <th>numAno</th>\n",
       "      <th>numParcela</th>\n",
       "      <th>txtPassageiro</th>\n",
       "      <th>txtTrecho</th>\n",
       "      <th>numLote</th>\n",
       "      <th>numRessarcimento</th>\n",
       "      <th>vlrRestituicao</th>\n",
       "      <th>nuDeputadoId</th>\n",
       "      <th>ideDocumento</th>\n",
       "      <th>urlDocumento</th>\n",
       "    </tr>\n",
       "  </thead>\n",
       "  <tbody>\n",
       "    <tr>\n",
       "      <th>1759</th>\n",
       "      <td>Fausto Pinato</td>\n",
       "      <td>2.802300e+10</td>\n",
       "      <td>66828.0</td>\n",
       "      <td>355.0</td>\n",
       "      <td>2019</td>\n",
       "      <td>SP</td>\n",
       "      <td>PP</td>\n",
       "      <td>56</td>\n",
       "      <td>998</td>\n",
       "      <td>PASSAGEM AÉREA - SIGEPA</td>\n",
       "      <td>0</td>\n",
       "      <td>NaN</td>\n",
       "      <td>GOL</td>\n",
       "      <td>NaN</td>\n",
       "      <td>GLLN8G</td>\n",
       "      <td>0</td>\n",
       "      <td>2019-12-20T12:00:00</td>\n",
       "      <td>-1318.71</td>\n",
       "      <td>0.0</td>\n",
       "      <td>-1318.71</td>\n",
       "      <td>12</td>\n",
       "      <td>2019</td>\n",
       "      <td>0</td>\n",
       "      <td>Fausto Ruy Pinato</td>\n",
       "      <td>BSB/BSB</td>\n",
       "      <td>0</td>\n",
       "      <td>0.0</td>\n",
       "      <td>NaN</td>\n",
       "      <td>2917</td>\n",
       "      <td>2203</td>\n",
       "      <td>NaN</td>\n",
       "    </tr>\n",
       "  </tbody>\n",
       "</table>\n",
       "</div>"
      ],
      "text/plain": [
       "     txNomeParlamentar           cpf  ideCadastro  nuCarteiraParlamentar  \\\n",
       "1759     Fausto Pinato  2.802300e+10      66828.0                  355.0   \n",
       "\n",
       "      nuLegislatura sgUF sgPartido  codLegislatura  numSubCota  \\\n",
       "1759           2019   SP        PP              56         998   \n",
       "\n",
       "                 txtDescricao  numEspecificacaoSubCota  \\\n",
       "1759  PASSAGEM AÉREA - SIGEPA                        0   \n",
       "\n",
       "     txtDescricaoEspecificacao txtFornecedor txtCNPJCPF txtNumero  \\\n",
       "1759                       NaN           GOL        NaN    GLLN8G   \n",
       "\n",
       "      indTipoDocumento           datEmissao  vlrDocumento  vlrGlosa  \\\n",
       "1759                 0  2019-12-20T12:00:00      -1318.71       0.0   \n",
       "\n",
       "      vlrLiquido  numMes  numAno  numParcela      txtPassageiro txtTrecho  \\\n",
       "1759    -1318.71      12    2019           0  Fausto Ruy Pinato   BSB/BSB   \n",
       "\n",
       "      numLote  numRessarcimento  vlrRestituicao  nuDeputadoId  ideDocumento  \\\n",
       "1759        0               0.0             NaN          2917          2203   \n",
       "\n",
       "     urlDocumento  \n",
       "1759          NaN  "
      ]
     },
     "execution_count": 55,
     "metadata": {},
     "output_type": "execute_result"
    }
   ],
   "source": [
    "negative_documents[\n",
    "    negative_documents['ideDocumento'] == positive_documents.iloc[0].ideDocumento\n",
    "]"
   ]
  },
  {
   "cell_type": "code",
   "execution_count": 49,
   "id": "6126a3b3",
   "metadata": {},
   "outputs": [
    {
     "data": {
      "text/plain": [
       "(602, 10739)"
      ]
     },
     "execution_count": 49,
     "metadata": {},
     "output_type": "execute_result"
    }
   ],
   "source": [
    "len(positive_documents), len(negative_documents) "
   ]
  },
  {
   "cell_type": "code",
   "execution_count": 50,
   "id": "5dce8c1e",
   "metadata": {},
   "outputs": [],
   "source": [
    "sample = negative_documents[negative_documents.duplicated(subset = 'ideDocumento')].iloc[1] #, keep = {‘last’, ‘first’, ‘false’)"
   ]
  },
  {
   "cell_type": "code",
   "execution_count": 56,
   "id": "c6aed31a",
   "metadata": {},
   "outputs": [
    {
     "data": {
      "text/html": [
       "<div>\n",
       "<style scoped>\n",
       "    .dataframe tbody tr th:only-of-type {\n",
       "        vertical-align: middle;\n",
       "    }\n",
       "\n",
       "    .dataframe tbody tr th {\n",
       "        vertical-align: top;\n",
       "    }\n",
       "\n",
       "    .dataframe thead th {\n",
       "        text-align: right;\n",
       "    }\n",
       "</style>\n",
       "<table border=\"1\" class=\"dataframe\">\n",
       "  <thead>\n",
       "    <tr style=\"text-align: right;\">\n",
       "      <th></th>\n",
       "      <th>txNomeParlamentar</th>\n",
       "      <th>cpf</th>\n",
       "      <th>ideCadastro</th>\n",
       "      <th>nuCarteiraParlamentar</th>\n",
       "      <th>nuLegislatura</th>\n",
       "      <th>sgUF</th>\n",
       "      <th>sgPartido</th>\n",
       "      <th>codLegislatura</th>\n",
       "      <th>numSubCota</th>\n",
       "      <th>txtDescricao</th>\n",
       "      <th>numEspecificacaoSubCota</th>\n",
       "      <th>txtDescricaoEspecificacao</th>\n",
       "      <th>txtFornecedor</th>\n",
       "      <th>txtCNPJCPF</th>\n",
       "      <th>txtNumero</th>\n",
       "      <th>indTipoDocumento</th>\n",
       "      <th>datEmissao</th>\n",
       "      <th>vlrDocumento</th>\n",
       "      <th>vlrGlosa</th>\n",
       "      <th>vlrLiquido</th>\n",
       "      <th>numMes</th>\n",
       "      <th>numAno</th>\n",
       "      <th>numParcela</th>\n",
       "      <th>txtPassageiro</th>\n",
       "      <th>txtTrecho</th>\n",
       "      <th>numLote</th>\n",
       "      <th>numRessarcimento</th>\n",
       "      <th>vlrRestituicao</th>\n",
       "      <th>nuDeputadoId</th>\n",
       "      <th>ideDocumento</th>\n",
       "      <th>urlDocumento</th>\n",
       "    </tr>\n",
       "  </thead>\n",
       "  <tbody>\n",
       "    <tr>\n",
       "      <th>3134</th>\n",
       "      <td>Bacelar</td>\n",
       "      <td>1.062641e+10</td>\n",
       "      <td>69871.0</td>\n",
       "      <td>184.0</td>\n",
       "      <td>2019</td>\n",
       "      <td>BA</td>\n",
       "      <td>PV</td>\n",
       "      <td>56</td>\n",
       "      <td>998</td>\n",
       "      <td>PASSAGEM AÉREA - SIGEPA</td>\n",
       "      <td>0</td>\n",
       "      <td>NaN</td>\n",
       "      <td>GOL</td>\n",
       "      <td>NaN</td>\n",
       "      <td>RMQ2VW</td>\n",
       "      <td>0</td>\n",
       "      <td>2019-09-26T12:00:00</td>\n",
       "      <td>1423.46</td>\n",
       "      <td>0.0</td>\n",
       "      <td>1423.46</td>\n",
       "      <td>9</td>\n",
       "      <td>2019</td>\n",
       "      <td>0</td>\n",
       "      <td>JOAO CARLOS BACELAR BATISTA</td>\n",
       "      <td>SSA/BSB</td>\n",
       "      <td>0</td>\n",
       "      <td>0.0</td>\n",
       "      <td>NaN</td>\n",
       "      <td>2985</td>\n",
       "      <td>1205</td>\n",
       "      <td>NaN</td>\n",
       "    </tr>\n",
       "    <tr>\n",
       "      <th>3135</th>\n",
       "      <td>Bacelar</td>\n",
       "      <td>1.062641e+10</td>\n",
       "      <td>69871.0</td>\n",
       "      <td>184.0</td>\n",
       "      <td>2019</td>\n",
       "      <td>BA</td>\n",
       "      <td>PV</td>\n",
       "      <td>56</td>\n",
       "      <td>998</td>\n",
       "      <td>PASSAGEM AÉREA - SIGEPA</td>\n",
       "      <td>0</td>\n",
       "      <td>NaN</td>\n",
       "      <td>GOL</td>\n",
       "      <td>NaN</td>\n",
       "      <td>RMQ2VW</td>\n",
       "      <td>0</td>\n",
       "      <td>2019-10-01T12:00:00</td>\n",
       "      <td>-25.00</td>\n",
       "      <td>0.0</td>\n",
       "      <td>-25.00</td>\n",
       "      <td>10</td>\n",
       "      <td>2019</td>\n",
       "      <td>0</td>\n",
       "      <td>JOAO CARLOS BACELAR BATISTA</td>\n",
       "      <td>SSA/BSB</td>\n",
       "      <td>0</td>\n",
       "      <td>0.0</td>\n",
       "      <td>NaN</td>\n",
       "      <td>2985</td>\n",
       "      <td>1205</td>\n",
       "      <td>NaN</td>\n",
       "    </tr>\n",
       "    <tr>\n",
       "      <th>3136</th>\n",
       "      <td>Bacelar</td>\n",
       "      <td>1.062641e+10</td>\n",
       "      <td>69871.0</td>\n",
       "      <td>184.0</td>\n",
       "      <td>2019</td>\n",
       "      <td>BA</td>\n",
       "      <td>PV</td>\n",
       "      <td>56</td>\n",
       "      <td>998</td>\n",
       "      <td>PASSAGEM AÉREA - SIGEPA</td>\n",
       "      <td>0</td>\n",
       "      <td>NaN</td>\n",
       "      <td>GOL</td>\n",
       "      <td>NaN</td>\n",
       "      <td>RMQ2VW</td>\n",
       "      <td>0</td>\n",
       "      <td>2019-11-28T12:00:00</td>\n",
       "      <td>-1330.14</td>\n",
       "      <td>0.0</td>\n",
       "      <td>-1330.14</td>\n",
       "      <td>11</td>\n",
       "      <td>2019</td>\n",
       "      <td>0</td>\n",
       "      <td>JOAO CARLOS BACELAR BATISTA</td>\n",
       "      <td>BSB/BSB</td>\n",
       "      <td>0</td>\n",
       "      <td>0.0</td>\n",
       "      <td>NaN</td>\n",
       "      <td>2985</td>\n",
       "      <td>1205</td>\n",
       "      <td>NaN</td>\n",
       "    </tr>\n",
       "  </tbody>\n",
       "</table>\n",
       "</div>"
      ],
      "text/plain": [
       "     txNomeParlamentar           cpf  ideCadastro  nuCarteiraParlamentar  \\\n",
       "3134           Bacelar  1.062641e+10      69871.0                  184.0   \n",
       "3135           Bacelar  1.062641e+10      69871.0                  184.0   \n",
       "3136           Bacelar  1.062641e+10      69871.0                  184.0   \n",
       "\n",
       "      nuLegislatura sgUF sgPartido  codLegislatura  numSubCota  \\\n",
       "3134           2019   BA        PV              56         998   \n",
       "3135           2019   BA        PV              56         998   \n",
       "3136           2019   BA        PV              56         998   \n",
       "\n",
       "                 txtDescricao  numEspecificacaoSubCota  \\\n",
       "3134  PASSAGEM AÉREA - SIGEPA                        0   \n",
       "3135  PASSAGEM AÉREA - SIGEPA                        0   \n",
       "3136  PASSAGEM AÉREA - SIGEPA                        0   \n",
       "\n",
       "     txtDescricaoEspecificacao txtFornecedor txtCNPJCPF txtNumero  \\\n",
       "3134                       NaN           GOL        NaN    RMQ2VW   \n",
       "3135                       NaN           GOL        NaN    RMQ2VW   \n",
       "3136                       NaN           GOL        NaN    RMQ2VW   \n",
       "\n",
       "      indTipoDocumento           datEmissao  vlrDocumento  vlrGlosa  \\\n",
       "3134                 0  2019-09-26T12:00:00       1423.46       0.0   \n",
       "3135                 0  2019-10-01T12:00:00        -25.00       0.0   \n",
       "3136                 0  2019-11-28T12:00:00      -1330.14       0.0   \n",
       "\n",
       "      vlrLiquido  numMes  numAno  numParcela                txtPassageiro  \\\n",
       "3134     1423.46       9    2019           0  JOAO CARLOS BACELAR BATISTA   \n",
       "3135      -25.00      10    2019           0  JOAO CARLOS BACELAR BATISTA   \n",
       "3136    -1330.14      11    2019           0  JOAO CARLOS BACELAR BATISTA   \n",
       "\n",
       "     txtTrecho  numLote  numRessarcimento  vlrRestituicao  nuDeputadoId  \\\n",
       "3134   SSA/BSB        0               0.0             NaN          2985   \n",
       "3135   SSA/BSB        0               0.0             NaN          2985   \n",
       "3136   BSB/BSB        0               0.0             NaN          2985   \n",
       "\n",
       "      ideDocumento urlDocumento  \n",
       "3134          1205          NaN  \n",
       "3135          1205          NaN  \n",
       "3136          1205          NaN  "
      ]
     },
     "execution_count": 56,
     "metadata": {},
     "output_type": "execute_result"
    }
   ],
   "source": [
    "df[df['ideDocumento'] == sample['ideDocumento']]"
   ]
  },
  {
   "cell_type": "markdown",
   "id": "a9e8e5dc",
   "metadata": {},
   "source": [
    "Usando o `std` podemos entender o quanto nosso dado se desvia do 'esperado'. "
   ]
  },
  {
   "cell_type": "code",
   "execution_count": 58,
   "id": "fd98c86a",
   "metadata": {},
   "outputs": [
    {
     "data": {
      "text/plain": [
       "2083.6291823432825"
      ]
     },
     "execution_count": 58,
     "metadata": {},
     "output_type": "execute_result"
    }
   ],
   "source": [
    "df[\"vlrLiquido\"].std()"
   ]
  },
  {
   "cell_type": "markdown",
   "id": "1b9f33be",
   "metadata": {},
   "source": [
    "### Trabalhando com dados agrupados"
   ]
  },
  {
   "cell_type": "markdown",
   "id": "709f0296",
   "metadata": {},
   "source": [
    "Antes de tudo precisaremos converter o campo `datEmissao` para o formato `datetime` (como já fizemos anteriormente)"
   ]
  },
  {
   "cell_type": "code",
   "execution_count": 69,
   "id": "106e2736",
   "metadata": {},
   "outputs": [],
   "source": [
    "df[\"datEmissao\"] = pd.to_datetime(\n",
    "    df.datEmissao, \n",
    "    format='%Y-%m-%d'\n",
    ") "
   ]
  },
  {
   "cell_type": "markdown",
   "id": "ef80b4a1",
   "metadata": {},
   "source": [
    "Algumas coisas que podemos é agrupar os registros por datas, para isso iremos utilizar o `groupby` do pandas. \n",
    "\n",
    "Após isso, poderemos realizar diversos cálculos, como por exemplo, **somar todos os registros presentes em uma data especifica**."
   ]
  },
  {
   "cell_type": "code",
   "execution_count": 71,
   "id": "ae317ab4",
   "metadata": {},
   "outputs": [
    {
     "data": {
      "text/html": [
       "<div>\n",
       "<style scoped>\n",
       "    .dataframe tbody tr th:only-of-type {\n",
       "        vertical-align: middle;\n",
       "    }\n",
       "\n",
       "    .dataframe tbody tr th {\n",
       "        vertical-align: top;\n",
       "    }\n",
       "\n",
       "    .dataframe thead th {\n",
       "        text-align: right;\n",
       "    }\n",
       "</style>\n",
       "<table border=\"1\" class=\"dataframe\">\n",
       "  <thead>\n",
       "    <tr style=\"text-align: right;\">\n",
       "      <th></th>\n",
       "      <th>vlrLiquido</th>\n",
       "    </tr>\n",
       "    <tr>\n",
       "      <th>datEmissao</th>\n",
       "      <th></th>\n",
       "    </tr>\n",
       "  </thead>\n",
       "  <tbody>\n",
       "    <tr>\n",
       "      <th>2018-06-13</th>\n",
       "      <td>3420.40</td>\n",
       "    </tr>\n",
       "    <tr>\n",
       "      <th>2018-11-06</th>\n",
       "      <td>1079.00</td>\n",
       "    </tr>\n",
       "    <tr>\n",
       "      <th>2018-11-12</th>\n",
       "      <td>1347.18</td>\n",
       "    </tr>\n",
       "    <tr>\n",
       "      <th>2018-11-20</th>\n",
       "      <td>3923.15</td>\n",
       "    </tr>\n",
       "    <tr>\n",
       "      <th>2018-11-22</th>\n",
       "      <td>2.30</td>\n",
       "    </tr>\n",
       "    <tr>\n",
       "      <th>...</th>\n",
       "      <td>...</td>\n",
       "    </tr>\n",
       "    <tr>\n",
       "      <th>2020-03-12</th>\n",
       "      <td>3200.00</td>\n",
       "    </tr>\n",
       "    <tr>\n",
       "      <th>2020-03-17</th>\n",
       "      <td>3908.56</td>\n",
       "    </tr>\n",
       "    <tr>\n",
       "      <th>2020-03-19</th>\n",
       "      <td>30000.00</td>\n",
       "    </tr>\n",
       "    <tr>\n",
       "      <th>2020-03-23</th>\n",
       "      <td>37750.00</td>\n",
       "    </tr>\n",
       "    <tr>\n",
       "      <th>2020-03-30</th>\n",
       "      <td>8500.00</td>\n",
       "    </tr>\n",
       "  </tbody>\n",
       "</table>\n",
       "<p>14169 rows × 1 columns</p>\n",
       "</div>"
      ],
      "text/plain": [
       "            vlrLiquido\n",
       "datEmissao            \n",
       "2018-06-13     3420.40\n",
       "2018-11-06     1079.00\n",
       "2018-11-12     1347.18\n",
       "2018-11-20     3923.15\n",
       "2018-11-22        2.30\n",
       "...                ...\n",
       "2020-03-12     3200.00\n",
       "2020-03-17     3908.56\n",
       "2020-03-19    30000.00\n",
       "2020-03-23    37750.00\n",
       "2020-03-30     8500.00\n",
       "\n",
       "[14169 rows x 1 columns]"
      ]
     },
     "execution_count": 71,
     "metadata": {},
     "output_type": "execute_result"
    }
   ],
   "source": [
    "df.groupby('datEmissao')['vlrLiquido'].sum().to_frame()"
   ]
  },
  {
   "cell_type": "markdown",
   "id": "b66e12d4",
   "metadata": {},
   "source": [
    "O que mais podemos fazer com esse dados agrupados, é encontrar a **média** da soma diária de documentos fiscais:"
   ]
  },
  {
   "cell_type": "code",
   "execution_count": 72,
   "id": "0bcf32a5",
   "metadata": {},
   "outputs": [
    {
     "data": {
      "text/plain": [
       "14893.838109252076"
      ]
     },
     "execution_count": 72,
     "metadata": {},
     "output_type": "execute_result"
    }
   ],
   "source": [
    "df.groupby('datEmissao')['vlrLiquido'].sum().mean()"
   ]
  },
  {
   "cell_type": "markdown",
   "id": "040c8de0",
   "metadata": {},
   "source": [
    "Outros agrupamentos podem ser realizados, como o a seguir:"
   ]
  },
  {
   "cell_type": "code",
   "execution_count": 73,
   "id": "fb428ed3",
   "metadata": {},
   "outputs": [
    {
     "data": {
      "text/html": [
       "<div>\n",
       "<style scoped>\n",
       "    .dataframe tbody tr th:only-of-type {\n",
       "        vertical-align: middle;\n",
       "    }\n",
       "\n",
       "    .dataframe tbody tr th {\n",
       "        vertical-align: top;\n",
       "    }\n",
       "\n",
       "    .dataframe thead th {\n",
       "        text-align: right;\n",
       "    }\n",
       "</style>\n",
       "<table border=\"1\" class=\"dataframe\">\n",
       "  <thead>\n",
       "    <tr style=\"text-align: right;\">\n",
       "      <th></th>\n",
       "      <th>vlrLiquido</th>\n",
       "    </tr>\n",
       "    <tr>\n",
       "      <th>txtDescricao</th>\n",
       "      <th></th>\n",
       "    </tr>\n",
       "  </thead>\n",
       "  <tbody>\n",
       "    <tr>\n",
       "      <th>ASSINATURA DE PUBLICAÇÕES</th>\n",
       "      <td>275892.32</td>\n",
       "    </tr>\n",
       "    <tr>\n",
       "      <th>COMBUSTÍVEIS E LUBRIFICANTES.</th>\n",
       "      <td>16519513.53</td>\n",
       "    </tr>\n",
       "    <tr>\n",
       "      <th>CONSULTORIAS, PESQUISAS E TRABALHOS TÉCNICOS.</th>\n",
       "      <td>20457463.41</td>\n",
       "    </tr>\n",
       "    <tr>\n",
       "      <th>DIVULGAÇÃO DA ATIVIDADE PARLAMENTAR.</th>\n",
       "      <td>49187128.01</td>\n",
       "    </tr>\n",
       "    <tr>\n",
       "      <th>FORNECIMENTO DE ALIMENTAÇÃO DO PARLAMENTAR</th>\n",
       "      <td>1280375.53</td>\n",
       "    </tr>\n",
       "    <tr>\n",
       "      <th>HOSPEDAGEM ,EXCETO DO PARLAMENTAR NO DISTRITO FEDERAL.</th>\n",
       "      <td>1765518.07</td>\n",
       "    </tr>\n",
       "    <tr>\n",
       "      <th>LOCAÇÃO OU FRETAMENTO DE AERONAVES</th>\n",
       "      <td>1465615.00</td>\n",
       "    </tr>\n",
       "    <tr>\n",
       "      <th>LOCAÇÃO OU FRETAMENTO DE EMBARCAÇÕES</th>\n",
       "      <td>105850.00</td>\n",
       "    </tr>\n",
       "    <tr>\n",
       "      <th>LOCAÇÃO OU FRETAMENTO DE VEÍCULOS AUTOMOTORES</th>\n",
       "      <td>26508130.89</td>\n",
       "    </tr>\n",
       "    <tr>\n",
       "      <th>MANUTENÇÃO DE ESCRITÓRIO DE APOIO À ATIVIDADE PARLAMENTAR</th>\n",
       "      <td>23208609.49</td>\n",
       "    </tr>\n",
       "    <tr>\n",
       "      <th>PARTICIPAÇÃO EM CURSO, PALESTRA OU EVENTO SIMILAR</th>\n",
       "      <td>112048.70</td>\n",
       "    </tr>\n",
       "    <tr>\n",
       "      <th>PASSAGEM AÉREA - REEMBOLSO</th>\n",
       "      <td>3725716.84</td>\n",
       "    </tr>\n",
       "    <tr>\n",
       "      <th>PASSAGEM AÉREA - RPA</th>\n",
       "      <td>54963573.34</td>\n",
       "    </tr>\n",
       "    <tr>\n",
       "      <th>PASSAGEM AÉREA - SIGEPA</th>\n",
       "      <td>2844499.57</td>\n",
       "    </tr>\n",
       "    <tr>\n",
       "      <th>PASSAGENS TERRESTRES, MARÍTIMAS OU FLUVIAIS</th>\n",
       "      <td>136452.31</td>\n",
       "    </tr>\n",
       "    <tr>\n",
       "      <th>SERVIÇO DE SEGURANÇA PRESTADO POR EMPRESA ESPECIALIZADA.</th>\n",
       "      <td>1086086.94</td>\n",
       "    </tr>\n",
       "    <tr>\n",
       "      <th>SERVIÇO DE TÁXI, PEDÁGIO E ESTACIONAMENTO</th>\n",
       "      <td>924935.46</td>\n",
       "    </tr>\n",
       "    <tr>\n",
       "      <th>SERVIÇOS POSTAIS</th>\n",
       "      <td>1922305.37</td>\n",
       "    </tr>\n",
       "    <tr>\n",
       "      <th>TELEFONIA</th>\n",
       "      <td>4882802.45</td>\n",
       "    </tr>\n",
       "  </tbody>\n",
       "</table>\n",
       "</div>"
      ],
      "text/plain": [
       "                                                     vlrLiquido\n",
       "txtDescricao                                                   \n",
       "ASSINATURA DE PUBLICAÇÕES                             275892.32\n",
       "COMBUSTÍVEIS E LUBRIFICANTES.                       16519513.53\n",
       "CONSULTORIAS, PESQUISAS E TRABALHOS TÉCNICOS.       20457463.41\n",
       "DIVULGAÇÃO DA ATIVIDADE PARLAMENTAR.                49187128.01\n",
       "FORNECIMENTO DE ALIMENTAÇÃO DO PARLAMENTAR           1280375.53\n",
       "HOSPEDAGEM ,EXCETO DO PARLAMENTAR NO DISTRITO F...   1765518.07\n",
       "LOCAÇÃO OU FRETAMENTO DE AERONAVES                   1465615.00\n",
       "LOCAÇÃO OU FRETAMENTO DE EMBARCAÇÕES                  105850.00\n",
       "LOCAÇÃO OU FRETAMENTO DE VEÍCULOS AUTOMOTORES       26508130.89\n",
       "MANUTENÇÃO DE ESCRITÓRIO DE APOIO À ATIVIDADE P...  23208609.49\n",
       "PARTICIPAÇÃO EM CURSO, PALESTRA OU EVENTO SIMILAR     112048.70\n",
       "PASSAGEM AÉREA - REEMBOLSO                           3725716.84\n",
       "PASSAGEM AÉREA - RPA                                54963573.34\n",
       "PASSAGEM AÉREA - SIGEPA                              2844499.57\n",
       "PASSAGENS TERRESTRES, MARÍTIMAS OU FLUVIAIS           136452.31\n",
       "SERVIÇO DE SEGURANÇA PRESTADO POR EMPRESA ESPEC...   1086086.94\n",
       "SERVIÇO DE TÁXI, PEDÁGIO E ESTACIONAMENTO             924935.46\n",
       "SERVIÇOS POSTAIS                                     1922305.37\n",
       "TELEFONIA                                            4882802.45"
      ]
     },
     "execution_count": 73,
     "metadata": {},
     "output_type": "execute_result"
    }
   ],
   "source": [
    "df.groupby('txtDescricao')['vlrLiquido'].sum().to_frame()"
   ]
  },
  {
   "cell_type": "markdown",
   "id": "a2ba4c1c",
   "metadata": {},
   "source": [
    "Nesse agrupamento, encontramos qual o valor líquido total dos documentos, agrupados por descrição."
   ]
  },
  {
   "cell_type": "markdown",
   "id": "f38b175e",
   "metadata": {},
   "source": [
    "Perguntas mais complexas, como \"Quais os parlamentares que mais gastaram, a qual partido e a qual estado eles pertencem?\", também pode ser respondido agrupando os dados. "
   ]
  },
  {
   "cell_type": "code",
   "execution_count": 79,
   "id": "12c8ef1c",
   "metadata": {},
   "outputs": [
    {
     "data": {
      "text/html": [
       "<div>\n",
       "<style scoped>\n",
       "    .dataframe tbody tr th:only-of-type {\n",
       "        vertical-align: middle;\n",
       "    }\n",
       "\n",
       "    .dataframe tbody tr th {\n",
       "        vertical-align: top;\n",
       "    }\n",
       "\n",
       "    .dataframe thead th {\n",
       "        text-align: right;\n",
       "    }\n",
       "</style>\n",
       "<table border=\"1\" class=\"dataframe\">\n",
       "  <thead>\n",
       "    <tr style=\"text-align: right;\">\n",
       "      <th></th>\n",
       "      <th>sgPartido</th>\n",
       "      <th>sgUF</th>\n",
       "      <th>txNomeParlamentar</th>\n",
       "      <th>vlrLiquido</th>\n",
       "    </tr>\n",
       "  </thead>\n",
       "  <tbody>\n",
       "    <tr>\n",
       "      <th>368</th>\n",
       "      <td>PP</td>\n",
       "      <td>RR</td>\n",
       "      <td>Hiran Gonçalves</td>\n",
       "      <td>542487.76</td>\n",
       "    </tr>\n",
       "    <tr>\n",
       "      <th>61</th>\n",
       "      <td>MDB</td>\n",
       "      <td>AC</td>\n",
       "      <td>Jéssica Sales</td>\n",
       "      <td>537322.05</td>\n",
       "    </tr>\n",
       "    <tr>\n",
       "      <th>188</th>\n",
       "      <td>PDT</td>\n",
       "      <td>RS</td>\n",
       "      <td>Afonso Motta</td>\n",
       "      <td>537270.79</td>\n",
       "    </tr>\n",
       "    <tr>\n",
       "      <th>147</th>\n",
       "      <td>PCdoB</td>\n",
       "      <td>AC</td>\n",
       "      <td>Perpétua Almeida</td>\n",
       "      <td>536138.75</td>\n",
       "    </tr>\n",
       "    <tr>\n",
       "      <th>60</th>\n",
       "      <td>MDB</td>\n",
       "      <td>AC</td>\n",
       "      <td>Flaviano Melo</td>\n",
       "      <td>520071.45</td>\n",
       "    </tr>\n",
       "  </tbody>\n",
       "</table>\n",
       "</div>"
      ],
      "text/plain": [
       "    sgPartido sgUF txNomeParlamentar  vlrLiquido\n",
       "368        PP   RR   Hiran Gonçalves   542487.76\n",
       "61        MDB   AC     Jéssica Sales   537322.05\n",
       "188       PDT   RS      Afonso Motta   537270.79\n",
       "147     PCdoB   AC  Perpétua Almeida   536138.75\n",
       "60        MDB   AC     Flaviano Melo   520071.45"
      ]
     },
     "execution_count": 79,
     "metadata": {},
     "output_type": "execute_result"
    }
   ],
   "source": [
    "import numpy as np\n",
    "\n",
    "df.groupby(['sgPartido', 'sgUF', 'txNomeParlamentar'], as_index=False)\\\n",
    "    .aggregate({'vlrLiquido': np.sum})\\\n",
    "    .sort_values(by='vlrLiquido', ascending=False).head()"
   ]
  },
  {
   "cell_type": "markdown",
   "id": "a40e74ef",
   "metadata": {},
   "source": [
    "Por fim, último exemplo que podemos ver hoje é o caso de quais são os fornecedores mais presentes nas solicitações de reembolso. "
   ]
  },
  {
   "cell_type": "code",
   "execution_count": 80,
   "id": "c1171860",
   "metadata": {},
   "outputs": [
    {
     "data": {
      "text/html": [
       "<div>\n",
       "<style scoped>\n",
       "    .dataframe tbody tr th:only-of-type {\n",
       "        vertical-align: middle;\n",
       "    }\n",
       "\n",
       "    .dataframe tbody tr th {\n",
       "        vertical-align: top;\n",
       "    }\n",
       "\n",
       "    .dataframe thead th {\n",
       "        text-align: right;\n",
       "    }\n",
       "</style>\n",
       "<table border=\"1\" class=\"dataframe\">\n",
       "  <thead>\n",
       "    <tr style=\"text-align: right;\">\n",
       "      <th></th>\n",
       "      <th>txtCNPJCPF</th>\n",
       "      <th>txtFornecedor</th>\n",
       "      <th>vlrLiquido</th>\n",
       "    </tr>\n",
       "  </thead>\n",
       "  <tbody>\n",
       "    <tr>\n",
       "      <th>1912</th>\n",
       "      <td>020.128.620/0016-0</td>\n",
       "      <td>Cia Aérea - TAM</td>\n",
       "      <td>24922866.52</td>\n",
       "    </tr>\n",
       "    <tr>\n",
       "      <th>7240</th>\n",
       "      <td>075.756.510/0015-9</td>\n",
       "      <td>Cia Aérea - GOL</td>\n",
       "      <td>22007041.30</td>\n",
       "    </tr>\n",
       "    <tr>\n",
       "      <th>8971</th>\n",
       "      <td>092.962.950/0016-0</td>\n",
       "      <td>Cia Aérea - AZUL</td>\n",
       "      <td>6440767.66</td>\n",
       "    </tr>\n",
       "    <tr>\n",
       "      <th>6952</th>\n",
       "      <td>073.193.230/0019-1</td>\n",
       "      <td>PANTANAL VEÍCULOS LTDA</td>\n",
       "      <td>2181274.52</td>\n",
       "    </tr>\n",
       "    <tr>\n",
       "      <th>1917</th>\n",
       "      <td>020.128.620/0016-0</td>\n",
       "      <td>TAM LINHAS AEREAS S/A.</td>\n",
       "      <td>1172126.78</td>\n",
       "    </tr>\n",
       "    <tr>\n",
       "      <th>2612</th>\n",
       "      <td>025.758.290/0014-8</td>\n",
       "      <td>Cia Aérea - AVIANCA</td>\n",
       "      <td>1137800.63</td>\n",
       "    </tr>\n",
       "    <tr>\n",
       "      <th>16156</th>\n",
       "      <td>237.210.170/0013-3</td>\n",
       "      <td>T2 COMUNICACAO, VIDEO E PRODUCOES EIRELI - EPP</td>\n",
       "      <td>1097334.00</td>\n",
       "    </tr>\n",
       "    <tr>\n",
       "      <th>3</th>\n",
       "      <td>000.000.000/0000-1</td>\n",
       "      <td>CELULAR FUNCIONAL</td>\n",
       "      <td>872853.43</td>\n",
       "    </tr>\n",
       "    <tr>\n",
       "      <th>2528</th>\n",
       "      <td>025.581.570/0016-2</td>\n",
       "      <td>TELEFÔNICA BRASIL S.A. VIVO</td>\n",
       "      <td>860813.15</td>\n",
       "    </tr>\n",
       "    <tr>\n",
       "      <th>2646</th>\n",
       "      <td>026.102.350/0012-0</td>\n",
       "      <td>DMD Gestão Administrativa LTDA - ME</td>\n",
       "      <td>805000.00</td>\n",
       "    </tr>\n",
       "    <tr>\n",
       "      <th>17333</th>\n",
       "      <td>267.352.270/0017-9</td>\n",
       "      <td>GOLD CAR BRASILIA LOCADORA DE VEICULOS ME</td>\n",
       "      <td>766486.73</td>\n",
       "    </tr>\n",
       "    <tr>\n",
       "      <th>5576</th>\n",
       "      <td>054.434.490/0014-8</td>\n",
       "      <td>VERTICE - SOCIEDADE CIVIL DE PROFISSIONAIS ASS...</td>\n",
       "      <td>709867.00</td>\n",
       "    </tr>\n",
       "    <tr>\n",
       "      <th>7242</th>\n",
       "      <td>075.756.510/0015-9</td>\n",
       "      <td>GOL LINHAS AEREAS S.A.</td>\n",
       "      <td>618314.80</td>\n",
       "    </tr>\n",
       "    <tr>\n",
       "      <th>18202</th>\n",
       "      <td>288.007.860/0014-0</td>\n",
       "      <td>GP COBERTURA JORNALISTICA LTDA ME</td>\n",
       "      <td>513500.00</td>\n",
       "    </tr>\n",
       "    <tr>\n",
       "      <th>8029</th>\n",
       "      <td>083.456.310/0015-4</td>\n",
       "      <td>LIBRE COMUNICAÇÃO E MARKETING EIRELI</td>\n",
       "      <td>496000.00</td>\n",
       "    </tr>\n",
       "    <tr>\n",
       "      <th>12728</th>\n",
       "      <td>157.023.830/0011-7</td>\n",
       "      <td>RAMA AGENCIA DIGITAL LTDA</td>\n",
       "      <td>462450.00</td>\n",
       "    </tr>\n",
       "    <tr>\n",
       "      <th>10919</th>\n",
       "      <td>121.328.540/0010-0</td>\n",
       "      <td>WMS COMERCIO DE ARTIGOS DE PAPELARIA LTDA-ME</td>\n",
       "      <td>455316.20</td>\n",
       "    </tr>\n",
       "    <tr>\n",
       "      <th>740</th>\n",
       "      <td>005.127.770/0013-5</td>\n",
       "      <td>Cia Aérea - PASSAREDO</td>\n",
       "      <td>455097.23</td>\n",
       "    </tr>\n",
       "    <tr>\n",
       "      <th>8488</th>\n",
       "      <td>088.656.150/0019-2</td>\n",
       "      <td>WORKING ASSOCIACAO DE INTEGRACAO PROFISSIONAL</td>\n",
       "      <td>445200.00</td>\n",
       "    </tr>\n",
       "    <tr>\n",
       "      <th>10635</th>\n",
       "      <td>116.303.180/0017-2</td>\n",
       "      <td>LINDERLANDIO BARBOSA ME</td>\n",
       "      <td>405850.00</td>\n",
       "    </tr>\n",
       "  </tbody>\n",
       "</table>\n",
       "</div>"
      ],
      "text/plain": [
       "               txtCNPJCPF                                      txtFornecedor  \\\n",
       "1912   020.128.620/0016-0                                    Cia Aérea - TAM   \n",
       "7240   075.756.510/0015-9                                    Cia Aérea - GOL   \n",
       "8971   092.962.950/0016-0                                   Cia Aérea - AZUL   \n",
       "6952   073.193.230/0019-1                             PANTANAL VEÍCULOS LTDA   \n",
       "1917   020.128.620/0016-0                             TAM LINHAS AEREAS S/A.   \n",
       "2612   025.758.290/0014-8                                Cia Aérea - AVIANCA   \n",
       "16156  237.210.170/0013-3     T2 COMUNICACAO, VIDEO E PRODUCOES EIRELI - EPP   \n",
       "3      000.000.000/0000-1                                  CELULAR FUNCIONAL   \n",
       "2528   025.581.570/0016-2                        TELEFÔNICA BRASIL S.A. VIVO   \n",
       "2646   026.102.350/0012-0                DMD Gestão Administrativa LTDA - ME   \n",
       "17333  267.352.270/0017-9          GOLD CAR BRASILIA LOCADORA DE VEICULOS ME   \n",
       "5576   054.434.490/0014-8  VERTICE - SOCIEDADE CIVIL DE PROFISSIONAIS ASS...   \n",
       "7242   075.756.510/0015-9                             GOL LINHAS AEREAS S.A.   \n",
       "18202  288.007.860/0014-0                  GP COBERTURA JORNALISTICA LTDA ME   \n",
       "8029   083.456.310/0015-4               LIBRE COMUNICAÇÃO E MARKETING EIRELI   \n",
       "12728  157.023.830/0011-7                          RAMA AGENCIA DIGITAL LTDA   \n",
       "10919  121.328.540/0010-0       WMS COMERCIO DE ARTIGOS DE PAPELARIA LTDA-ME   \n",
       "740    005.127.770/0013-5                              Cia Aérea - PASSAREDO   \n",
       "8488   088.656.150/0019-2      WORKING ASSOCIACAO DE INTEGRACAO PROFISSIONAL   \n",
       "10635  116.303.180/0017-2                            LINDERLANDIO BARBOSA ME   \n",
       "\n",
       "        vlrLiquido  \n",
       "1912   24922866.52  \n",
       "7240   22007041.30  \n",
       "8971    6440767.66  \n",
       "6952    2181274.52  \n",
       "1917    1172126.78  \n",
       "2612    1137800.63  \n",
       "16156   1097334.00  \n",
       "3        872853.43  \n",
       "2528     860813.15  \n",
       "2646     805000.00  \n",
       "17333    766486.73  \n",
       "5576     709867.00  \n",
       "7242     618314.80  \n",
       "18202    513500.00  \n",
       "8029     496000.00  \n",
       "12728    462450.00  \n",
       "10919    455316.20  \n",
       "740      455097.23  \n",
       "8488     445200.00  \n",
       "10635    405850.00  "
      ]
     },
     "execution_count": 80,
     "metadata": {},
     "output_type": "execute_result"
    }
   ],
   "source": [
    "df.groupby([\"txtCNPJCPF\", \"txtFornecedor\"], as_index=False) \\\n",
    "    .agg({'vlrLiquido': np.nansum})\\\n",
    "    .sort_values(by='vlrLiquido', ascending=False)[0:20]"
   ]
  },
  {
   "cell_type": "markdown",
   "id": "644512e6",
   "metadata": {},
   "source": [
    "## Aula 07: Dados da Receita Federal"
   ]
  },
  {
   "cell_type": "markdown",
   "id": "3e91ef9d",
   "metadata": {},
   "source": [
    "Referencias:\n",
    "\n",
    "- http://receita.economia.gov.br/sobre/acordos-e-convenios/compartilhamento-de-bases-de-dados-2013-decreto-no-8-789-2016/leiaute-das-bases/dados-da-base-cnpj\n",
    "- http://200.152.38.155/CNPJ/LAYOUT_DADOS_ABERTOS_CNPJ.pdf\n",
    "\n",
    "\n",
    "situation (Situação cadastral)\n",
    "\n",
    "    1 – NULA: o CNPJ torna-se inválido, seja por inconformidade de dados, fraudes ou outros motivos.\n",
    "    2 – ATIVA: significa que a empresa está em dia com todas as suas pendências, não há nenhuma irregularidade e os pagamentos estão em dia;\n",
    "    3 – SUSPENSA: a empresa tem pendências com a Receita Federal, não cumpriu com suas obrigações ou pagamentos ou está sendo investigada por possível fraude;\n",
    "    4 – INAPTA: a empresa está a dois anos ou mais com suspensão e não apresentou os devidos dados contábeis;\n",
    "    8 – BAIXADA: a empresa foi extinta, seja por solicitação dos sócios ou por ação da Receita;\n",
    "    \n",
    "    \n",
    "situation_date (Data da situação cadastral): DATA DO EVENTO DA SITUACAO CADASTRAL"
   ]
  },
  {
   "cell_type": "code",
   "execution_count": null,
   "id": "8bd54633",
   "metadata": {},
   "outputs": [],
   "source": [
    "DTYPE = {\n",
    "    'cnpj': str,\n",
    "}\n",
    "\n",
    "df_empresas = pd.read_csv(\n",
    "    '2019-11-19-companies.csv.xz', \n",
    "    compression='xz',\n",
    "    dtype=DTYPE,  \n",
    ")\n",
    "df_empresas.head(1)"
   ]
  },
  {
   "cell_type": "code",
   "execution_count": null,
   "id": "b37a6a71",
   "metadata": {},
   "outputs": [],
   "source": [
    "df_empresas['situation_date'] = pd.to_datetime(\n",
    "    df_empresas['situation_date'], \n",
    "    format=\"%Y-%m-%d\"\n",
    ")"
   ]
  },
  {
   "cell_type": "code",
   "execution_count": null,
   "id": "fe66149b",
   "metadata": {},
   "outputs": [],
   "source": [
    "df_empresas[\"cnpj\"] = df_empresas[\"cnpj\"].str.replace(r'\\D', '', regex=True)"
   ]
  },
  {
   "cell_type": "markdown",
   "id": "ce90ab8d",
   "metadata": {},
   "source": [
    "## Aula 8: Receita Federal e CEAP"
   ]
  },
  {
   "cell_type": "code",
   "execution_count": null,
   "id": "7b86ed96",
   "metadata": {},
   "outputs": [],
   "source": [
    "df_final = df_reimbursements.merge(\n",
    "    df_empresas,\n",
    "    how='left',\n",
    "    left_on='txtCNPJCPF',\n",
    "    right_on='cnpj'\n",
    ")"
   ]
  },
  {
   "cell_type": "markdown",
   "id": "f4f63b07",
   "metadata": {},
   "source": [
    "### Exportando o resultado"
   ]
  },
  {
   "cell_type": "code",
   "execution_count": null,
   "id": "8cd4db3d",
   "metadata": {},
   "outputs": [],
   "source": [
    "df_reimbursements.to_csv('reembolso-2019-completo.csv')"
   ]
  }
 ],
 "metadata": {
  "kernelspec": {
   "display_name": "Python 3 (ipykernel)",
   "language": "python",
   "name": "python3"
  },
  "language_info": {
   "codemirror_mode": {
    "name": "ipython",
    "version": 3
   },
   "file_extension": ".py",
   "mimetype": "text/x-python",
   "name": "python",
   "nbconvert_exporter": "python",
   "pygments_lexer": "ipython3",
   "version": "3.8.11"
  },
  "toc": {
   "base_numbering": 1,
   "nav_menu": {},
   "number_sections": true,
   "sideBar": true,
   "skip_h1_title": false,
   "title_cell": "Table of Contents",
   "title_sidebar": "Contents",
   "toc_cell": false,
   "toc_position": {
    "height": "calc(100% - 180px)",
    "left": "10px",
    "top": "150px",
    "width": "165px"
   },
   "toc_section_display": true,
   "toc_window_display": true
  }
 },
 "nbformat": 4,
 "nbformat_minor": 5
}
